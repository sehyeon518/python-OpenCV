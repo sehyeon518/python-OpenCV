{
 "cells": [
  {
   "cell_type": "markdown",
   "metadata": {},
   "source": [
    "# 예제 6.10 morphologyEx() 모폴로지 연산"
   ]
  },
  {
   "cell_type": "code",
   "execution_count": 1,
   "metadata": {},
   "outputs": [],
   "source": [
    "import cv2\n",
    "import numpy as np\n",
    "\n",
    "src = cv2.imread('../sample/morphology.png', cv2.IMREAD_GRAYSCALE)"
   ]
  },
  {
   "cell_type": "markdown",
   "metadata": {},
   "source": [
    "### <span style='background-color:#fff5b1'>cv2.morphologyEx(src, op, kernel, iterations)</span>\n",
    "src에 kernel을 적용하여 op 연산을 iterations만큼 반복 \\\n",
    "**cv2.MORPH_OPEN** 물체 속의 잡음 제거 \\\n",
    "**cv2.MORPH_CLOSE** 배경의 잡음 제거 \\\n",
    "**cv2.MORPH_GRADIENT** 물체의 테두리 검출 \\\n",
    "**cv2.MORPH_TOPHAT** 배경 속 잡음 검출 \\\n",
    "**cv2.MORPH_BLACKHAT** 물체 속 잡음 검출"
   ]
  },
  {
   "cell_type": "code",
   "execution_count": 2,
   "metadata": {},
   "outputs": [],
   "source": [
    "kernel = cv2.getStructuringElement(shape = cv2.MORPH_RECT, ksize = (3, 3))\n",
    "closing = cv2.morphologyEx(src, cv2.MORPH_CLOSE, kernel, iterations = 5)\n",
    "opening = cv2.morphologyEx(closing, cv2.MORPH_OPEN, kernel, iterations = 5)\n",
    "gradient = cv2.morphologyEx(opening, cv2.MORPH_GRADIENT, kernel)\n",
    "tophat = cv2.morphologyEx(src, cv2.MORPH_TOPHAT, kernel, iterations = 5)\n",
    "blackhat = cv2.morphologyEx(src, cv2.MORPH_BLACKHAT, kernel, iterations = 5)"
   ]
  },
  {
   "cell_type": "code",
   "execution_count": 3,
   "metadata": {},
   "outputs": [],
   "source": [
    "cv2.imshow('opening', opening)\n",
    "cv2.imshow('closing', closing)\n",
    "cv2.imshow('gradient', gradient)\n",
    "cv2.imshow('tophat', tophat)\n",
    "cv2.imshow('blackhat', blackhat)\n",
    "cv2.waitKey()\n",
    "cv2.destroyAllWindows()"
   ]
  }
 ],
 "metadata": {
  "kernelspec": {
   "display_name": "Python 3.10.6 64-bit",
   "language": "python",
   "name": "python3"
  },
  "language_info": {
   "codemirror_mode": {
    "name": "ipython",
    "version": 3
   },
   "file_extension": ".py",
   "mimetype": "text/x-python",
   "name": "python",
   "nbconvert_exporter": "python",
   "pygments_lexer": "ipython3",
   "version": "3.10.6"
  },
  "orig_nbformat": 4,
  "vscode": {
   "interpreter": {
    "hash": "916dbcbb3f70747c44a77c7bcd40155683ae19c65e1c03b4aa3499c5328201f1"
   }
  }
 },
 "nbformat": 4,
 "nbformat_minor": 2
}
