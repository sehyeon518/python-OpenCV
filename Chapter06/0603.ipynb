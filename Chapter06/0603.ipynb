{
 "cells": [
  {
   "cell_type": "markdown",
   "metadata": {},
   "source": [
    "# 예제 6.3 Sobel 필터 1\n",
    "## 미분 필터 -> 영상을 선명하게 하거나 edge를 검출함\n",
    "**cv2.filter2D** 커널을 사용하여 직접 편미분 계산\n",
    "**cv2.Sobel** Sobel 연산자에 의한 편미분 계산\n",
    "### <span style='background-color:#000a4e'>cv2.Sobel(src, ddepth, dx, dy, ksize)</span>\n",
    "dst는 src와 같은 채널, 같은 크기임 \\\n",
    "**ddepth** -1이면 src와 같은 화소 구조\n",
    "**dx, dy**는 각각 축 미분 차수\n",
    "**ksize** 윈도우 필터 크기(보통 1, 3, 5, 7)"
   ]
  },
  {
   "cell_type": "code",
   "execution_count": 1,
   "metadata": {},
   "outputs": [],
   "source": [
    "import cv2\n",
    "import numpy as np\n",
    "\n",
    "src = cv2.imread('../sample/lena.png', cv2.IMREAD_GRAYSCALE)"
   ]
  },
  {
   "cell_type": "markdown",
   "metadata": {},
   "source": [
    "gx는 3 * 3 크기의 커널을 x-축 편미분한 것\n",
    "gy는 3 * 3 크기의 커널을 y-축 편미분한 것"
   ]
  },
  {
   "cell_type": "code",
   "execution_count": 2,
   "metadata": {},
   "outputs": [],
   "source": [
    "gx = cv2.Sobel(src, cv2.CV_32F, 1, 0, ksize = 3)\n",
    "gy = cv2.Sobel(src, cv2.CV_32F, 0, 1, ksize = 3)\n",
    "cv2.imshow('gx', gx)\n",
    "cv2.imshow('gy', gy)\n",
    "cv2.waitKey()\n",
    "cv2.destroyAllWindows()"
   ]
  },
  {
   "cell_type": "code",
   "execution_count": 3,
   "metadata": {},
   "outputs": [],
   "source": [
    "dstX = cv2.sqrt(np.abs(gx))\n",
    "cv2.imshow('gx', gx)\n",
    "cv2.waitKey()\n",
    "cv2.destroyAllWindows()\n",
    "dstX = cv2.normalize(dstX, None, 0, 255, cv2.NORM_MINMAX, dtype = cv2.CV_8U)\n",
    "cv2.imshow('gx', gx)\n",
    "cv2.waitKey()\n",
    "cv2.destroyAllWindows()"
   ]
  },
  {
   "cell_type": "code",
   "execution_count": 4,
   "metadata": {},
   "outputs": [],
   "source": [
    "dstY = cv2.sqrt(np.abs(gy))\n",
    "cv2.imshow('gy', gy)\n",
    "cv2.waitKey()\n",
    "cv2.destroyAllWindows()\n",
    "dstY = cv2.normalize(dstY, None, 0, 255, cv2.NORM_MINMAX, dtype = cv2.CV_8U)\n",
    "cv2.imshow('gy', gy)\n",
    "cv2.waitKey()\n",
    "cv2.destroyAllWindows()"
   ]
  },
  {
   "cell_type": "code",
   "execution_count": 5,
   "metadata": {},
   "outputs": [
    {
     "data": {
      "text/plain": [
       "(0.0, 672.8714599609375, (0, 0), (118, 274))"
      ]
     },
     "execution_count": 5,
     "metadata": {},
     "output_type": "execute_result"
    }
   ],
   "source": [
    "mag = cv2.magnitude(gx, gy)\n",
    "minVal, maxVal, minLoc, maxLoc = cv2.minMaxLoc(mag)\n",
    "minVal, maxVal, minLoc, maxLoc"
   ]
  },
  {
   "cell_type": "code",
   "execution_count": 6,
   "metadata": {},
   "outputs": [],
   "source": [
    "dstM = cv2.normalize(mag, None, 0, 255, cv2.NORM_MINMAX, dtype = cv2.CV_8U)"
   ]
  },
  {
   "cell_type": "code",
   "execution_count": 7,
   "metadata": {},
   "outputs": [],
   "source": [
    "cv2.imshow('src', src)\n",
    "cv2.imshow('dstX', dstX)\n",
    "cv2.imshow('dstY', dstY)\n",
    "cv2.imshow('dstM', dstM)\n",
    "cv2.waitKey()\n",
    "cv2.destroyAllWindows()"
   ]
  }
 ],
 "metadata": {
  "kernelspec": {
   "display_name": "Python 3.10.6 64-bit",
   "language": "python",
   "name": "python3"
  },
  "language_info": {
   "codemirror_mode": {
    "name": "ipython",
    "version": 3
   },
   "file_extension": ".py",
   "mimetype": "text/x-python",
   "name": "python",
   "nbconvert_exporter": "python",
   "pygments_lexer": "ipython3",
   "version": "3.10.6"
  },
  "orig_nbformat": 4,
  "vscode": {
   "interpreter": {
    "hash": "916dbcbb3f70747c44a77c7bcd40155683ae19c65e1c03b4aa3499c5328201f1"
   }
  }
 },
 "nbformat": 4,
 "nbformat_minor": 2
}
