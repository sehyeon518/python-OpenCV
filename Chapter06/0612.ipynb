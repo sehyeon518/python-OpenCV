{
 "cells": [
  {
   "cell_type": "markdown",
   "metadata": {},
   "source": [
    "# 예제 6.12\n",
    "## 템플릿 매칭\n",
    "참조 영상에서 템플릿 영상과의 매칭 위치를 탐색하는 방법 -> 물체 인식, 대응점 검출 등에 사용"
   ]
  },
  {
   "cell_type": "code",
   "execution_count": 1,
   "metadata": {},
   "outputs": [],
   "source": [
    "import cv2\n",
    "import numpy as np\n",
    "\n",
    "src = cv2.imread('../sample/lena.png', cv2.IMREAD_GRAYSCALE)"
   ]
  },
  {
   "cell_type": "markdown",
   "metadata": {},
   "source": [
    "### <span style='background-color:#fff5b1'>cv2.matchTemplate(image, templ, method)</span>\n",
    "**cv2.TM_SQDIFF** T를 I에서 이동시켜가며 차이의 제곱 합계 계산 -> 매칭되는 위치에서 작은 값 \\\n",
    "**cv2.TM_SQDIFF_NORMED** 정규화 \\\n",
    "**cv2.TM_CCORR** T를 I에서 이동시켜가며 곱의 합계 계산 -> 매칭되는 위치에서 큰 값 \\\n",
    "**cv2.TM_CCORR_NORMED** 정규화 \\\n",
    "**cv2.TM_CCOEFF** T의 각 요소값에서 평균을 뺄셈한 변환 템플릿과 대응디는 위치에서 I의 각 요소값에서 평균을 뺄셈하여 비교 -> 매칭되는 위치에서 큰 값 \\\n",
    "**cv2.TM_CCOEFF_NORMED** 정규화"
   ]
  }
 ],
 "metadata": {
  "kernelspec": {
   "display_name": "Python 3.10.6 64-bit",
   "language": "python",
   "name": "python3"
  },
  "language_info": {
   "codemirror_mode": {
    "name": "ipython",
    "version": 3
   },
   "file_extension": ".py",
   "mimetype": "text/x-python",
   "name": "python",
   "nbconvert_exporter": "python",
   "pygments_lexer": "ipython3",
   "version": "3.10.6"
  },
  "orig_nbformat": 4,
  "vscode": {
   "interpreter": {
    "hash": "916dbcbb3f70747c44a77c7bcd40155683ae19c65e1c03b4aa3499c5328201f1"
   }
  }
 },
 "nbformat": 4,
 "nbformat_minor": 2
}
