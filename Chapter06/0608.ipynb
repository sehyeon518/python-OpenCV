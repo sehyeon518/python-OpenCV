{
 "cells": [
  {
   "cell_type": "markdown",
   "metadata": {},
   "source": [
    "# 예제 6.8 LoG 필터링, 0-교차 에지 영상"
   ]
  },
  {
   "cell_type": "code",
   "execution_count": 1,
   "metadata": {},
   "outputs": [],
   "source": [
    "import cv2\n",
    "import numpy as np\n",
    "\n",
    "src = cv2.imread('../sample/lena.png', cv2.IMREAD_GRAYSCALE)"
   ]
  },
  {
   "cell_type": "markdown",
   "metadata": {},
   "source": [
    "### <span style='background-color:#fff5b1'>필터 생성</span>"
   ]
  },
  {
   "cell_type": "code",
   "execution_count": 2,
   "metadata": {},
   "outputs": [],
   "source": [
    "def logFilter(ksize = 7):\n",
    "    k2 = ksize // 2\n",
    "    sigma = 0.3 * (k2 - 1) + 0.8\n",
    "    print('sigma =', sigma)\n",
    "    LoG = np.zeros((ksize, ksize), dtype = np.float32)\n",
    "    for y in range(-k2, k2 + 1):\n",
    "        for x in range(-k2, k2 + 1):\n",
    "            g = -(x * x + y * y) / (2.0 * sigma ** 2.0)\n",
    "            LoG[y + k2, x + k2] = -(1.0 + g) * np.exp(g) / (np.pi * sigma ** 4.0)\n",
    "    return LoG"
   ]
  },
  {
   "cell_type": "markdown",
   "metadata": {},
   "source": [
    "### <span style='background-color:#fff5b1'>가우시안 라플라시안 필터 생성</span>"
   ]
  },
  {
   "cell_type": "code",
   "execution_count": 3,
   "metadata": {},
   "outputs": [
    {
     "name": "stdout",
     "output_type": "stream",
     "text": [
      "sigma = 1.4\n"
     ]
    }
   ],
   "source": [
    "kernel = logFilter()\n",
    "LoG = cv2.filter2D(src, cv2.CV_32F, kernel)"
   ]
  },
  {
   "cell_type": "markdown",
   "metadata": {},
   "source": [
    "### <span style='background-color:#fff5b1'>0-교차점 판단</span>\n",
    "이웃 화소에서 임계값을 이용하여 판단"
   ]
  },
  {
   "cell_type": "code",
   "execution_count": 4,
   "metadata": {},
   "outputs": [],
   "source": [
    "def zeroCrossing2(lap, thresh = 0.01):\n",
    "    height, width = lap.shape\n",
    "    Z = np.zeros(lap.shape, dtype = np.uint8)\n",
    "    for y in range(1, height - 1):\n",
    "        for x in range(1, width - 1):\n",
    "            neighbors = [lap[y - 1, x], lap[y + 1, x],\n",
    "                         lap[y, x - 1], lap[y, x + 1],\n",
    "                         lap[y - 1, x - 1], lap[y - 1, x + 1],\n",
    "                         lap[y + 1, x - 1], lap[y + 1, x + 1]]\n",
    "            pos = 0\n",
    "            neg = 0\n",
    "            for value in neighbors:\n",
    "                if value > thresh:\n",
    "                    pos += 1\n",
    "                if value < -thresh:\n",
    "                    neg += 1\n",
    "                if pos > 0 and neg > 0:\n",
    "                    Z[y, x] = 255\n",
    "    return Z"
   ]
  },
  {
   "cell_type": "code",
   "execution_count": 5,
   "metadata": {},
   "outputs": [],
   "source": [
    "cv2.imshow('LoG', LoG)\n",
    "edgeZ = zeroCrossing2(LoG)\n",
    "cv2.imshow('Zero Crossing2', edgeZ)\n",
    "cv2.waitKey()\n",
    "cv2.destroyAllWindows()"
   ]
  }
 ],
 "metadata": {
  "kernelspec": {
   "display_name": "Python 3.10.6 64-bit",
   "language": "python",
   "name": "python3"
  },
  "language_info": {
   "codemirror_mode": {
    "name": "ipython",
    "version": 3
   },
   "file_extension": ".py",
   "mimetype": "text/x-python",
   "name": "python",
   "nbconvert_exporter": "python",
   "pygments_lexer": "ipython3",
   "version": "3.10.6"
  },
  "orig_nbformat": 4,
  "vscode": {
   "interpreter": {
    "hash": "916dbcbb3f70747c44a77c7bcd40155683ae19c65e1c03b4aa3499c5328201f1"
   }
  }
 },
 "nbformat": 4,
 "nbformat_minor": 2
}
