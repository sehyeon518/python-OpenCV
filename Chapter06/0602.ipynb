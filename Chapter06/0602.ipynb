{
 "cells": [
  {
   "cell_type": "markdown",
   "metadata": {},
   "source": [
    "# 예제 6.2 미디안 필터, 블러, 가우시안 필터"
   ]
  },
  {
   "cell_type": "code",
   "execution_count": 1,
   "metadata": {},
   "outputs": [],
   "source": [
    "import cv2\n",
    "import numpy as np\n",
    "\n",
    "src = cv2.imread('../sample/lena.png', cv2.IMREAD_GRAYSCALE)"
   ]
  },
  {
   "cell_type": "markdown",
   "metadata": {},
   "source": [
    "## 미디안 필터\n",
    "### <span style='background-color:#000a4e'>cv2.medianBlur(src, ksize)</span>\n",
    "ksize * ksize 크기의 필터를 사용하여 median을 계산한다"
   ]
  },
  {
   "cell_type": "code",
   "execution_count": 2,
   "metadata": {},
   "outputs": [],
   "source": [
    "dst1 = cv2.medianBlur(src, ksize = 7)"
   ]
  },
  {
   "cell_type": "markdown",
   "metadata": {},
   "source": [
    "##  블러\n",
    "### <span style='background-color:#000a4e'>cv2.blur(src, ksize)</span>\n",
    "ksize 내부의 합계를 계산하고 커널 크기로 정규화한다"
   ]
  },
  {
   "cell_type": "code",
   "execution_count": 3,
   "metadata": {},
   "outputs": [],
   "source": [
    "dst2 = cv2.blur(src, ksize = (7,7))"
   ]
  },
  {
   "cell_type": "markdown",
   "metadata": {},
   "source": [
    "## 가우시안 필터\n",
    "### <span style='background-color:#000a4e'>cv2.GaussianBlur</span>"
   ]
  },
  {
   "cell_type": "code",
   "execution_count": 4,
   "metadata": {},
   "outputs": [],
   "source": [
    "dst3 = cv2.GaussianBlur(src, ksize=(7,7), sigmaX = 0.0)\n",
    "dst4 = cv2.GaussianBlur(src, ksize=(7,7), sigmaX = 10.0)"
   ]
  },
  {
   "cell_type": "markdown",
   "metadata": {},
   "source": [
    "## 전체 비교"
   ]
  },
  {
   "cell_type": "code",
   "execution_count": 5,
   "metadata": {},
   "outputs": [],
   "source": [
    "cv2.imshow('src', src)\n",
    "cv2.imshow('dst1', dst1)\n",
    "cv2.imshow('dst2', dst2)\n",
    "cv2.imshow('dst3', dst3)\n",
    "cv2.imshow('dst4', dst4)\n",
    "cv2.waitKey()\n",
    "cv2.destroyAllWindows()"
   ]
  }
 ],
 "metadata": {
  "kernelspec": {
   "display_name": "Python 3.10.6 64-bit",
   "language": "python",
   "name": "python3"
  },
  "language_info": {
   "codemirror_mode": {
    "name": "ipython",
    "version": 3
   },
   "file_extension": ".py",
   "mimetype": "text/x-python",
   "name": "python",
   "nbconvert_exporter": "python",
   "pygments_lexer": "ipython3",
   "version": "3.10.6"
  },
  "orig_nbformat": 4,
  "vscode": {
   "interpreter": {
    "hash": "916dbcbb3f70747c44a77c7bcd40155683ae19c65e1c03b4aa3499c5328201f1"
   }
  }
 },
 "nbformat": 4,
 "nbformat_minor": 2
}
