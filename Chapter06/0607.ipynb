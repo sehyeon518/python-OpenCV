{
 "cells": [
  {
   "cell_type": "markdown",
   "metadata": {},
   "source": [
    "# 예제 6.7 cv2.filter2D()와 cv2.sepFilter2D()에 의한 에지 검출\n",
    "### <span style='background-color:#fff5b1'>cv2.filter2D(src, ddepth, kernel, anchor, borderType)</span>\n",
    "**kernel** 1-채널 실수 배열로 src의 모든 채널에 동일하게 적용된다 \\\n",
    "**anchor** 커널의 중심점(kernel 내의 위치)\n",
    "### <span style='background-color:#fff5b1'>cv2.sepFilter2D(src, ddepth, kernelX, kernelY, anchor, borderType)</span>\n",
    "분리 가능한 선형 필터 kernelX, kernelY 적용하기\n",
    "\n",
    "src의 각행에 커널 kernelX 적용한 결과의 각 열에 커널 kernelY를 적용하여 필터링한다"
   ]
  },
  {
   "cell_type": "code",
   "execution_count": 1,
   "metadata": {},
   "outputs": [
    {
     "data": {
      "text/plain": [
       "array([[255, 255, 255, ..., 255, 255, 255],\n",
       "       [255, 255, 255, ..., 255, 255, 255],\n",
       "       [255, 255, 255, ..., 255, 255, 255],\n",
       "       ...,\n",
       "       [255, 255, 255, ..., 255, 255, 255],\n",
       "       [255, 255, 255, ..., 255, 255, 255],\n",
       "       [255, 255, 255, ..., 255, 255, 255]], dtype=uint8)"
      ]
     },
     "execution_count": 1,
     "metadata": {},
     "output_type": "execute_result"
    }
   ],
   "source": [
    "import cv2\n",
    "import numpy as np\n",
    "\n",
    "src = np.zeros(shape = (512, 512), dtype = np.uint8) + 255\n",
    "cv2.rectangle(src, (100,100), (400,400), 0, 2)"
   ]
  },
  {
   "cell_type": "markdown",
   "metadata": {},
   "source": [
    "### <span style='background-color:#fff5b1'>cv2.getDerivKernels(dx, dy, ksize)</span>\n",
    "미분 선형 필터 생성"
   ]
  },
  {
   "cell_type": "code",
   "execution_count": 2,
   "metadata": {},
   "outputs": [
    {
     "name": "stdout",
     "output_type": "stream",
     "text": [
      "[[-1.]\n",
      " [ 0.]\n",
      " [ 1.]]\n",
      "[[1.]\n",
      " [2.]\n",
      " [1.]]\n",
      "[[-1.  0.  1.]\n",
      " [-2.  0.  2.]\n",
      " [-1.  0.  1.]]\n"
     ]
    }
   ],
   "source": [
    "kx, ky = cv2.getDerivKernels(1, 0, ksize = 3)\n",
    "sobelX = ky.dot(kx.T)\n",
    "print(kx)\n",
    "print(ky)\n",
    "print(sobelX)"
   ]
  },
  {
   "cell_type": "code",
   "execution_count": 3,
   "metadata": {},
   "outputs": [],
   "source": [
    "gx = cv2.filter2D(src, cv2.CV_32F, sobelX)\n",
    "\n",
    "kx, ky = cv2.getDerivKernels(0, 1, ksize = 3)\n",
    "sobelY = ky.dot(kx.T)\n",
    "gy = cv2.filter2D(src, cv2.CV_32F, sobelY)"
   ]
  },
  {
   "cell_type": "code",
   "execution_count": 4,
   "metadata": {},
   "outputs": [],
   "source": [
    "mag = cv2.magnitude(gx, gy)\n",
    "ret, edge = cv2.threshold(mag, 100, 255, cv2.THRESH_BINARY)\n",
    "\n",
    "cv2.imshow('edge', edge)\n",
    "cv2.waitKey()\n",
    "cv2.destroyAllWindows()"
   ]
  }
 ],
 "metadata": {
  "kernelspec": {
   "display_name": "Python 3.10.6 64-bit",
   "language": "python",
   "name": "python3"
  },
  "language_info": {
   "codemirror_mode": {
    "name": "ipython",
    "version": 3
   },
   "file_extension": ".py",
   "mimetype": "text/x-python",
   "name": "python",
   "nbconvert_exporter": "python",
   "pygments_lexer": "ipython3",
   "version": "3.10.6"
  },
  "orig_nbformat": 4,
  "vscode": {
   "interpreter": {
    "hash": "916dbcbb3f70747c44a77c7bcd40155683ae19c65e1c03b4aa3499c5328201f1"
   }
  }
 },
 "nbformat": 4,
 "nbformat_minor": 2
}
