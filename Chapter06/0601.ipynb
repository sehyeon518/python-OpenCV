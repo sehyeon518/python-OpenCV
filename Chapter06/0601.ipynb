{
 "cells": [
  {
   "cell_type": "markdown",
   "metadata": {},
   "source": [
    "# 예제 6.1 박스 필터와 양방향 필터\n",
    "## 박스 필터\n",
    "(가중치) = 1 / filter size \\\n",
    "필터가 겹쳐진 픽셀의 평균값이 계산된다 -> 흐려지는 효과\n",
    "### <span style='background-color:#000a4e'>cv2.boxFilter(src, ddepth, ksize)</span>\n",
    "src와 크기, 자료형이 동일한 dst가 출련된다 \\\n",
    "**ksize** 필터의 크기 \\\n",
    "**ddept** 필터링의 깊이 -> -1이면 src와 같은 깊이"
   ]
  },
  {
   "cell_type": "code",
   "execution_count": 1,
   "metadata": {},
   "outputs": [],
   "source": [
    "import cv2\n",
    "import numpy as np\n",
    "\n",
    "src = cv2.imread('../sample/lena.png', cv2.IMREAD_GRAYSCALE)\n",
    "\n",
    "dst1 = cv2.boxFilter(src, ddepth = -1, ksize = (11, 11))\n",
    "dst2 = cv2.boxFilter(src, ddepth = -1, ksize = (21, 21))"
   ]
  },
  {
   "cell_type": "code",
   "execution_count": 2,
   "metadata": {},
   "outputs": [],
   "source": [
    "cv2.imshow('src', src)\n",
    "cv2.imshow('dst1', dst1)\n",
    "cv2.imshow('dst2', dst2)\n",
    "cv2.waitKey()\n",
    "cv2.destroyAllWindows()"
   ]
  },
  {
   "cell_type": "markdown",
   "metadata": {},
   "source": [
    "## 양방향 필터\n",
    "모든 픽셀에 가우시안, 박스 필터링을 적용하면 객체의 윤곽이 뭉개질 수 있다 \\\n",
    "픽셀 간 값의 차이가 크면 객체의 윤곽이므로 블러링을 최소로 한다\n",
    "### <span style='background-color:#000a4e'>cv2.bilateralFilter(src, d, sigmaColor, sigmaSpace)</span>\n",
    "**d** 필터링 동안 사용될 각 화소의 이웃을 결정할 지름 \\\n",
    "d <= 0이면 이웃의 크기가 sigmaSpace에 의해 결정된다 \\\n",
    "**sigmaColor** 컬러 공간에서 필터 표준편차 \\\n",
    "**sigmaSpace** 좌표 공간에서의 필터 표준편차 \\\n",
    "값이 크면 색상이 가까우면서 위치가 멀리 떨어진 이웃 화소가 영향을 준다"
   ]
  },
  {
   "cell_type": "code",
   "execution_count": 3,
   "metadata": {},
   "outputs": [],
   "source": [
    "dst3 = cv2.bilateralFilter(src, d = 11, sigmaColor = 10, sigmaSpace = 10)\n",
    "dst4 = cv2.bilateralFilter(src, d = -1, sigmaColor = 10, sigmaSpace = 10)"
   ]
  },
  {
   "cell_type": "code",
   "execution_count": 4,
   "metadata": {},
   "outputs": [],
   "source": [
    "cv2.imshow('src', src)\n",
    "cv2.imshow('dst3', dst3)\n",
    "cv2.imshow('dst4', dst4)\n",
    "cv2.waitKey()\n",
    "cv2.destroyAllWindows()"
   ]
  },
  {
   "cell_type": "markdown",
   "metadata": {},
   "source": [
    "## 전체 비교"
   ]
  },
  {
   "cell_type": "code",
   "execution_count": 5,
   "metadata": {},
   "outputs": [],
   "source": [
    "cv2.imshow('src', src)\n",
    "cv2.imshow('dst1', dst1)\n",
    "cv2.imshow('dst2', dst2)\n",
    "cv2.imshow('dst3', dst3)\n",
    "cv2.imshow('dst4', dst4)\n",
    "cv2.waitKey()\n",
    "cv2.destroyAllWindows()"
   ]
  }
 ],
 "metadata": {
  "kernelspec": {
   "display_name": "Python 3.10.6 64-bit",
   "language": "python",
   "name": "python3"
  },
  "language_info": {
   "codemirror_mode": {
    "name": "ipython",
    "version": 3
   },
   "file_extension": ".py",
   "mimetype": "text/x-python",
   "name": "python",
   "nbconvert_exporter": "python",
   "pygments_lexer": "ipython3",
   "version": "3.10.6"
  },
  "orig_nbformat": 4,
  "vscode": {
   "interpreter": {
    "hash": "916dbcbb3f70747c44a77c7bcd40155683ae19c65e1c03b4aa3499c5328201f1"
   }
  }
 },
 "nbformat": 4,
 "nbformat_minor": 2
}
