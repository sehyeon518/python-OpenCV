{
 "cells": [
  {
   "cell_type": "markdown",
   "metadata": {},
   "source": [
    "# 예제 6.6 Laplacian 필터 2: 0-교차"
   ]
  },
  {
   "cell_type": "code",
   "execution_count": 1,
   "metadata": {},
   "outputs": [],
   "source": [
    "import cv2\n",
    "import numpy as np\n",
    "\n",
    "src = np.zeros(shape = (512,512), dtype = np.uint8) + 255\n",
    "pt1 = 100, 100 # tuple\n",
    "pt2 = 400, 400\n",
    "\n",
    "cv2.rectangle(src, pt1, pt2, 0, 2)\n",
    "blur = cv2.GaussianBlur(src, ksize=(7,7), sigmaX = 0.0)"
   ]
  },
  {
   "cell_type": "code",
   "execution_count": 2,
   "metadata": {},
   "outputs": [],
   "source": [
    "lap = cv2.Laplacian(blur, cv2.CV_32F, 3)"
   ]
  },
  {
   "cell_type": "code",
   "execution_count": 3,
   "metadata": {},
   "outputs": [],
   "source": [
    "def SGN(x):\n",
    "    if x >= 0:\n",
    "        sign = 1\n",
    "    else:\n",
    "        sign = -1\n",
    "    return sign"
   ]
  },
  {
   "cell_type": "code",
   "execution_count": 4,
   "metadata": {},
   "outputs": [],
   "source": [
    "def zeroCrossing(lap):\n",
    "    height, width = lap.shape\n",
    "    Z = np.zeros(lap.shape, dtype = np.uint8)\n",
    "    for y in range(1, height - 1):\n",
    "        for x in range(1, width - 1):\n",
    "            neighbors = [lap[y-1, x], lap[y+1, x],\n",
    "                         lap[y, x-1], lap[y, x+1],\n",
    "                         lap[y-1, x-1], lap[y-1, x+1],\n",
    "                         lap[y+1, x-1], lap[y+1, x+1]]\n",
    "            mValue = min(neighbors)\n",
    "            if SGN(lap[y,x]) != SGN(mValue):\n",
    "                Z[y,x] = 255\n",
    "    return Z"
   ]
  },
  {
   "cell_type": "code",
   "execution_count": 5,
   "metadata": {},
   "outputs": [],
   "source": [
    "edgeZ = zeroCrossing(lap)\n",
    "cv2.imshow('Zero Crossing', edgeZ)\n",
    "cv2.waitKey()\n",
    "cv2.destroyAllWindows()"
   ]
  }
 ],
 "metadata": {
  "kernelspec": {
   "display_name": "Python 3.10.6 64-bit",
   "language": "python",
   "name": "python3"
  },
  "language_info": {
   "codemirror_mode": {
    "name": "ipython",
    "version": 3
   },
   "file_extension": ".py",
   "mimetype": "text/x-python",
   "name": "python",
   "nbconvert_exporter": "python",
   "pygments_lexer": "ipython3",
   "version": "3.10.6"
  },
  "orig_nbformat": 4,
  "vscode": {
   "interpreter": {
    "hash": "916dbcbb3f70747c44a77c7bcd40155683ae19c65e1c03b4aa3499c5328201f1"
   }
  }
 },
 "nbformat": 4,
 "nbformat_minor": 2
}
