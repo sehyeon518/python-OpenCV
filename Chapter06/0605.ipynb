{
 "cells": [
  {
   "cell_type": "markdown",
   "metadata": {},
   "source": [
    "# 예제 6.5 Laplacian 필터 1"
   ]
  },
  {
   "cell_type": "code",
   "execution_count": 1,
   "metadata": {},
   "outputs": [],
   "source": [
    "import cv2\n",
    "import numpy as np\n",
    "\n",
    "src = cv2.imread('../sample/lena.png', cv2.IMREAD_GRAYSCALE)\n",
    "blur = cv2.GaussianBlur(src, ksize = (7,7), sigmaX = 0.0)"
   ]
  },
  {
   "cell_type": "code",
   "execution_count": 2,
   "metadata": {},
   "outputs": [],
   "source": [
    "cv2.imshow('src', src)\n",
    "cv2.imshow('blur', blur)\n",
    "cv2.waitKey()\n",
    "cv2.destroyAllWindows()"
   ]
  },
  {
   "cell_type": "code",
   "execution_count": 3,
   "metadata": {},
   "outputs": [
    {
     "data": {
      "text/plain": [
       "(-199.0, 168.0, (70, 414), (212, 299))"
      ]
     },
     "execution_count": 3,
     "metadata": {},
     "output_type": "execute_result"
    }
   ],
   "source": [
    "lap = cv2.Laplacian(src, cv2.CV_32F)\n",
    "minVal, maxVal, minLoc, maxLoc = cv2.minMaxLoc(lap)\n",
    "minVal, maxVal, minLoc, maxLoc"
   ]
  },
  {
   "cell_type": "code",
   "execution_count": 4,
   "metadata": {},
   "outputs": [],
   "source": [
    "dst = cv2.convertScaleAbs(lap)\n",
    "dst = cv2.normalize(dst, None, 0, 255, cv2.NORM_MINMAX)\n",
    "cv2.imshow('lap', lap)\n",
    "cv2.imshow('dst', dst)\n",
    "cv2.waitKey()\n",
    "cv2.destroyAllWindows()"
   ]
  },
  {
   "cell_type": "code",
   "execution_count": 5,
   "metadata": {},
   "outputs": [
    {
     "data": {
      "text/plain": [
       "(-34.0, 26.0, (180, 435), (163, 409))"
      ]
     },
     "execution_count": 5,
     "metadata": {},
     "output_type": "execute_result"
    }
   ],
   "source": [
    "lap2 = cv2.Laplacian(blur, cv2.CV_32F)\n",
    "minVal, maxVal, minLoc, maxLoc = cv2.minMaxLoc(lap2)\n",
    "minVal, maxVal, minLoc, maxLoc"
   ]
  },
  {
   "cell_type": "code",
   "execution_count": 6,
   "metadata": {},
   "outputs": [],
   "source": [
    "dst2 = cv2.convertScaleAbs(lap2)\n",
    "dst2 = cv2.normalize(dst2, None, 0, 255, cv2.NORM_MINMAX)\n",
    "cv2.imshow('lap2', lap2)\n",
    "cv2.imshow('dst2', dst2)\n",
    "cv2.waitKey()\n",
    "cv2.destroyAllWindows()"
   ]
  }
 ],
 "metadata": {
  "kernelspec": {
   "display_name": "Python 3.10.6 64-bit",
   "language": "python",
   "name": "python3"
  },
  "language_info": {
   "codemirror_mode": {
    "name": "ipython",
    "version": 3
   },
   "file_extension": ".py",
   "mimetype": "text/x-python",
   "name": "python",
   "nbconvert_exporter": "python",
   "pygments_lexer": "ipython3",
   "version": "3.10.6"
  },
  "orig_nbformat": 4,
  "vscode": {
   "interpreter": {
    "hash": "916dbcbb3f70747c44a77c7bcd40155683ae19c65e1c03b4aa3499c5328201f1"
   }
  }
 },
 "nbformat": 4,
 "nbformat_minor": 2
}
