{
 "cells": [
  {
   "cell_type": "markdown",
   "metadata": {},
   "source": [
    "# 예제 6.9 erode()와 dilate() 모폴로지 연산1\n",
    "### <span style='background-color:#fff5b1'>모폴로지 연산</span>\n",
    "반복적으로 영역을 확장시켜 떨어진 부분 도는 구멍을 채우거나 잡음을 제거하는 연산 \\\n",
    "**cv2.getStructuringElement()**, **cv2.erode()** 침식, **cv2.dilate()** 팽창,** cv2.morphologyEx()**"
   ]
  },
  {
   "cell_type": "code",
   "execution_count": 4,
   "metadata": {},
   "outputs": [],
   "source": [
    "import cv2\n",
    "import numpy as np\n",
    "\n",
    "src = cv2.imread('../sample/morphology.png', cv2.IMREAD_GRAYSCALE)"
   ]
  },
  {
   "cell_type": "markdown",
   "metadata": {},
   "source": [
    "### <span style='background-color:#fff5b1'>cv2.getStructuringElement(shape, ksize)</span>\n",
    "모폴로지 연산에 사용하는 다양한 모양의 ksize 크기 구조 요소\n",
    "### <span style='background-color:#fff5b1'>cv2.erode(src, kernel, iterations)</span>\n",
    "src에 kernel를 적용하여 erode 연산을 iterations만큼 반복\n",
    "### <span style='background-color:#fff5b1'>cv2.dilate(src, kernel, iterations)</span>\n",
    "src에 kernel를 적용하여 dilate 연산을 iterations만큼 반복"
   ]
  },
  {
   "cell_type": "code",
   "execution_count": 5,
   "metadata": {},
   "outputs": [],
   "source": [
    "kernel = cv2.getStructuringElement(shape = cv2.MORPH_RECT, ksize = (3,3))\n",
    "erode = cv2.erode(src, kernel, iterations = 5)\n",
    "dilate = cv2.dilate(src, kernel, iterations = 5)\n",
    "erode2 = cv2.erode(dilate, kernel, iterations = 7)"
   ]
  },
  {
   "cell_type": "code",
   "execution_count": 6,
   "metadata": {},
   "outputs": [],
   "source": [
    "cv2.imshow('src', src)\n",
    "cv2.imshow('erode', erode)\n",
    "cv2.imshow('dilate', dilate)\n",
    "cv2.imshow('erode2', erode2)\n",
    "cv2.waitKey()\n",
    "cv2.destroyAllWindows()"
   ]
  }
 ],
 "metadata": {
  "kernelspec": {
   "display_name": "Python 3.10.6 64-bit",
   "language": "python",
   "name": "python3"
  },
  "language_info": {
   "codemirror_mode": {
    "name": "ipython",
    "version": 3
   },
   "file_extension": ".py",
   "mimetype": "text/x-python",
   "name": "python",
   "nbconvert_exporter": "python",
   "pygments_lexer": "ipython3",
   "version": "3.10.6"
  },
  "orig_nbformat": 4,
  "vscode": {
   "interpreter": {
    "hash": "916dbcbb3f70747c44a77c7bcd40155683ae19c65e1c03b4aa3499c5328201f1"
   }
  }
 },
 "nbformat": 4,
 "nbformat_minor": 2
}
