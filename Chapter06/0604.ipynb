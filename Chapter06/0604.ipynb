{
 "cells": [
  {
   "cell_type": "markdown",
   "metadata": {},
   "source": [
    "# 예제 6.4 Sobel 필터 2: edge gradient orientation"
   ]
  },
  {
   "cell_type": "code",
   "execution_count": 1,
   "metadata": {},
   "outputs": [
    {
     "data": {
      "text/plain": [
       "array([[255, 255, 255, ..., 255, 255, 255],\n",
       "       [255, 255, 255, ..., 255, 255, 255],\n",
       "       [255, 255, 255, ..., 255, 255, 255],\n",
       "       ...,\n",
       "       [255, 255, 255, ..., 255, 255, 255],\n",
       "       [255, 255, 255, ..., 255, 255, 255],\n",
       "       [255, 255, 255, ..., 255, 255, 255]], dtype=uint8)"
      ]
     },
     "execution_count": 1,
     "metadata": {},
     "output_type": "execute_result"
    }
   ],
   "source": [
    "import cv2\n",
    "import numpy as np\n",
    "\n",
    "src = np.zeros(shape = (512,512), dtype = np.uint8) + 255\n",
    "pt1 = 100, 100 # tuple\n",
    "pt2 = 400, 400\n",
    "\n",
    "cv2.rectangle(src, pt1, pt2, 0, 2)"
   ]
  },
  {
   "cell_type": "markdown",
   "metadata": {},
   "source": [
    "### <span style='background-color:#000a4e'>cv2.cartToPolar(gx, gy, angleInDegrees)</span>\n",
    "gradient 크기 mag와 각도 angle 계산"
   ]
  },
  {
   "cell_type": "code",
   "execution_count": 2,
   "metadata": {},
   "outputs": [
    {
     "name": "stdout",
     "output_type": "stream",
     "text": [
      "0 0 0 0 0 0 0 0 0 0 \n",
      "0 0 0 0 0 0 0 0 0 0 \n",
      "0 0 0 0 0 0 0 0 0 0 \n",
      "0 0 0 0 224 251 270 270 270 270 \n",
      "0 0 0 224 224 243 270 270 270 270 \n",
      "0 0 0 198 206 224 0 0 0 0 \n",
      "0 0 0 180 180 0 44 71 90 90 \n",
      "0 0 0 180 180 0 18 44 90 90 \n",
      "0 0 0 180 180 0 0 0 0 0 \n",
      "0 0 0 180 180 0 0 0 0 0 \n"
     ]
    },
    {
     "data": {
      "text/plain": [
       "(0.0, 341.5613098144531, (0, 0), (402, 100))"
      ]
     },
     "execution_count": 2,
     "metadata": {},
     "output_type": "execute_result"
    }
   ],
   "source": [
    "gx = cv2.Sobel(src, cv2.CV_32F, 1, 0, ksize = 3)\n",
    "gy = cv2.Sobel(src, cv2.CV_32F, 0, 1, ksize = 3)\n",
    "\n",
    "mag, angle = cv2.cartToPolar(gx, gy, angleInDegrees = True)\n",
    "for i in angle[95:105,]:\n",
    "    for j in i[95:105]:\n",
    "        print(int(j), end=\" \")\n",
    "    print()\n",
    "minVal, maxVal, minLoc, maxLoc = cv2.minMaxLoc(angle)\n",
    "minVal, maxVal, minLoc, maxLoc"
   ]
  },
  {
   "cell_type": "code",
   "execution_count": 3,
   "metadata": {},
   "outputs": [
    {
     "data": {
      "text/plain": [
       "array([[0, 0, 0, ..., 0, 0, 0],\n",
       "       [0, 0, 0, ..., 0, 0, 0],\n",
       "       [0, 0, 0, ..., 0, 0, 0],\n",
       "       ...,\n",
       "       [0, 0, 0, ..., 0, 0, 0],\n",
       "       [0, 0, 0, ..., 0, 0, 0],\n",
       "       [0, 0, 0, ..., 0, 0, 0]], dtype=uint8)"
      ]
     },
     "execution_count": 3,
     "metadata": {},
     "output_type": "execute_result"
    }
   ],
   "source": [
    "ret, edge = cv2.threshold(mag, 100, 255, cv2.THRESH_BINARY)\n",
    "edge = edge.astype(np.uint8)\n",
    "edge"
   ]
  },
  {
   "cell_type": "code",
   "execution_count": 4,
   "metadata": {},
   "outputs": [
    {
     "name": "stdout",
     "output_type": "stream",
     "text": [
      "(512, 512, 3)\n"
     ]
    }
   ],
   "source": [
    "height, width = mag.shape[:2]\n",
    "angleM = np.full((height, width, 3), (255, 255, 255), dtype = np.uint8)\n",
    "print(angleM.shape)\n",
    "for y in range(height):\n",
    "    for x in range(width):\n",
    "        if edge[y,x] != 0:\n",
    "            if angle[y,x] == 0:\n",
    "                angleM[y,x] = (0,0,255)\n",
    "            elif angle[y,x] == 90:\n",
    "                angleM[y,x] = (0,255,0)\n",
    "            elif angle[y,x] == 180:\n",
    "                angleM[y,x] = (255,0,0)\n",
    "            elif angle[y,x] == 270:\n",
    "                angleM[y,x] == (0,255,255)\n",
    "            else:\n",
    "                angleM[y,x] = (128,128,128)"
   ]
  },
  {
   "cell_type": "code",
   "execution_count": 5,
   "metadata": {},
   "outputs": [],
   "source": [
    "cv2.imshow('src', src)\n",
    "cv2.imshow('edge', edge)\n",
    "cv2.imshow('angleM', angleM)\n",
    "cv2.waitKey()\n",
    "cv2.destroyAllWindows()"
   ]
  },
  {
   "cell_type": "code",
   "execution_count": 6,
   "metadata": {},
   "outputs": [
    {
     "data": {
      "image/png": "[encoded data removed]",
      "text/plain": [
       "<Figure size 640x480 with 1 Axes>"
      ]
     },
     "metadata": {},
     "output_type": "display_data"
    }
   ],
   "source": [
    "import matplotlib.pyplot as plt\n",
    "\n",
    "hist = cv2.calcHist(images = [angle], channels = [0], mask = edge, histSize = [360], ranges = [0,360])\n",
    "hist = hist.flatten()\n",
    "plt.plot(hist, color = 'r')\n",
    "binX = np.arange(360)\n",
    "plt.bar(binX, hist, width = 1, color = 'b')\n",
    "plt.show()"
   ]
  }
 ],
 "metadata": {
  "kernelspec": {
   "display_name": "Python 3.10.6 64-bit",
   "language": "python",
   "name": "python3"
  },
  "language_info": {
   "codemirror_mode": {
    "name": "ipython",
    "version": 3
   },
   "file_extension": ".py",
   "mimetype": "text/x-python",
   "name": "python",
   "nbconvert_exporter": "python",
   "pygments_lexer": "ipython3",
   "version": "3.10.6"
  },
  "orig_nbformat": 4,
  "vscode": {
   "interpreter": {
    "hash": "916dbcbb3f70747c44a77c7bcd40155683ae19c65e1c03b4aa3499c5328201f1"
   }
  }
 },
 "nbformat": 4,
 "nbformat_minor": 2
}
