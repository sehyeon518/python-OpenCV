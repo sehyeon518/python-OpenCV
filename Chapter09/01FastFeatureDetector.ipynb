{
 "cells": [
  {
   "cell_type": "code",
   "execution_count": 1,
   "metadata": {},
   "outputs": [],
   "source": [
    "import cv2\n",
    "import numpy as np\n",
    "\n",
    "src = cv2.imread('../sample/chessboard.png')\n",
    "gray = cv2.cvtColor(src, cv2.COLOR_BGR2GRAY)"
   ]
  },
  {
   "cell_type": "markdown",
   "metadata": {},
   "source": [
    "# 예제 9.1 FastFeatureDetector 특징 검출 1\n",
    "![fastfeaturedetector](https://user-images.githubusercontent.com/84698896/214455656-1314b285-7833-478d-9893-28886dfc3afd.png)\n",
    "I t\n",
    "x < I - t\n",
    "\n",
    "x > I + t"
   ]
  },
  {
   "cell_type": "markdown",
   "metadata": {},
   "source": [
    "### <span style='background-color:#000a4e'>cv2.FastFeatureDetector</span>\n",
    "**create(threshold)** 중앙의 화소와 이웃 화소와의 차이의 임계(기본값 10)"
   ]
  },
  {
   "cell_type": "code",
   "execution_count": 2,
   "metadata": {},
   "outputs": [
    {
     "name": "stdout",
     "output_type": "stream",
     "text": [
      "136\n",
      "class id: -1 octave: 0 특징점 좌표: (708.0, 20.0) 특징점 반응 세기: 250.0 의미있는 특징점 이웃의 지름: 7.0 특징점 방향각: -1.0\n",
      "class id: -1 octave: 0 특징점 좌표: (663.0, 28.0) 특징점 반응 세기: 167.0 의미있는 특징점 이웃의 지름: 7.0 특징점 방향각: -1.0\n",
      "class id: -1 octave: 0 특징점 좌표: (611.0, 36.0) 특징점 반응 세기: 241.0 의미있는 특징점 이웃의 지름: 7.0 특징점 방향각: -1.0\n",
      "class id: -1 octave: 0 특징점 좌표: (558.0, 45.0) 특징점 반응 세기: 187.0 의미있는 특징점 이웃의 지름: 7.0 특징점 방향각: -1.0\n",
      "class id: -1 octave: 0 특징점 좌표: (498.0, 55.0) 특징점 반응 세기: 225.0 의미있는 특징점 이웃의 지름: 7.0 특징점 방향각: -1.0\n",
      "class id: -1 octave: 0 특징점 좌표: (729.0, 61.0) 특징점 반응 세기: 248.0 의미있는 특징점 이웃의 지름: 7.0 특징점 방향각: -1.0\n",
      "class id: -1 octave: 0 특징점 좌표: (435.0, 66.0) 특징점 반응 세기: 221.0 의미있는 특징점 이웃의 지름: 7.0 특징점 방향각: -1.0\n",
      "class id: -1 octave: 0 특징점 좌표: (689.0, 67.0) 특징점 반응 세기: 227.0 의미있는 특징점 이웃의 지름: 7.0 특징점 방향각: -1.0\n",
      "class id: -1 octave: 0 특징점 좌표: (684.0, 70.0) 특징점 반응 세기: 202.0 의미있는 특징점 이웃의 지름: 7.0 특징점 방향각: -1.0\n",
      "class id: -1 octave: 0 특징점 좌표: (642.0, 77.0) 특징점 반응 세기: 177.0 의미있는 특징점 이웃의 지름: 7.0 특징점 방향각: -1.0\n",
      "class id: -1 octave: 0 특징점 좌표: (364.0, 78.0) 특징점 반응 세기: 252.0 의미있는 특징점 이웃의 지름: 7.0 특징점 방향각: -1.0\n",
      "class id: -1 octave: 0 특징점 좌표: (637.0, 80.0) 특징점 반응 세기: 177.0 의미있는 특징점 이웃의 지름: 7.0 특징점 방향각: -1.0\n",
      "class id: -1 octave: 0 특징점 좌표: (592.0, 87.0) 특징점 반응 세기: 243.0 의미있는 특징점 이웃의 지름: 7.0 특징점 방향각: -1.0\n",
      "class id: -1 octave: 0 특징점 좌표: (289.0, 90.0) 특징점 반응 세기: 206.0 의미있는 특징점 이웃의 지름: 7.0 특징점 방향각: -1.0\n",
      "class id: -1 octave: 0 특징점 좌표: (587.0, 90.0) 특징점 반응 세기: 241.0 의미있는 특징점 이웃의 지름: 7.0 특징점 방향각: -1.0\n",
      "class id: -1 octave: 0 특징점 좌표: (534.0, 98.0) 특징점 반응 세기: 40.0 의미있는 특징점 이웃의 지름: 7.0 특징점 방향각: -1.0\n",
      "class id: -1 octave: 0 특징점 좌표: (538.0, 100.0) 특징점 반응 세기: 36.0 의미있는 특징점 이웃의 지름: 7.0 특징점 방향각: -1.0\n",
      "class id: -1 octave: 0 특징점 좌표: (533.0, 101.0) 특징점 반응 세기: 157.0 의미있는 특징점 이웃의 지름: 7.0 특징점 방향각: -1.0\n",
      "class id: -1 octave: 0 특징점 좌표: (204.0, 105.0) 특징점 반응 세기: 249.0 의미있는 특징점 이웃의 지름: 7.0 특징점 방향각: -1.0\n",
      "class id: -1 octave: 0 특징점 좌표: (708.0, 106.0) 특징점 반응 세기: 137.0 의미있는 특징점 이웃의 지름: 7.0 특징점 방향각: -1.0\n",
      "class id: -1 octave: 0 특징점 좌표: (479.0, 110.0) 특징점 반응 세기: 240.0 의미있는 특징점 이웃의 지름: 7.0 특징점 방향각: -1.0\n",
      "class id: -1 octave: 0 특징점 좌표: (474.0, 113.0) 특징점 반응 세기: 239.0 의미있는 특징점 이웃의 지름: 7.0 특징점 방향각: -1.0\n",
      "class id: -1 octave: 0 특징점 좌표: (667.0, 115.0) 특징점 반응 세기: 195.0 의미있는 특징점 이웃의 지름: 7.0 특징점 방향각: -1.0\n",
      "class id: -1 octave: 0 특징점 좌표: (662.0, 118.0) 특징점 반응 세기: 195.0 의미있는 특징점 이웃의 지름: 7.0 특징점 방향각: -1.0\n",
      "class id: -1 octave: 0 특징점 좌표: (113.0, 120.0) 특징점 반응 세기: 250.0 의미있는 특징점 이웃의 지름: 7.0 특징점 방향각: -1.0\n",
      "class id: -1 octave: 0 특징점 좌표: (412.0, 123.0) 특징점 반응 세기: 30.0 의미있는 특징점 이웃의 지름: 7.0 특징점 방향각: -1.0\n",
      "class id: -1 octave: 0 특징점 좌표: (411.0, 126.0) 특징점 반응 세기: 147.0 의미있는 특징점 이웃의 지름: 7.0 특징점 방향각: -1.0\n",
      "class id: -1 octave: 0 특징점 좌표: (620.0, 126.0) 특징점 반응 세기: 215.0 의미있는 특징점 이웃의 지름: 7.0 특징점 방향각: -1.0\n",
      "class id: -1 octave: 0 특징점 좌표: (616.0, 129.0) 특징점 반응 세기: 216.0 의미있는 특징점 이웃의 지름: 7.0 특징점 방향각: -1.0\n",
      "class id: -1 octave: 0 특징점 좌표: (346.0, 136.0) 특징점 반응 세기: 232.0 의미있는 특징점 이웃의 지름: 7.0 특징점 방향각: -1.0\n",
      "class id: -1 octave: 0 특징점 좌표: (570.0, 138.0) 특징점 반응 세기: 163.0 의미있는 특징점 이웃의 지름: 7.0 특징점 방향각: -1.0\n",
      "class id: -1 octave: 0 특징점 좌표: (342.0, 140.0) 특징점 반응 세기: 234.0 의미있는 특징점 이웃의 지름: 7.0 특징점 방향각: -1.0\n",
      "class id: -1 octave: 0 특징점 좌표: (569.0, 141.0) 특징점 반응 세기: 36.0 의미있는 특징점 이웃의 지름: 7.0 특징점 방향각: -1.0\n",
      "class id: -1 octave: 0 특징점 좌표: (516.0, 150.0) 특징점 반응 세기: 214.0 의미있는 특징점 이웃의 지름: 7.0 특징점 방향각: -1.0\n",
      "class id: -1 octave: 0 특징점 좌표: (268.0, 152.0) 특징점 반응 세기: 62.0 의미있는 특징점 이웃의 지름: 7.0 특징점 방향각: -1.0\n",
      "class id: -1 octave: 0 특징점 좌표: (686.0, 152.0) 특징점 반응 세기: 249.0 의미있는 특징점 이웃의 지름: 7.0 특징점 방향각: -1.0\n",
      "class id: -1 octave: 0 특징점 좌표: (272.0, 154.0) 특징점 반응 세기: 46.0 의미있는 특징점 이웃의 지름: 7.0 특징점 방향각: -1.0\n",
      "class id: -1 octave: 0 특징점 좌표: (512.0, 154.0) 특징점 반응 세기: 214.0 의미있는 특징점 이웃의 지름: 7.0 특징점 방향각: -1.0\n",
      "class id: -1 octave: 0 특징점 좌표: (267.0, 155.0) 특징점 반응 세기: 129.0 의미있는 특징점 이웃의 지름: 7.0 특징점 방향각: -1.0\n",
      "class id: -1 octave: 0 특징점 좌표: (646.0, 161.0) 특징점 반응 세기: 219.0 의미있는 특징점 이웃의 지름: 7.0 특징점 방향각: -1.0\n",
      "class id: -1 octave: 0 특징점 좌표: (458.0, 164.0) 특징점 반응 세기: 132.0 의미있는 특징점 이웃의 지름: 7.0 특징점 방향각: -1.0\n",
      "class id: -1 octave: 0 특징점 좌표: (641.0, 164.0) 특징점 반응 세기: 241.0 의미있는 특징점 이웃의 지름: 7.0 특징점 방향각: -1.0\n",
      "class id: -1 octave: 0 특징점 좌표: (189.0, 169.0) 특징점 반응 세기: 226.0 의미있는 특징점 이웃의 지름: 7.0 특징점 방향각: -1.0\n",
      "class id: -1 octave: 0 특징점 좌표: (596.0, 173.0) 특징점 반응 세기: 34.0 의미있는 특징점 이웃의 지름: 7.0 특징점 방향각: -1.0\n",
      "class id: -1 octave: 0 특징점 좌표: (595.0, 176.0) 특징점 반응 세기: 156.0 의미있는 특징점 이웃의 지름: 7.0 특징점 방향각: -1.0\n",
      "class id: -1 octave: 0 특징점 좌표: (395.0, 178.0) 특징점 반응 세기: 229.0 의미있는 특징점 이웃의 지름: 7.0 특징점 방향각: -1.0\n",
      "class id: -1 octave: 0 특징점 좌표: (391.0, 182.0) 특징점 반응 세기: 229.0 의미있는 특징점 이웃의 지름: 7.0 특징점 방향각: -1.0\n",
      "class id: -1 octave: 0 특징점 좌표: (550.0, 186.0) 특징점 반응 세기: 212.0 의미있는 특징점 이웃의 지름: 7.0 특징점 방향각: -1.0\n",
      "class id: -1 octave: 0 특징점 좌표: (97.0, 188.0) 특징점 반응 세기: 253.0 의미있는 특징점 이웃의 지름: 7.0 특징점 방향각: -1.0\n",
      "class id: -1 octave: 0 특징점 좌표: (545.0, 190.0) 특징점 반응 세기: 211.0 의미있는 특징점 이웃의 지름: 7.0 특징점 방향각: -1.0\n",
      "class id: -1 octave: 0 특징점 좌표: (666.0, 194.0) 특징점 반응 세기: 131.0 의미있는 특징점 이웃의 지름: 7.0 특징점 방향각: -1.0\n",
      "class id: -1 octave: 0 특징점 좌표: (327.0, 195.0) 특징점 반응 세기: 167.0 의미있는 특징점 이웃의 지름: 7.0 특징점 방향각: -1.0\n",
      "class id: -1 octave: 0 특징점 좌표: (326.0, 198.0) 특징점 반응 세기: 45.0 의미있는 특징점 이웃의 지름: 7.0 특징점 방향각: -1.0\n",
      "class id: -1 octave: 0 특징점 좌표: (495.0, 200.0) 특징점 반응 세기: 147.0 의미있는 특징점 이웃의 지름: 7.0 특징점 방향각: -1.0\n",
      "class id: -1 octave: 0 특징점 좌표: (491.0, 204.0) 특징점 반응 세기: 150.0 의미있는 특징점 이웃의 지름: 7.0 특징점 방향각: -1.0\n",
      "class id: -1 octave: 0 특징점 좌표: (626.0, 205.0) 특징점 반응 세기: 171.0 의미있는 특징점 이웃의 지름: 7.0 특징점 방향각: -1.0\n",
      "class id: -1 octave: 0 특징점 좌표: (621.0, 208.0) 특징점 반응 세기: 160.0 의미있는 특징점 이웃의 지름: 7.0 특징점 방향각: -1.0\n",
      "class id: -1 octave: 0 특징점 좌표: (252.0, 212.0) 특징점 반응 세기: 211.0 의미있는 특징점 이웃의 지름: 7.0 특징점 방향각: -1.0\n",
      "class id: -1 octave: 0 특징점 좌표: (248.0, 216.0) 특징점 반응 세기: 221.0 의미있는 특징점 이웃의 지름: 7.0 특징점 방향각: -1.0\n",
      "class id: -1 octave: 0 특징점 좌표: (438.0, 216.0) 특징점 반응 세기: 232.0 의미있는 특징점 이웃의 지름: 7.0 특징점 방향각: -1.0\n",
      "class id: -1 octave: 0 특징점 좌표: (579.0, 219.0) 특징점 반응 세기: 237.0 의미있는 특징점 이웃의 지름: 7.0 특징점 방향각: -1.0\n",
      "class id: -1 octave: 0 특징점 좌표: (434.0, 220.0) 특징점 반응 세기: 216.0 의미있는 특징점 이웃의 지름: 7.0 특징점 방향각: -1.0\n",
      "class id: -1 octave: 0 특징점 좌표: (574.0, 222.0) 특징점 반응 세기: 221.0 의미있는 특징점 이웃의 지름: 7.0 특징점 방향각: -1.0\n",
      "class id: -1 octave: 0 특징점 좌표: (171.0, 231.0) 특징점 반응 세기: 112.0 의미있는 특징점 이웃의 지름: 7.0 특징점 방향각: -1.0\n",
      "class id: -1 octave: 0 특징점 좌표: (168.0, 232.0) 특징점 반응 세기: 37.0 의미있는 특징점 이웃의 지름: 7.0 특징점 방향각: -1.0\n",
      "class id: -1 octave: 0 특징점 좌표: (375.0, 232.0) 특징점 반응 세기: 137.0 의미있는 특징점 이웃의 지름: 7.0 특징점 방향각: -1.0\n",
      "class id: -1 octave: 0 특징점 좌표: (529.0, 234.0) 특징점 반응 세기: 153.0 의미있는 특징점 이웃의 지름: 7.0 특징점 방향각: -1.0\n",
      "class id: -1 octave: 0 특징점 좌표: (167.0, 235.0) 특징점 반응 세기: 112.0 의미있는 특징점 이웃의 지름: 7.0 특징점 방향각: -1.0\n",
      "class id: -1 octave: 0 특징점 좌표: (371.0, 236.0) 특징점 반응 세기: 139.0 의미있는 특징점 이웃의 지름: 7.0 특징점 방향각: -1.0\n",
      "class id: -1 octave: 0 특징점 좌표: (645.0, 237.0) 특징점 반응 세기: 242.0 의미있는 특징점 이웃의 지름: 7.0 특징점 방향각: -1.0\n",
      "class id: -1 octave: 0 특징점 좌표: (606.0, 248.0) 특징점 반응 세기: 224.0 의미있는 특징점 이웃의 지름: 7.0 특징점 방향각: -1.0\n",
      "class id: -1 octave: 0 특징점 좌표: (476.0, 249.0) 특징점 반응 세기: 222.0 의미있는 특징점 이웃의 지름: 7.0 특징점 방향각: -1.0\n",
      "class id: -1 octave: 0 특징점 좌표: (308.0, 250.0) 특징점 반응 세기: 216.0 의미있는 특징점 이웃의 지름: 7.0 특징점 방향각: -1.0\n",
      "class id: -1 octave: 0 특징점 좌표: (601.0, 251.0) 특징점 반응 세기: 217.0 의미있는 특징점 이웃의 지름: 7.0 특징점 방향각: -1.0\n",
      "class id: -1 octave: 0 특징점 좌표: (472.0, 253.0) 특징점 반응 세기: 196.0 의미있는 특징점 이웃의 지름: 7.0 특징점 방향각: -1.0\n",
      "class id: -1 octave: 0 특징점 좌표: (303.0, 254.0) 특징점 반응 세기: 230.0 의미있는 특징점 이웃의 지름: 7.0 특징점 방향각: -1.0\n",
      "class id: -1 octave: 0 특징점 좌표: (80.0, 255.0) 특징점 반응 세기: 189.0 의미있는 특징점 이웃의 지름: 7.0 특징점 방향각: -1.0\n",
      "class id: -1 octave: 0 특징점 좌표: (559.0, 262.0) 특징점 반응 세기: 151.0 의미있는 특징점 이웃의 지름: 7.0 특징점 방향각: -1.0\n",
      "class id: -1 octave: 0 특징점 좌표: (419.0, 266.0) 특징점 반응 세기: 181.0 의미있는 특징점 이웃의 지름: 7.0 특징점 방향각: -1.0\n",
      "class id: -1 octave: 0 특징점 좌표: (555.0, 266.0) 특징점 반응 세기: 151.0 의미있는 특징점 이웃의 지름: 7.0 특징점 방향각: -1.0\n",
      "class id: -1 octave: 0 특징점 좌표: (414.0, 269.0) 특징점 반응 세기: 174.0 의미있는 특징점 이웃의 지름: 7.0 특징점 방향각: -1.0\n",
      "class id: -1 octave: 0 특징점 좌표: (235.0, 270.0) 특징점 반응 세기: 145.0 의미있는 특징점 이웃의 지름: 7.0 특징점 방향각: -1.0\n",
      "class id: -1 octave: 0 특징점 좌표: (234.0, 273.0) 특징점 반응 세기: 33.0 의미있는 특징점 이웃의 지름: 7.0 특징점 방향각: -1.0\n",
      "class id: -1 octave: 0 특징점 좌표: (510.0, 278.0) 특징점 반응 세기: 200.0 의미있는 특징점 이웃의 지름: 7.0 특징점 방향각: -1.0\n",
      "class id: -1 octave: 0 특징점 좌표: (505.0, 282.0) 특징점 반응 세기: 231.0 의미있는 특징점 이웃의 지름: 7.0 특징점 방향각: -1.0\n",
      "class id: -1 octave: 0 특징점 좌표: (357.0, 284.0) 특징점 반응 세기: 222.0 의미있는 특징점 이웃의 지름: 7.0 특징점 방향각: -1.0\n",
      "class id: -1 octave: 0 특징점 좌표: (353.0, 288.0) 특징점 반응 세기: 222.0 의미있는 특징점 이웃의 지름: 7.0 특징점 방향각: -1.0\n",
      "class id: -1 octave: 0 특징점 좌표: (587.0, 289.0) 특징점 반응 세기: 181.0 의미있는 특징점 이웃의 지름: 7.0 특징점 방향각: -1.0\n",
      "class id: -1 octave: 0 특징점 좌표: (155.0, 291.0) 특징점 반응 세기: 223.0 의미있는 특징점 이웃의 지름: 7.0 특징점 방향각: -1.0\n",
      "class id: -1 octave: 0 특징점 좌표: (151.0, 295.0) 특징점 반응 세기: 223.0 의미있는 특징점 이웃의 지름: 7.0 특징점 방향각: -1.0\n",
      "class id: -1 octave: 0 특징점 좌표: (457.0, 296.0) 특징점 반응 세기: 178.0 의미있는 특징점 이웃의 지름: 7.0 특징점 방향각: -1.0\n",
      "class id: -1 octave: 0 특징점 좌표: (452.0, 299.0) 특징점 반응 세기: 191.0 의미있는 특징점 이웃의 지름: 7.0 특징점 방향각: -1.0\n",
      "class id: -1 octave: 0 특징점 좌표: (290.0, 304.0) 특징점 반응 세기: 134.0 의미있는 특징점 이웃의 지름: 7.0 특징점 방향각: -1.0\n",
      "class id: -1 octave: 0 특징점 좌표: (541.0, 305.0) 특징점 반응 세기: 228.0 의미있는 특징점 이웃의 지름: 7.0 특징점 방향각: -1.0\n",
      "class id: -1 octave: 0 특징점 좌표: (286.0, 308.0) 특징점 반응 세기: 134.0 의미있는 특징점 이웃의 지름: 7.0 특징점 방향각: -1.0\n",
      "class id: -1 octave: 0 특징점 좌표: (536.0, 309.0) 특징점 반응 세기: 195.0 의미있는 특징점 이웃의 지름: 7.0 특징점 방향각: -1.0\n",
      "class id: -1 octave: 0 특징점 좌표: (400.0, 313.0) 특징점 반응 세기: 216.0 의미있는 특징점 이웃의 지름: 7.0 특징점 방향각: -1.0\n",
      "class id: -1 octave: 0 특징점 좌표: (66.0, 315.0) 특징점 반응 세기: 250.0 의미있는 특징점 이웃의 지름: 7.0 특징점 방향각: -1.0\n",
      "class id: -1 octave: 0 특징점 좌표: (396.0, 317.0) 특징점 반응 세기: 214.0 의미있는 특징점 이웃의 지름: 7.0 특징점 방향각: -1.0\n",
      "class id: -1 octave: 0 특징점 좌표: (492.0, 322.0) 특징점 반응 세기: 198.0 의미있는 특징점 이웃의 지름: 7.0 특징점 방향각: -1.0\n",
      "class id: -1 octave: 0 특징점 좌표: (218.0, 325.0) 특징점 반응 세기: 234.0 의미있는 특징점 이웃의 지름: 7.0 특징점 방향각: -1.0\n",
      "class id: -1 octave: 0 특징점 좌표: (487.0, 325.0) 특징점 반응 세기: 182.0 의미있는 특징점 이웃의 지름: 7.0 특징점 방향각: -1.0\n",
      "class id: -1 octave: 0 특징점 좌표: (214.0, 329.0) 특징점 반응 세기: 230.0 의미있는 특징점 이웃의 지름: 7.0 특징점 방향각: -1.0\n",
      "class id: -1 octave: 0 특징점 좌표: (566.0, 330.0) 특징점 반응 세기: 120.0 의미있는 특징점 이웃의 지름: 7.0 특징점 방향각: -1.0\n",
      "class id: -1 octave: 0 특징점 좌표: (439.0, 340.0) 특징점 반응 세기: 216.0 의미있는 특징점 이웃의 지름: 7.0 특징점 방향각: -1.0\n",
      "class id: -1 octave: 0 특징점 좌표: (434.0, 344.0) 특징점 반응 세기: 203.0 의미있는 특징점 이웃의 지름: 7.0 특징점 방향각: -1.0\n",
      "class id: -1 octave: 0 특징점 좌표: (521.0, 347.0) 특징점 반응 세기: 220.0 의미있는 특징점 이웃의 지름: 7.0 특징점 방향각: -1.0\n",
      "class id: -1 octave: 0 특징점 좌표: (273.0, 354.0) 특징점 반응 세기: 202.0 의미있는 특징점 이웃의 지름: 7.0 특징점 방향각: -1.0\n",
      "class id: -1 octave: 0 특징점 좌표: (268.0, 358.0) 특징점 반응 세기: 229.0 의미있는 특징점 이웃의 지름: 7.0 특징점 방향각: -1.0\n",
      "class id: -1 octave: 0 특징점 좌표: (382.0, 359.0) 특징점 반응 세기: 159.0 의미있는 특징점 이웃의 지름: 7.0 특징점 방향각: -1.0\n",
      "class id: -1 octave: 0 특징점 좌표: (378.0, 363.0) 특징점 반응 세기: 159.0 의미있는 특징점 이웃의 지름: 7.0 특징점 방향각: -1.0\n",
      "class id: -1 octave: 0 특징점 좌표: (471.0, 365.0) 특징점 반응 세기: 169.0 의미있는 특징점 이웃의 지름: 7.0 특징점 방향각: -1.0\n",
      "class id: -1 octave: 0 특징점 좌표: (51.0, 376.0) 특징점 반응 세기: 208.0 의미있는 특징점 이웃의 지름: 7.0 특징점 방향각: -1.0\n",
      "class id: -1 octave: 0 특징점 좌표: (201.0, 377.0) 특징점 반응 세기: 135.0 의미있는 특징점 이웃의 지름: 7.0 특징점 방향각: -1.0\n",
      "class id: -1 octave: 0 특징점 좌표: (322.0, 380.0) 특징점 반응 세기: 211.0 의미있는 특징점 이웃의 지름: 7.0 특징점 방향각: -1.0\n",
      "class id: -1 octave: 0 특징점 좌표: (197.0, 381.0) 특징점 반응 세기: 135.0 의미있는 특징점 이웃의 지름: 7.0 특징점 방향각: -1.0\n",
      "class id: -1 octave: 0 특징점 좌표: (420.0, 384.0) 특징점 반응 세기: 242.0 의미있는 특징점 이웃의 지름: 7.0 특징점 방향각: -1.0\n",
      "class id: -1 octave: 0 특징점 좌표: (318.0, 385.0) 특징점 반응 세기: 221.0 의미있는 특징점 이웃의 지름: 7.0 특징점 방향각: -1.0\n",
      "class id: -1 octave: 0 특징점 좌표: (125.0, 402.0) 특징점 반응 세기: 220.0 의미있는 특징점 이웃의 지름: 7.0 특징점 방향각: -1.0\n",
      "class id: -1 octave: 0 특징점 좌표: (257.0, 403.0) 특징점 반응 세기: 155.0 의미있는 특징점 이웃의 지름: 7.0 특징점 방향각: -1.0\n",
      "class id: -1 octave: 0 특징점 좌표: (363.0, 405.0) 특징점 반응 세기: 177.0 의미있는 특징점 이웃의 지름: 7.0 특징점 방향각: -1.0\n",
      "class id: -1 octave: 0 특징점 좌표: (120.0, 406.0) 특징점 반응 세기: 217.0 의미있는 특징점 이웃의 지름: 7.0 특징점 방향각: -1.0\n",
      "class id: -1 octave: 0 특징점 좌표: (256.0, 406.0) 특징점 반응 세기: 35.0 의미있는 특징점 이웃의 지름: 7.0 특징점 방향각: -1.0\n",
      "class id: -1 octave: 0 특징점 좌표: (253.0, 407.0) 특징점 반응 세기: 155.0 의미있는 특징점 이웃의 지름: 7.0 특징점 방향각: -1.0\n",
      "class id: -1 octave: 0 특징점 좌표: (305.0, 426.0) 특징점 반응 세기: 215.0 의미있는 특징점 이웃의 지름: 7.0 특징점 방향각: -1.0\n",
      "class id: -1 octave: 0 특징점 좌표: (186.0, 427.0) 특징점 반응 세기: 219.0 의미있는 특징점 이웃의 지름: 7.0 특징점 방향각: -1.0\n",
      "class id: -1 octave: 0 특징점 좌표: (38.0, 430.0) 특징점 반응 세기: 250.0 의미있는 특징점 이웃의 지름: 7.0 특징점 방향각: -1.0\n",
      "class id: -1 octave: 0 특징점 좌표: (182.0, 432.0) 특징점 반응 세기: 220.0 의미있는 특징점 이웃의 지름: 7.0 특징점 방향각: -1.0\n",
      "class id: -1 octave: 0 특징점 좌표: (238.0, 451.0) 특징점 반응 세기: 168.0 의미있는 특징점 이웃의 지름: 7.0 특징점 방향각: -1.0\n",
      "class id: -1 octave: 0 특징점 좌표: (110.0, 454.0) 특징점 반응 세기: 141.0 의미있는 특징점 이웃의 지름: 7.0 특징점 방향각: -1.0\n",
      "class id: -1 octave: 0 특징점 좌표: (109.0, 457.0) 특징점 반응 세기: 31.0 의미있는 특징점 이웃의 지름: 7.0 특징점 방향각: -1.0\n",
      "class id: -1 octave: 0 특징점 좌표: (106.0, 458.0) 특징점 반응 세기: 141.0 의미있는 특징점 이웃의 지름: 7.0 특징점 방향각: -1.0\n",
      "class id: -1 octave: 0 특징점 좌표: (170.0, 476.0) 특징점 반응 세기: 243.0 의미있는 특징점 이웃의 지름: 7.0 특징점 방향각: -1.0\n",
      "class id: -1 octave: 0 특징점 좌표: (25.0, 485.0) 특징점 반응 세기: 189.0 의미있는 특징점 이웃의 지름: 7.0 특징점 방향각: -1.0\n",
      "class id: -1 octave: 0 특징점 좌표: (93.0, 505.0) 특징점 반응 세기: 147.0 의미있는 특징점 이웃의 지름: 7.0 특징점 방향각: -1.0\n",
      "class id: -1 octave: 0 특징점 좌표: (13.0, 534.0) 특징점 반응 세기: 243.0 의미있는 특징점 이웃의 지름: 7.0 특징점 방향각: -1.0\n"
     ]
    }
   ],
   "source": [
    "fastF = cv2.FastFeatureDetector.create(threshold = 30) # fast feature detector 특징 검출기 객체 생성\n",
    "# fastF = cv2.FastFeatureDetector_create(threshold= 30)\n",
    "kp = fastF.detect(gray) # fast feature detector로 특징점 list 구함\n",
    "print(len(kp))\n",
    "for i in kp:\n",
    "    print(\"class id:\", i.class_id, \"octave:\", i.octave, \"특징점 좌표:\", i.pt, \"특징점 반응 세기:\", i.response, \"의미있는 특징점 이웃의 지름:\", i.size, \"특징점 방향각:\", i.angle)"
   ]
  },
  {
   "cell_type": "markdown",
   "metadata": {},
   "source": [
    "### <span style='background-color:#000a4e'>cv2.drawKeyPoints(src, keypoints, outImage, color)</span>\n",
    "src에서 검출한 특징점 keypoints를 color 색상으로 outImage에 출력"
   ]
  },
  {
   "cell_type": "code",
   "execution_count": 3,
   "metadata": {},
   "outputs": [],
   "source": [
    "dst = cv2.drawKeypoints(gray, kp, None, color = (0,0,255))\n",
    "cv2.imshow('dst', dst)\n",
    "cv2.waitKey()\n",
    "cv2.destroyAllWindows()"
   ]
  },
  {
   "cell_type": "markdown",
   "metadata": {},
   "source": [
    "### <span style='background-color:#000a4e'>setNonmaxSuppresion()</span>\n",
    "**False** 지역극값을 억제하지 않음\n",
    "\n",
    "![TrueFalse](https://user-images.githubusercontent.com/84698896/214456859-d643e3b4-d6e5-484d-8ef1-c97be7c6750e.png)"
   ]
  },
  {
   "cell_type": "code",
   "execution_count": 4,
   "metadata": {},
   "outputs": [],
   "source": [
    "fastF.setNonmaxSuppression(False)\n",
    "kp2 = fastF.detect(gray)\n",
    "dst2 = cv2.drawKeypoints(src, kp2, None, color = (0,0,255))\n",
    "cv2.imshow('setNonmaxSuppression(False)', dst2)\n",
    "cv2.waitKey()\n",
    "cv2.destroyAllWindows()"
   ]
  },
  {
   "cell_type": "code",
   "execution_count": 5,
   "metadata": {},
   "outputs": [],
   "source": [
    "dst3 = src.copy()\n",
    "points = cv2.KeyPoint_convert(kp)\n",
    "points = np.int32(points)\n",
    "\n",
    "for cx, cy in points:\n",
    "    cv2.circle(dst3, (cx, cy), 3, color = (255,0,0), thickness = 1)\n",
    "cv2.imshow('list points', dst3)\n",
    "cv2.waitKey()\n",
    "cv2.destroyAllWindows()"
   ]
  },
  {
   "cell_type": "markdown",
   "metadata": {},
   "source": [
    "# 예제 9.2 FastFeatureDetector 특징 검출 2: 특징 정렬, 필터링"
   ]
  },
  {
   "cell_type": "code",
   "execution_count": 6,
   "metadata": {},
   "outputs": [
    {
     "data": {
      "text/plain": [
       "162"
      ]
     },
     "execution_count": 6,
     "metadata": {},
     "output_type": "execute_result"
    }
   ],
   "source": [
    "fastF = cv2.FastFeatureDetector_create() # threshold (default) 10\n",
    "kp = fastF.detect(gray)\n",
    "dst = cv2.drawKeypoints(gray, kp, None, color = (255,0,0))\n",
    "len(kp)"
   ]
  },
  {
   "cell_type": "code",
   "execution_count": 7,
   "metadata": {},
   "outputs": [
    {
     "name": "stdout",
     "output_type": "stream",
     "text": [
      "[253.0, 252.0, 250.0, 250.0, 250.0, 250.0, 249.0, 249.0, 248.0, 243.0]\n"
     ]
    }
   ],
   "source": [
    "kp = sorted(kp, key=lambda x: x.response, reverse = True) # 특징점 반응 세기 기준으로 내림차순 정렬\n",
    "# for i in kp[:10]:\n",
    "#     print(i.pt, i.response)\n",
    "cv2.drawKeypoints(gray, kp[:10], dst, color = (0,0,255)) # 반응도가 가장 높은 10개 표시\n",
    "print([i.response for i in kp[:10]])"
   ]
  },
  {
   "cell_type": "code",
   "execution_count": 8,
   "metadata": {},
   "outputs": [
    {
     "name": "stdout",
     "output_type": "stream",
     "text": [
      "125\n"
     ]
    }
   ],
   "source": [
    "kp2 = list(filter(lambda f: f.response > 50, kp)) # response가 50 이하인 point 제거\n",
    "print(len(kp2))\n",
    "dst2 = cv2.drawKeypoints(gray, kp2, None, color = (0,0,255))"
   ]
  },
  {
   "cell_type": "code",
   "execution_count": 9,
   "metadata": {},
   "outputs": [],
   "source": [
    "def distance(f1, f2):\n",
    "    x1, y1 = f1.pt\n",
    "    x2, y2 = f2.pt\n",
    "    return np.sqrt((x2 - x1) ** 2 + (y2 - y1) ** 2)"
   ]
  },
  {
   "cell_type": "code",
   "execution_count": 10,
   "metadata": {},
   "outputs": [],
   "source": [
    "def filteringByDistance(kp, distE = 0.5):\n",
    "    size = len(kp)\n",
    "    mask = np.arange(1, size + 1).astype(np.bool_)\n",
    "    for i, f1 in enumerate(kp):\n",
    "        if not mask[i]:\n",
    "            continue\n",
    "        else:\n",
    "            for j, f2 in enumerate(kp):\n",
    "                if i == j:\n",
    "                    continue\n",
    "                if distance(f1, f2) < distE:\n",
    "                    mask[j] = False\n",
    "    print([i for i in mask])\n",
    "    print(\"False 개수\", list(mask).count(False), \"// 필터링 된 pt의 개수\")\n",
    "    np_kp = np.array(kp)\n",
    "    return list(np_kp[mask])"
   ]
  },
  {
   "cell_type": "code",
   "execution_count": 11,
   "metadata": {},
   "outputs": [
    {
     "name": "stdout",
     "output_type": "stream",
     "text": [
      "[True, True, True, True, True, True, True, True, True, True, True, True, True, True, True, False, True, True, False, True, True, True, False, True, True, True, False, True, False, True, True, True, True, True, True, True, False, True, True, False, True, True, False, True, True, True, True, False, False, False, False, True, False, False, True, True, False, True, True, False, False, True, False, False, False, True, True, False, False, False, False, True, False, True, False, False, True, True, True, True, False, True, True, False, True, False, True, False, True, True, True, True, True, True, False, True, False, True, True, True, False, True, True, False, True, True, False, True, True, True, False, True, True, False, True, False, True, False, True, True, True, True, True, False, False]\n",
      "False 개수 42 // 필터링 된 pt의 개수\n",
      "필터링 전 개수 125 필터링 이후 83\n"
     ]
    }
   ],
   "source": [
    "kp3 = filteringByDistance(kp2, 30)\n",
    "print(\"필터링 전 개수\", len(kp2), \"필터링 이후\", len(kp3))\n",
    "dst3 = cv2.drawKeypoints(gray, kp3, None, color = (0,0,255))"
   ]
  },
  {
   "cell_type": "code",
   "execution_count": 12,
   "metadata": {},
   "outputs": [],
   "source": [
    "cv2.imshow('top10', dst)\n",
    "cv2.imshow('response > 50', dst2)\n",
    "cv2.imshow('filteringByDistance', dst3)\n",
    "cv2.waitKey()\n",
    "cv2.destroyAllWindows()"
   ]
  }
 ],
 "metadata": {
  "kernelspec": {
   "display_name": "Python 3.10.6 64-bit",
   "language": "python",
   "name": "python3"
  },
  "language_info": {
   "codemirror_mode": {
    "name": "ipython",
    "version": 3
   },
   "file_extension": ".py",
   "mimetype": "text/x-python",
   "name": "python",
   "nbconvert_exporter": "python",
   "pygments_lexer": "ipython3",
   "version": "3.10.6"
  },
  "orig_nbformat": 4,
  "vscode": {
   "interpreter": {
    "hash": "916dbcbb3f70747c44a77c7bcd40155683ae19c65e1c03b4aa3499c5328201f1"
   }
  }
 },
 "nbformat": 4,
 "nbformat_minor": 2
}
