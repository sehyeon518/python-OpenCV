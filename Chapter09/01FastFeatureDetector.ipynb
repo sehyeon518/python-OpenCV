{
 "cells": [
  {
   "cell_type": "code",
   "execution_count": 1,
   "metadata": {},
   "outputs": [],
   "source": [
    "import cv2\n",
    "import numpy as np\n",
    "\n",
    "src = cv2.imread('../sample/chessboard.png')\n",
    "gray = cv2.cvtColor(src, cv2.COLOR_BGR2GRAY)"
   ]
  },
  {
   "cell_type": "markdown",
   "metadata": {},
   "source": [
    "# 예제 9.1 FastFeatureDetector 특징 검출 1\n",
    "### <span style='background-color:#000a4e'>cv2.FastFeatireDetector</span>\n",
    "**create(threshold)** 중앙의 화소와 이웃 화소와의 차이의 임계(기본값 10)"
   ]
  },
  {
   "cell_type": "code",
   "execution_count": 2,
   "metadata": {},
   "outputs": [
    {
     "name": "stdout",
     "output_type": "stream",
     "text": [
      "136\n"
     ]
    }
   ],
   "source": [
    "fastF = cv2.FastFeatureDetector.create(threshold = 30) # fast feature detector 특징 검출기 객체 생성\n",
    "# fastF = cv2.FastFeatureDetector_create(threshold= 30)\n",
    "kp = fastF.detect(gray) # fast feature detector로 특징점 list 구함\n",
    "print(len(kp))\n",
    "# for i in kp:\n",
    "#     print(\"class id:\", i.class_id, \"octave:\", i.octave, \"특징점 좌표:\", i.pt, \"특징점 반응 세기:\", i.response, \"의미있는 특징점 이웃의 지름:\", i.size, \"특징점 방향각:\", i.angle)"
   ]
  },
  {
   "cell_type": "markdown",
   "metadata": {},
   "source": [
    "### <span style='background-color:#000a4e'>cv2.drawKeyPoints(src, keypoints, outImage, color)</span>\n",
    "src에서 검출한 특징점 keypoints를 color 색상으로 outImage에 출력"
   ]
  },
  {
   "cell_type": "code",
   "execution_count": 3,
   "metadata": {},
   "outputs": [],
   "source": [
    "dst = cv2.drawKeypoints(gray, kp, None, color = (0,0,255))\n",
    "cv2.imshow('dst', dst)\n",
    "cv2.waitKey()\n",
    "cv2.destroyAllWindows()"
   ]
  },
  {
   "cell_type": "markdown",
   "metadata": {},
   "source": [
    "### <span style='background-color:#000a4e'>setNonmaxSuppresion()</span>\n",
    "지역극값을 억제하지 않음"
   ]
  },
  {
   "cell_type": "code",
   "execution_count": 4,
   "metadata": {},
   "outputs": [
    {
     "name": "stdout",
     "output_type": "stream",
     "text": [
      "136\n"
     ]
    }
   ],
   "source": [
    "fastF.setNonmaxSuppression(False)\n",
    "kp2 = fastF.detect(gray)\n",
    "print(len(kp))\n",
    "dst2 = cv2.drawKeypoints(src, kp2, None, color = (0,0,255))\n",
    "cv2.imshow('setNonmaxSuppression(False)', dst2)\n",
    "cv2.waitKey()\n",
    "cv2.destroyAllWindows()"
   ]
  },
  {
   "cell_type": "code",
   "execution_count": 5,
   "metadata": {},
   "outputs": [],
   "source": [
    "dst3 = src.copy()\n",
    "points = cv2.KeyPoint_convert(kp)\n",
    "points = np.int32(points)\n",
    "\n",
    "for cx, cy in points:\n",
    "    cv2.circle(dst3, (cx, cy), 3, color = (255,0,0), thickness = 1)\n",
    "cv2.imshow('list points', dst3)\n",
    "cv2.waitKey()\n",
    "cv2.destroyAllWindows()"
   ]
  },
  {
   "cell_type": "markdown",
   "metadata": {},
   "source": [
    "# 예제 9.2 FastFeatureDetector 특징 검출 2: 특징 정렬, 필터링"
   ]
  },
  {
   "cell_type": "code",
   "execution_count": 6,
   "metadata": {},
   "outputs": [
    {
     "data": {
      "text/plain": [
       "162"
      ]
     },
     "execution_count": 6,
     "metadata": {},
     "output_type": "execute_result"
    }
   ],
   "source": [
    "fastF = cv2.FastFeatureDetector_create() # threshold (default) 10\n",
    "kp = fastF.detect(gray)\n",
    "dst = cv2.drawKeypoints(gray, kp, None, color = (255,0,0))\n",
    "len(kp)"
   ]
  },
  {
   "cell_type": "code",
   "execution_count": 7,
   "metadata": {},
   "outputs": [
    {
     "name": "stdout",
     "output_type": "stream",
     "text": [
      "[253.0, 252.0, 250.0, 250.0, 250.0, 250.0, 249.0, 249.0, 248.0, 243.0]\n"
     ]
    }
   ],
   "source": [
    "kp = sorted(kp, key=lambda x: x.response, reverse = True) # 특징점 반응 세기 기준으로 내림차순 정렬\n",
    "# for i in kp[:10]:\n",
    "#     print(i.pt, i.response)\n",
    "cv2.drawKeypoints(gray, kp[:10], dst, color = (0,0,255)) # 반응도가 가장 높은 10개 표시\n",
    "print([i.response for i in kp[:10]])"
   ]
  },
  {
   "cell_type": "code",
   "execution_count": 8,
   "metadata": {},
   "outputs": [
    {
     "name": "stdout",
     "output_type": "stream",
     "text": [
      "125\n"
     ]
    }
   ],
   "source": [
    "kp2 = list(filter(lambda f: f.response > 50, kp)) # response가 50 이하인 point 제거\n",
    "print(len(kp2))\n",
    "dst2 = cv2.drawKeypoints(gray, kp2, None, color = (0,0,255))"
   ]
  },
  {
   "cell_type": "code",
   "execution_count": 9,
   "metadata": {},
   "outputs": [],
   "source": [
    "def distance(f1, f2):\n",
    "    x1, y1 = f1.pt\n",
    "    x2, y2 = f2.pt\n",
    "    return np.sqrt((x2 - x1) ** 2 + (y2 - y1) ** 2)"
   ]
  },
  {
   "cell_type": "code",
   "execution_count": 10,
   "metadata": {},
   "outputs": [],
   "source": [
    "def filteringByDistance(kp, distE = 0.5):\n",
    "    size = len(kp)\n",
    "    mask = np.arange(1, size + 1).astype(np.bool_)\n",
    "    for i, f1 in enumerate(kp):\n",
    "        if not mask[i]:\n",
    "            continue\n",
    "        else:\n",
    "            for j, f2 in enumerate(kp):\n",
    "                if i == j:\n",
    "                    continue\n",
    "                if distance(f1, f2) < distE:\n",
    "                    mask[j] = False\n",
    "    print([i for i in mask])\n",
    "    print(\"False 개수\", list(mask).count(False), \"// 필터링 된 pt의 개수\")\n",
    "    np_kp = np.array(kp)\n",
    "    return list(np_kp[mask])"
   ]
  },
  {
   "cell_type": "code",
   "execution_count": 11,
   "metadata": {},
   "outputs": [
    {
     "name": "stdout",
     "output_type": "stream",
     "text": [
      "[True, True, True, True, True, True, True, True, True, True, True, True, True, True, True, False, True, True, False, True, True, True, False, True, True, True, False, True, False, True, True, True, True, True, True, True, False, True, True, False, True, True, False, True, True, True, True, False, False, False, False, True, False, False, True, True, False, True, True, False, False, True, False, False, False, True, True, False, False, False, False, True, False, True, False, False, True, True, True, True, False, True, True, False, True, False, True, False, True, True, True, True, True, True, False, True, False, True, True, True, False, True, True, False, True, True, False, True, True, True, False, True, True, False, True, False, True, False, True, True, True, True, True, False, False]\n",
      "False 개수 42 // 필터링 된 pt의 개수\n",
      "필터링 전 개수 125 필터링 이후 83\n"
     ]
    }
   ],
   "source": [
    "kp3 = filteringByDistance(kp2, 30)\n",
    "print(\"필터링 전 개수\", len(kp2), \"필터링 이후\", len(kp3))\n",
    "dst3 = cv2.drawKeypoints(gray, kp3, None, color = (0,0,255))"
   ]
  },
  {
   "cell_type": "code",
   "execution_count": 12,
   "metadata": {},
   "outputs": [],
   "source": [
    "cv2.imshow('top10', dst)\n",
    "cv2.imshow('response > 50', dst2)\n",
    "cv2.imshow('filteringByDistance', dst3)\n",
    "cv2.waitKey()\n",
    "cv2.destroyAllWindows()"
   ]
  }
 ],
 "metadata": {
  "kernelspec": {
   "display_name": "Python 3.10.6 64-bit",
   "language": "python",
   "name": "python3"
  },
  "language_info": {
   "codemirror_mode": {
    "name": "ipython",
    "version": 3
   },
   "file_extension": ".py",
   "mimetype": "text/x-python",
   "name": "python",
   "nbconvert_exporter": "python",
   "pygments_lexer": "ipython3",
   "version": "3.10.6"
  },
  "orig_nbformat": 4,
  "vscode": {
   "interpreter": {
    "hash": "916dbcbb3f70747c44a77c7bcd40155683ae19c65e1c03b4aa3499c5328201f1"
   }
  }
 },
 "nbformat": 4,
 "nbformat_minor": 2
}
