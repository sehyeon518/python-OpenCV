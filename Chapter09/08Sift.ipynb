{
 "cells": [
  {
   "cell_type": "markdown",
   "metadata": {},
   "source": [
    "# 예제 9.11 SIFT 특징 검출 및 디스크립터"
   ]
  },
  {
   "cell_type": "code",
   "execution_count": 1,
   "metadata": {},
   "outputs": [],
   "source": [
    "import cv2\n",
    "import numpy as np"
   ]
  },
  {
   "cell_type": "code",
   "execution_count": 2,
   "metadata": {},
   "outputs": [],
   "source": [
    "def distance(f1, f2):\n",
    "    x1, y1 = f1.pt\n",
    "    x2, y2 = f2.pt\n",
    "    return np.sqrt((x1-x2) ** 2 + (y1-y2) ** 2)"
   ]
  },
  {
   "cell_type": "code",
   "execution_count": 3,
   "metadata": {},
   "outputs": [],
   "source": [
    "def filteringByDistance(kp, distE = 0.5):\n",
    "    size = len(kp)\n",
    "    mask = np.arange(1, size + 1).astype(np.bool_)\n",
    "    for i, f1 in enumerate(kp):\n",
    "        if not mask[i]:\n",
    "            continue\n",
    "        else:\n",
    "            for j, f2 in enumerate(kp):\n",
    "                if i == j:\n",
    "                    continue\n",
    "                if distance(f1, f2) < distE:\n",
    "                    mask[j] = False\n",
    "    print(\"False 개수\", list(mask).count(False), \"-> 필터링을 통해서 제거되는 pt의 개수\")\n",
    "    np_kp = np.array(kp)\n",
    "    return list(np_kp[mask])"
   ]
  },
  {
   "cell_type": "code",
   "execution_count": 4,
   "metadata": {},
   "outputs": [],
   "source": [
    "src = np.zeros(shape = (512,512,3), dtype = np.uint8) + 255\n",
    "cv2.rectangle(src, (100,100), (300,300), (0,0,0), -1)\n",
    "cv2.rectangle(src, (200,200), (400,400), (0,0,0), -1)\n",
    "\n",
    "gray = cv2.cvtColor(src, cv2.COLOR_BGR2GRAY)"
   ]
  },
  {
   "cell_type": "code",
   "execution_count": 5,
   "metadata": {},
   "outputs": [
    {
     "data": {
      "text/plain": [
       "12"
      ]
     },
     "execution_count": 5,
     "metadata": {},
     "output_type": "execute_result"
    }
   ],
   "source": [
    "siftF = cv2.SIFT_create(edgeThreshold = 80)\n",
    "kp = siftF.detect(gray)\n",
    "len(kp)"
   ]
  },
  {
   "cell_type": "code",
   "execution_count": 6,
   "metadata": {},
   "outputs": [
    {
     "name": "stdout",
     "output_type": "stream",
     "text": [
      "False 개수 5 -> 필터링을 통해서 제거되는 pt의 개수\n"
     ]
    },
    {
     "data": {
      "text/plain": [
       "7"
      ]
     },
     "execution_count": 6,
     "metadata": {},
     "output_type": "execute_result"
    }
   ],
   "source": [
    "kp = sorted(kp, key=lambda f:f.response, reverse = True)\n",
    "filtered_kp = filteringByDistance(kp, 10)\n",
    "len(filtered_kp)"
   ]
  },
  {
   "cell_type": "code",
   "execution_count": 7,
   "metadata": {},
   "outputs": [
    {
     "data": {
      "text/plain": [
       "((7, 128),\n",
       " dtype('float32'),\n",
       " array([  1.,   0.,   0.,   0.,   0.,   0.,   0.,   0., 170.,  22.,   0.,\n",
       "          0.,   0.,   0.,   0.,   0., 174.,  45.,   0.,   0.,   0.,   0.,\n",
       "          0.,   0.,  16.,   2.,   0.,   0.,   0.,   0.,   0.,   0.,   0.,\n",
       "          0.,   0.,   0.,   0.,   0.,  76.,  10., 143.,  11.,   0.,   0.,\n",
       "          0.,   0.,  86.,  54., 174.,  34.,   0.,   0.,   0.,   0.,  10.,\n",
       "         56.,  31.,   3.,   0.,   0.,   0.,   0.,   0.,   1.,   0.,   0.,\n",
       "          0.,   0.,   0.,   0., 174.,  51.,  16.,   0.,   0.,   0.,   0.,\n",
       "          0., 174., 123.,  97.,   1.,   0.,   0.,   0.,   0.,  85., 161.,\n",
       "         12.,   0.,   0.,   0.,   0.,   0.,   0.,   6.,   0.,   0.,   0.,\n",
       "          0.,   0.,   0.,  57.,   7.,   0.,   0.,   0.,   0.,   0.,   0.,\n",
       "         47.,   8.,   0.,   0.,   0.,   0.,   0.,   0.,  13.,   8.,   0.,\n",
       "          0.,   0.,   0.,   0.,   0.,   0.,   0.], dtype=float32))"
      ]
     },
     "execution_count": 7,
     "metadata": {},
     "output_type": "execute_result"
    }
   ],
   "source": [
    "kp, des = siftF.compute(gray, filtered_kp)\n",
    "des.shape, des.dtype, des[0]"
   ]
  },
  {
   "cell_type": "code",
   "execution_count": 8,
   "metadata": {},
   "outputs": [],
   "source": [
    "dst = cv2.drawKeypoints(src, filtered_kp, None, color=(0,0,255))\n",
    "for f in filtered_kp:\n",
    "    x, y = f.pt\n",
    "    size = f.size\n",
    "    rect = ((x,y), (size,size), f.angle)\n",
    "    box = cv2.boxPoints(rect).astype(np.int32)\n",
    "    cv2.polylines(dst, [box], True, (0,255,0), 2)\n",
    "    cv2.circle(dst, (round(x), round(y)), round(f.size/2), (255,0,0), 2)\n",
    "\n",
    "cv2.imshow('dst', dst)\n",
    "cv2.waitKey()\n",
    "cv2.destroyAllWindows()"
   ]
  }
 ],
 "metadata": {
  "kernelspec": {
   "display_name": "Python 3.10.6 64-bit",
   "language": "python",
   "name": "python3"
  },
  "language_info": {
   "codemirror_mode": {
    "name": "ipython",
    "version": 3
   },
   "file_extension": ".py",
   "mimetype": "text/x-python",
   "name": "python",
   "nbconvert_exporter": "python",
   "pygments_lexer": "ipython3",
   "version": "3.10.6"
  },
  "orig_nbformat": 4,
  "vscode": {
   "interpreter": {
    "hash": "916dbcbb3f70747c44a77c7bcd40155683ae19c65e1c03b4aa3499c5328201f1"
   }
  }
 },
 "nbformat": 4,
 "nbformat_minor": 2
}
