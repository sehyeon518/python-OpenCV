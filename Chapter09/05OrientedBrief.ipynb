{
 "cells": [
  {
   "cell_type": "code",
   "execution_count": 1,
   "metadata": {},
   "outputs": [],
   "source": [
    "import cv2\n",
    "import numpy as np"
   ]
  },
  {
   "cell_type": "markdown",
   "metadata": {},
   "source": [
    "# 예제 9.6 ORB 특징 검출 및 디스크립터\n",
    "### <span style='background-color:#fff5b1'>cv2.ORB</span>\n",
    "**create**\n",
    "**detect**\n",
    "**detectAndCompute()**"
   ]
  },
  {
   "cell_type": "code",
   "execution_count": 2,
   "metadata": {},
   "outputs": [],
   "source": [
    "def distance(f1, f2):\n",
    "    x1, y1 = f1.pt\n",
    "    x2, y2 = f2.pt\n",
    "    return np.sqrt((x1-x2) ** 2 + (y1-y2) ** 2)"
   ]
  },
  {
   "cell_type": "code",
   "execution_count": 3,
   "metadata": {},
   "outputs": [],
   "source": [
    "def filteringByDistance(kp, distE = 0.5):\n",
    "    size = len(kp)\n",
    "    mask = np.arange(1, size + 1).astype(np.bool_)\n",
    "    for i, f1 in enumerate(kp):\n",
    "        if not mask[i]:\n",
    "            continue\n",
    "        else:\n",
    "            for j, f2 in enumerate(kp):\n",
    "                if i == j:\n",
    "                    continue\n",
    "                if distance(f1, f2) < distE:\n",
    "                    mask[j] = False\n",
    "    print(\"False 개수\", list(mask).count(False), \"-> 필터링을 통해서 제거되는 pt의 개수\")\n",
    "    np_kp = np.array(kp)\n",
    "    return list(np_kp[mask])"
   ]
  },
  {
   "cell_type": "code",
   "execution_count": 4,
   "metadata": {},
   "outputs": [
    {
     "data": {
      "text/plain": [
       "array([[255, 255, 255, ..., 255, 255, 255],\n",
       "       [255, 255, 255, ..., 255, 255, 255],\n",
       "       [255, 255, 255, ..., 255, 255, 255],\n",
       "       ...,\n",
       "       [255, 255, 255, ..., 255, 255, 255],\n",
       "       [255, 255, 255, ..., 255, 255, 255],\n",
       "       [255, 255, 255, ..., 255, 255, 255]], dtype=uint8)"
      ]
     },
     "execution_count": 4,
     "metadata": {},
     "output_type": "execute_result"
    }
   ],
   "source": [
    "src = np.zeros(shape = (512,512,3), dtype = np.uint8) + 255\n",
    "cv2.rectangle(src, (100,100), (300,300), (0,0,0), -1)\n",
    "cv2.rectangle(src, (200,200), (400,400), (0,0,0), -1)\n",
    "\n",
    "gray = cv2.cvtColor(src, cv2.COLOR_BGR2GRAY)\n",
    "cv2.GaussianBlur(gray, (5,5), 0.0)"
   ]
  },
  {
   "cell_type": "code",
   "execution_count": 5,
   "metadata": {},
   "outputs": [
    {
     "name": "stdout",
     "output_type": "stream",
     "text": [
      "49\n"
     ]
    }
   ],
   "source": [
    "orbF = cv2.ORB_create(scoreType = 1) # Fast scroe로 반응값 계산 <-> Harris score\n",
    "kp = orbF.detect(gray)\n",
    "print(len(kp))\n",
    "dst = cv2.drawKeypoints(gray, kp, None, color = (0,0,255))"
   ]
  },
  {
   "cell_type": "code",
   "execution_count": 6,
   "metadata": {},
   "outputs": [
    {
     "name": "stdout",
     "output_type": "stream",
     "text": [
      "False 개수 41 -> 필터링을 통해서 제거되는 pt의 개수\n"
     ]
    },
    {
     "data": {
      "text/plain": [
       "8"
      ]
     },
     "execution_count": 6,
     "metadata": {},
     "output_type": "execute_result"
    }
   ],
   "source": [
    "kp = sorted(kp, key=lambda f: f.response, reverse = True)\n",
    "filtered_kp = list(filter(lambda f: f.response > 50, kp))\n",
    "filtered_kp = filteringByDistance(kp, 10)\n",
    "len(filtered_kp)"
   ]
  },
  {
   "cell_type": "code",
   "execution_count": 7,
   "metadata": {},
   "outputs": [
    {
     "name": "stdout",
     "output_type": "stream",
     "text": [
      "(8, 32)\n",
      "[  2 141   2 158  20 131 170 230  22   0  88   2  32 234  48  64  89 106\n",
      "  19 129   2 184   8 255  32  38 138 128  20  10  48 136]\n",
      "[  2 141   2 158  20 131 170 230  22   0  90   2  96 234  48  64  89 106\n",
      "  19 129  34 152  10 255  32  38 138 128  20  10  48 136]\n",
      "[  2 141   2 158  20 131 170 230  22   1  88   2  96 232  48  64  89 106\n",
      "  19 129  34 184   8 255  32  38 138 136  20  10  48 136]\n",
      "[  2 141   2 158  20 131 170 230  22   0  88   2  32 234  48  64  89 106\n",
      "  19 129   2 184   8 255  32  38 138 128  20  10  48 136]\n",
      "[  2 141   2 158  20 131 170 230  22   1  88   2  96 232  48  64  89 106\n",
      "  19 129  34 184   8 255  32  38 138 136  20  10  48 136]\n",
      "[  2 141   2 158  20 131 170 230  22   0  90   2  96 234  48  64  89 106\n",
      "  19 129  34 152  10 255  32  38 138 128  20  10  48 136]\n",
      "[104  48  56  96  32  76  81  16  97   8  52   8 159  23   0  48 132  20\n",
      "  93   8 136  96 176   0 195 249  32  16  66 128  70  51]\n",
      "[104  48  56  96  33  77  81  16 105 136  52   8 159  23   0  48 132  21\n",
      "  93   8 136  96 176   0 195 217  32  17  66 128  70  35]\n"
     ]
    }
   ],
   "source": [
    "kp, des = orbF.compute(gray, filtered_kp) # 디스크립터 계산\n",
    "print(des.shape)\n",
    "for i in des:\n",
    "    # for j in i:\n",
    "    #     print(j, end=\" \")\n",
    "    # print()\n",
    "    print(i)"
   ]
  },
  {
   "cell_type": "code",
   "execution_count": 8,
   "metadata": {},
   "outputs": [],
   "source": [
    "dst2 = cv2.drawKeypoints(gray, filtered_kp, None, color = (0,0,255))\n",
    "for f in filtered_kp:\n",
    "    x, y = f.pt\n",
    "    size = f.size\n",
    "    rect = ((x,y), (size,size), f.angle)\n",
    "    box = cv2.boxPoints(rect).astype(np.int32)\n",
    "    cv2.polylines(dst2, [box], True, (0,255,0), 2)\n",
    "    cv2.circle(dst2, (round(x), round(y)), round(f.size / 2), (255,0,0), 2)"
   ]
  },
  {
   "cell_type": "code",
   "execution_count": 9,
   "metadata": {},
   "outputs": [],
   "source": [
    "cv2.imshow('dst', dst)\n",
    "cv2.imshow('dst2', dst2)\n",
    "cv2.waitKey()\n",
    "cv2.destroyAllWindows()"
   ]
  },
  {
   "cell_type": "markdown",
   "metadata": {},
   "source": [
    "# 예제 9.7 다른 특징 검출기의 ORB 디스크립터"
   ]
  },
  {
   "cell_type": "code",
   "execution_count": 10,
   "metadata": {},
   "outputs": [],
   "source": [
    "src = np.zeros(shape = (512,512,3), dtype = np.uint8) + 255\n",
    "cv2.rectangle(src, (100,100), (300,300), (0,0,0), -1)\n",
    "cv2.rectangle(src, (200,200), (400,400), (0,0,0), -1)\n",
    "\n",
    "gray = cv2.cvtColor(src, cv2.COLOR_BGR2GRAY)"
   ]
  },
  {
   "cell_type": "code",
   "execution_count": 11,
   "metadata": {},
   "outputs": [],
   "source": [
    "fastF = cv2.FastFeatureDetector_create(threshold=10)\n",
    "# mserF = cv2.MSER_create(10)\n",
    "# blobF = cv2.SimpleBlobDetector_create()\n",
    "# goodF = cv2.GFTTDetector_create(maxCorners = 20, minDistance = 10)"
   ]
  },
  {
   "cell_type": "code",
   "execution_count": 12,
   "metadata": {},
   "outputs": [
    {
     "data": {
      "text/plain": [
       "0"
      ]
     },
     "execution_count": 12,
     "metadata": {},
     "output_type": "execute_result"
    }
   ],
   "source": [
    "kp = fastF.detect(gray)\n",
    "# kp = mserF.detect(gray)\n",
    "# kp = blobF.detect(gray)\n",
    "# kp = goodF.detect(gray)\n",
    "len(kp)"
   ]
  },
  {
   "cell_type": "code",
   "execution_count": 13,
   "metadata": {},
   "outputs": [
    {
     "name": "stdout",
     "output_type": "stream",
     "text": [
      "False 개수 0 -> 필터링을 통해서 제거되는 pt의 개수\n",
      "0\n"
     ]
    }
   ],
   "source": [
    "filtered_kp = filteringByDistance(kp, 10)\n",
    "print(len(filtered_kp))\n",
    "dst  = cv2.drawKeypoints(gray, filtered_kp, None, color = (0,0,255))"
   ]
  },
  {
   "cell_type": "code",
   "execution_count": 14,
   "metadata": {},
   "outputs": [],
   "source": [
    "cv2.imshow('dst', dst)\n",
    "cv2.waitKey()\n",
    "cv2.destroyAllWindows()"
   ]
  }
 ],
 "metadata": {
  "kernelspec": {
   "display_name": "Python 3.10.6 64-bit",
   "language": "python",
   "name": "python3"
  },
  "language_info": {
   "codemirror_mode": {
    "name": "ipython",
    "version": 3
   },
   "file_extension": ".py",
   "mimetype": "text/x-python",
   "name": "python",
   "nbconvert_exporter": "python",
   "pygments_lexer": "ipython3",
   "version": "3.10.6"
  },
  "orig_nbformat": 4,
  "vscode": {
   "interpreter": {
    "hash": "916dbcbb3f70747c44a77c7bcd40155683ae19c65e1c03b4aa3499c5328201f1"
   }
  }
 },
 "nbformat": 4,
 "nbformat_minor": 2
}
