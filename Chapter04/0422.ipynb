{
 "cells": [
  {
   "cell_type": "markdown",
   "metadata": {},
   "source": [
    "# 예제 4.22 cv2.randn()에 2차원 정규분포 난수 좌표"
   ]
  },
  {
   "cell_type": "code",
   "execution_count": 1,
   "metadata": {},
   "outputs": [],
   "source": [
    "import cv2\n",
    "import numpy as np\n",
    "import time"
   ]
  },
  {
   "cell_type": "code",
   "execution_count": 2,
   "metadata": {},
   "outputs": [],
   "source": [
    "dst = np.full((512,512,3), (255,255,255), dtype=np.uint8)\n",
    "nPoints = 100\n",
    "pts = np.zeros((1, nPoints, 2), dtype = np.uint16)"
   ]
  },
  {
   "cell_type": "code",
   "execution_count": 3,
   "metadata": {},
   "outputs": [
    {
     "data": {
      "text/plain": [
       "array([[[309, 394],\n",
       "        [281, 166],\n",
       "        [312, 221],\n",
       "        [264, 194],\n",
       "        [274, 284],\n",
       "        [247, 200],\n",
       "        [239, 198],\n",
       "        [245, 232],\n",
       "        [290, 238],\n",
       "        [231, 198],\n",
       "        [217, 239],\n",
       "        [265, 293],\n",
       "        [358, 214],\n",
       "        [200, 238],\n",
       "        [197, 274],\n",
       "        [323, 203],\n",
       "        [254, 244],\n",
       "        [191, 233],\n",
       "        [222, 266],\n",
       "        [288, 276],\n",
       "        [220, 171],\n",
       "        [265, 235],\n",
       "        [296, 320],\n",
       "        [294, 355],\n",
       "        [172, 277],\n",
       "        [181, 226],\n",
       "        [270, 216],\n",
       "        [328, 287],\n",
       "        [334, 237],\n",
       "        [270, 320],\n",
       "        [265, 244],\n",
       "        [294, 302],\n",
       "        [247, 183],\n",
       "        [265, 180],\n",
       "        [240, 210],\n",
       "        [310, 279],\n",
       "        [313, 243],\n",
       "        [224, 207],\n",
       "        [310, 264],\n",
       "        [295, 290],\n",
       "        [245, 239],\n",
       "        [250, 310],\n",
       "        [233, 227],\n",
       "        [241, 221],\n",
       "        [326, 266],\n",
       "        [295, 268],\n",
       "        [227, 328],\n",
       "        [285, 220],\n",
       "        [281, 274],\n",
       "        [233, 269],\n",
       "        [313, 224],\n",
       "        [282, 242],\n",
       "        [164, 193],\n",
       "        [240, 220],\n",
       "        [263, 225],\n",
       "        [323, 263],\n",
       "        [324, 245],\n",
       "        [292, 258],\n",
       "        [334, 213],\n",
       "        [270, 278],\n",
       "        [202, 253],\n",
       "        [281, 184],\n",
       "        [191, 276],\n",
       "        [227, 226],\n",
       "        [194, 263],\n",
       "        [334, 286],\n",
       "        [262, 217],\n",
       "        [157, 226],\n",
       "        [200, 265],\n",
       "        [252, 237],\n",
       "        [347, 276],\n",
       "        [269, 334],\n",
       "        [181, 226],\n",
       "        [267, 233],\n",
       "        [260, 245],\n",
       "        [204, 209],\n",
       "        [210, 313],\n",
       "        [300, 240],\n",
       "        [217, 273],\n",
       "        [272, 355],\n",
       "        [319, 309],\n",
       "        [198, 237],\n",
       "        [293, 300],\n",
       "        [239, 266],\n",
       "        [265, 272],\n",
       "        [232, 192],\n",
       "        [228, 241],\n",
       "        [160, 221],\n",
       "        [337, 266],\n",
       "        [191, 325],\n",
       "        [191, 334],\n",
       "        [212, 290],\n",
       "        [310, 291],\n",
       "        [272, 263],\n",
       "        [280, 308],\n",
       "        [260, 258],\n",
       "        [221, 237],\n",
       "        [185, 251],\n",
       "        [175, 233],\n",
       "        [218, 264]]], dtype=uint16)"
      ]
     },
     "execution_count": 3,
     "metadata": {},
     "output_type": "execute_result"
    }
   ],
   "source": [
    "cv2.setRNGSeed((int(time.time())))\n",
    "cv2.randn(pts , mean = (256, 256), stddev = (50,50))"
   ]
  },
  {
   "cell_type": "code",
   "execution_count": 4,
   "metadata": {},
   "outputs": [],
   "source": [
    "for k in range(nPoints):\n",
    "    x, y = pts[0][k, :]\n",
    "    cv2.circle(dst, (x,y), radius = 5, color = (0,0,255), thickness = -1)"
   ]
  },
  {
   "cell_type": "code",
   "execution_count": 5,
   "metadata": {},
   "outputs": [],
   "source": [
    "cv2.imshow('dst', dst)\n",
    "cv2.waitKey()\n",
    "cv2.destroyAllWindows()"
   ]
  }
 ],
 "metadata": {
  "kernelspec": {
   "display_name": "Python 3.10.6 64-bit",
   "language": "python",
   "name": "python3"
  },
  "language_info": {
   "codemirror_mode": {
    "name": "ipython",
    "version": 3
   },
   "file_extension": ".py",
   "mimetype": "text/x-python",
   "name": "python",
   "nbconvert_exporter": "python",
   "pygments_lexer": "ipython3",
   "version": "3.10.6"
  },
  "orig_nbformat": 4,
  "vscode": {
   "interpreter": {
    "hash": "916dbcbb3f70747c44a77c7bcd40155683ae19c65e1c03b4aa3499c5328201f1"
   }
  }
 },
 "nbformat": 4,
 "nbformat_minor": 2
}
