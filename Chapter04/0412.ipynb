{
 "cells": [
  {
   "cell_type": "markdown",
   "metadata": {},
   "source": [
    "# 예제 4.12 채널 병합"
   ]
  },
  {
   "cell_type": "code",
   "execution_count": 1,
   "metadata": {},
   "outputs": [],
   "source": [
    "import cv2\n",
    "\n",
    "src = cv2.imread('../sample/why.jpeg')"
   ]
  },
  {
   "cell_type": "code",
   "execution_count": 2,
   "metadata": {},
   "outputs": [
    {
     "data": {
      "text/plain": [
       "(array([[255, 254, 255, ..., 255, 255, 255],\n",
       "        [252, 226, 231, ..., 231, 229, 231],\n",
       "        [254, 228, 233, ..., 233, 231, 233],\n",
       "        ...,\n",
       "        [255, 255, 255, ..., 239, 238, 237],\n",
       "        [255, 255, 255, ..., 231, 231, 228],\n",
       "        [255, 255, 255, ..., 255, 255, 255]], dtype=uint8),\n",
       " array([[255, 247, 250, ..., 247, 247, 247],\n",
       "        [243, 219, 222, ..., 213, 214, 213],\n",
       "        [242, 219, 221, ..., 213, 213, 213],\n",
       "        ...,\n",
       "        [255, 255, 255, ..., 218, 217, 217],\n",
       "        [255, 255, 255, ..., 213, 213, 213],\n",
       "        [255, 255, 255, ..., 250, 250, 249]], dtype=uint8),\n",
       " array([[252, 244, 247, ..., 245, 245, 245],\n",
       "        [240, 216, 219, ..., 212, 212, 212],\n",
       "        [240, 216, 219, ..., 212, 212, 212],\n",
       "        ...,\n",
       "        [255, 255, 255, ..., 217, 216, 216],\n",
       "        [255, 255, 255, ..., 212, 212, 211],\n",
       "        [255, 255, 255, ..., 248, 248, 247]], dtype=uint8))"
      ]
     },
     "execution_count": 2,
     "metadata": {},
     "output_type": "execute_result"
    }
   ],
   "source": [
    "b, g, r = cv2.split(src)\n",
    "b, g, r"
   ]
  },
  {
   "cell_type": "code",
   "execution_count": 3,
   "metadata": {},
   "outputs": [
    {
     "data": {
      "text/plain": [
       "numpy.ndarray"
      ]
     },
     "execution_count": 3,
     "metadata": {},
     "output_type": "execute_result"
    }
   ],
   "source": [
    "dst = cv2.merge([b, g, r])\n",
    "type(dst)"
   ]
  },
  {
   "cell_type": "code",
   "execution_count": 4,
   "metadata": {},
   "outputs": [
    {
     "data": {
      "text/plain": [
       "(199, 253, 3)"
      ]
     },
     "execution_count": 4,
     "metadata": {},
     "output_type": "execute_result"
    }
   ],
   "source": [
    "dst.shape"
   ]
  },
  {
   "cell_type": "code",
   "execution_count": 5,
   "metadata": {},
   "outputs": [],
   "source": [
    "cv2.imshow('dst', dst)\n",
    "cv2.waitKey()\n",
    "cv2.destroyAllWindows()"
   ]
  }
 ],
 "metadata": {
  "kernelspec": {
   "display_name": "Python 3.10.6 64-bit",
   "language": "python",
   "name": "python3"
  },
  "language_info": {
   "codemirror_mode": {
    "name": "ipython",
    "version": 3
   },
   "file_extension": ".py",
   "mimetype": "text/x-python",
   "name": "python",
   "nbconvert_exporter": "python",
   "pygments_lexer": "ipython3",
   "version": "3.10.6"
  },
  "orig_nbformat": 4,
  "vscode": {
   "interpreter": {
    "hash": "916dbcbb3f70747c44a77c7bcd40155683ae19c65e1c03b4aa3499c5328201f1"
   }
  }
 },
 "nbformat": 4,
 "nbformat_minor": 2
}
