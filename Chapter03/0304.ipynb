{
 "cells": [
  {
   "cell_type": "markdown",
   "metadata": {},
   "source": [
    "# 예제 3.4 타원 그리기"
   ]
  },
  {
   "cell_type": "code",
   "execution_count": 1,
   "metadata": {},
   "outputs": [],
   "source": [
    "import cv2\n",
    "import numpy as np\n",
    "\n",
    "img = np.zeros(shape = (512,512,3), dtype=np.uint8) + 255"
   ]
  },
  {
   "cell_type": "code",
   "execution_count": 2,
   "metadata": {},
   "outputs": [],
   "source": [
    "ptCenter = img.shape[1] // 2, img.shape[0] // 2\n",
    "size = 200, 100"
   ]
  },
  {
   "cell_type": "markdown",
   "metadata": {},
   "source": [
    "### <span style='background-color:#fff5b1'>cv2.ellipse(img, center, axes, angle, startAngle, endAngle, color, thickness)</span>\n",
    "중심점 center, 주축 크기의 절반 axes, 수평축과의 회전각도 angle, 타원을 그리는 시작과 끝의 각도 startAngle과 endAngle인 타원\\\n",
    "**angle** 시계방향으로 angle만큼 주축이 회전한다\\\n",
    "주축이 angle만큼 회전하면 startAngle, endAngle 기준 축도 함께 회전한다\n",
    "**startAngle, endAngle** 타원을 그리기 시작할 각도, 끝의 각도\n",
    "\n",
    "### <span style='background-color:#fff5b1'>cv2.ellipse(img, box, color, thickness)</span>\n",
    "중심점 center, 회전된 사각형 box=(center, size, angle)에 내접하는 타원"
   ]
  },
  {
   "cell_type": "code",
   "execution_count": 3,
   "metadata": {},
   "outputs": [],
   "source": [
    "cv2.ellipse(img, ptCenter, size, 0, 0, 360, (255,0,0))\n",
    "cv2.ellipse(img, ptCenter, size, 45, 0, 360, (0,0,255))\n",
    "\n",
    "box = (ptCenter, size, 0)\n",
    "cv2.ellipse(img, box, (255,0,0), 5)\n",
    "\n",
    "box = (ptCenter, size, 45)\n",
    "cv2.ellipse(img, box, (0,0,255), 5)\n",
    "\n",
    "cv2.imshow('img', img)\n",
    "cv2.waitKey()\n",
    "cv2.destroyAllWindows()"
   ]
  },
  {
   "cell_type": "markdown",
   "metadata": {},
   "source": [
    "![img_screenshot_27 12 2022](https://user-images.githubusercontent.com/84698896/209607856-031d73fb-18d8-4a44-b8b5-acbd831182fe.png)\n"
   ]
  }
 ],
 "metadata": {
  "kernelspec": {
   "display_name": "Python 3.10.6 64-bit",
   "language": "python",
   "name": "python3"
  },
  "language_info": {
   "codemirror_mode": {
    "name": "ipython",
    "version": 3
   },
   "file_extension": ".py",
   "mimetype": "text/x-python",
   "name": "python",
   "nbconvert_exporter": "python",
   "pygments_lexer": "ipython3",
   "version": "3.10.6"
  },
  "orig_nbformat": 4,
  "vscode": {
   "interpreter": {
    "hash": "916dbcbb3f70747c44a77c7bcd40155683ae19c65e1c03b4aa3499c5328201f1"
   }
  }
 },
 "nbformat": 4,
 "nbformat_minor": 2
}
