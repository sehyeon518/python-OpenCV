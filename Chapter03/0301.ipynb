{
 "cells": [
  {
   "cell_type": "markdown",
   "metadata": {},
   "source": [
    "# 예제 3.1 직선 및 사각형 그리기"
   ]
  },
  {
   "cell_type": "markdown",
   "metadata": {},
   "source": [
    "**numpy** numerical python: 벡터 및 행렬 연산을 위한 python library\\\n",
    "**np.array(list)** list를 ndarray type으로 변경\\\n",
    "**array.shape** (x, y, z) 축 순서대로 출력\\\n",
    "**array.dtype** dtype('int64) dtype('float64')"
   ]
  },
  {
   "cell_type": "markdown",
   "metadata": {},
   "source": [
    "### <span style='background-color:#fff5b1'>numpy 연산</span>\n",
    "\\+ 덧셈, - 뺄셈, * element 곱셈, @ 내적"
   ]
  },
  {
   "cell_type": "code",
   "execution_count": 1,
   "metadata": {},
   "outputs": [],
   "source": [
    "import cv2\n",
    "import numpy as np"
   ]
  },
  {
   "cell_type": "markdown",
   "metadata": {},
   "source": [
    "### <span style='background-color:#fff5b1'>np.zeros(shape = (w, x, y), dtype = np.uint8) + 255</span>\n",
    "usigned int w * x * y 크기의 배열(ndarray)를 255(흰색)로 초기화"
   ]
  },
  {
   "cell_type": "code",
   "execution_count": 2,
   "metadata": {},
   "outputs": [
    {
     "name": "stdout",
     "output_type": "stream",
     "text": [
      "[[255 255 255]\n",
      " [255 255 255]\n",
      " [255 255 255]\n",
      " ...\n",
      " [255 255 255]\n",
      " [255 255 255]\n",
      " [255 255 255]] (512, 512, 3)\n"
     ]
    }
   ],
   "source": [
    "img = np.zeros(shape = (512,512,3), dtype = np.uint8) + 255 # unsigned int 512 * 512 * 3 모두 255로 초기화\n",
    "print(img[0], img.shape)"
   ]
  },
  {
   "cell_type": "markdown",
   "metadata": {},
   "source": [
    "### <span style='background-color:#fff5b1'>cv2.rectangle(img, point1, point2, color, thickness)</span>\n",
    "img 위에 point1, point2로 정의되는 직사각형을 그리기\\\n",
    "**thickness == -1** 이면 color 색상으로 채운 사각형을 그린다\n",
    "### <span style='background-color:#fff5b1'>cv2.line(img, pt1, pt2, color, thickness)</span>\n",
    "pt1, pt2를 연결하는 직선 그리기"
   ]
  },
  {
   "cell_type": "code",
   "execution_count": 3,
   "metadata": {},
   "outputs": [],
   "source": [
    "pt1 = 100, 100 # tuple\n",
    "pt2 = 400, 400\n",
    "\n",
    "cv2.rectangle(img, pt1, pt2, (0, 255, 0), 2)\n",
    "\n",
    "cv2.line(img, (0, 0), (500, 0), (255, 0, 0), 5)\n",
    "cv2.line(img, (0, 0), (0, 500), (0, 0, 255), 5)\n",
    "\n",
    "cv2.imshow('img', img)\n",
    "cv2.waitKey()\n",
    "cv2.destroyAllWindows()"
   ]
  },
  {
   "cell_type": "markdown",
   "metadata": {},
   "source": [
    "![image](https://user-images.githubusercontent.com/84698896/209605763-ef6958e4-26f7-4a85-ab62-db38b5e41d93.png)"
   ]
  }
 ],
 "metadata": {
  "kernelspec": {
   "display_name": "Python 3.10.6 64-bit",
   "language": "python",
   "name": "python3"
  },
  "language_info": {
   "codemirror_mode": {
    "name": "ipython",
    "version": 3
   },
   "file_extension": ".py",
   "mimetype": "text/x-python",
   "name": "python",
   "nbconvert_exporter": "python",
   "pygments_lexer": "ipython3",
   "version": "3.10.6"
  },
  "orig_nbformat": 4,
  "vscode": {
   "interpreter": {
    "hash": "916dbcbb3f70747c44a77c7bcd40155683ae19c65e1c03b4aa3499c5328201f1"
   }
  }
 },
 "nbformat": 4,
 "nbformat_minor": 2
}
