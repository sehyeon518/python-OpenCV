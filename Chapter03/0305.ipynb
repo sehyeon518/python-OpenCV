{
 "cells": [
  {
   "cell_type": "markdown",
   "metadata": {},
   "source": [
    "# 예제 3.5 다각형 그리기 1"
   ]
  },
  {
   "cell_type": "code",
   "execution_count": 1,
   "metadata": {},
   "outputs": [],
   "source": [
    "import cv2\n",
    "import numpy as np"
   ]
  },
  {
   "cell_type": "code",
   "execution_count": 2,
   "metadata": {},
   "outputs": [],
   "source": [
    "img = np.zeros(shape = (512, 512, 3), dtype = np.uint8) + 255\n",
    "\n",
    "pts1 = np.array([[100, 100], [200, 100], [200, 200], [100, 200]], dtype=np.int32)\n",
    "pts2 = np.array([[300, 200], [400, 100], [400, 200]], dtype=np.int32)"
   ]
  },
  {
   "cell_type": "markdown",
   "metadata": {},
   "source": [
    "### <span style='background-color:#fff5b1'>cv2.polylines(img, pts, isClosed, color, thickness)</span>\n",
    "다각형 numpy 배열 pts를 color 색상으로 그린다\\\n",
    "**isClosed=True** 이면 닫힌 다각형을 그린다\\\n",
    "닫힌 다각형: 주어진 점 중 첫번째 점과 마지막 점을 연결"
   ]
  },
  {
   "cell_type": "code",
   "execution_count": 3,
   "metadata": {},
   "outputs": [],
   "source": [
    "cv2.polylines(img, [pts1, pts2], isClosed=True, color=(255,0,0))\n",
    "\n",
    "cv2.imshow('img', img)\n",
    "cv2.waitKey()\n",
    "cv2.destroyAllWindows()"
   ]
  },
  {
   "cell_type": "markdown",
   "metadata": {},
   "source": [
    "![img_screenshot_27 12 2022](https://user-images.githubusercontent.com/84698896/209609724-86c70fe4-eea6-442b-b15b-debb1265a30b.png)"
   ]
  }
 ],
 "metadata": {
  "kernelspec": {
   "display_name": "Python 3.10.6 64-bit",
   "language": "python",
   "name": "python3"
  },
  "language_info": {
   "codemirror_mode": {
    "name": "ipython",
    "version": 3
   },
   "file_extension": ".py",
   "mimetype": "text/x-python",
   "name": "python",
   "nbconvert_exporter": "python",
   "pygments_lexer": "ipython3",
   "version": "3.10.6"
  },
  "orig_nbformat": 4,
  "vscode": {
   "interpreter": {
    "hash": "916dbcbb3f70747c44a77c7bcd40155683ae19c65e1c03b4aa3499c5328201f1"
   }
  }
 },
 "nbformat": 4,
 "nbformat_minor": 2
}
