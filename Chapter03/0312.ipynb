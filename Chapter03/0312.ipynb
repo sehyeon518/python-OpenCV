{
 "cells": [
  {
   "cell_type": "markdown",
   "metadata": {},
   "source": [
    "# 예제 3.12 트랙바 이벤트 처리"
   ]
  },
  {
   "cell_type": "code",
   "execution_count": 1,
   "metadata": {},
   "outputs": [],
   "source": [
    "import cv2\n",
    "import numpy as np"
   ]
  },
  {
   "cell_type": "markdown",
   "metadata": {},
   "source": [
    "### <span style='background-color:#fff5b1'>cv2.getTrackbarPos(trackbarname, window)</span>\n",
    "트랙바의 현재 위치를 반환한다\\\n",
    "비디오 출력 객체 해제"
   ]
  },
  {
   "cell_type": "code",
   "execution_count": 2,
   "metadata": {},
   "outputs": [],
   "source": [
    "def onChange(pos):\n",
    "    global img\n",
    "    r = cv2.getTrackbarPos('R', 'img')\n",
    "    g = cv2.getTrackbarPos('G', 'img')\n",
    "    b = cv2.getTrackbarPos('B', 'img')\n",
    "    img[:] = (b, g, r)\n",
    "    cv2.imshow('img', img)"
   ]
  },
  {
   "cell_type": "code",
   "execution_count": 3,
   "metadata": {},
   "outputs": [],
   "source": [
    "img = np.zeros(shape=(512,512,3), dtype=np.uint8)\n",
    "cv2.imshow('img', img)"
   ]
  },
  {
   "cell_type": "markdown",
   "metadata": {},
   "source": [
    "### <span style='background-color:#fff5b1'>cv2.createTrackbar(trackbarname, window, value, count, onChange)</span>\n",
    "window에 트랙바를 생성한다\\\n",
    "value는 트랙바를 생성할 때 슬라이더의 위치, count는 슬라이더의 최댓값, onChange() 함수는 슬라이더 위치가 변경될 때마다 슬라이더 이벤트를 처리하기 위해 호출되는 함수이다\\\n",
    "비디오 출력 객체 생성"
   ]
  },
  {
   "cell_type": "code",
   "execution_count": 4,
   "metadata": {},
   "outputs": [],
   "source": [
    "cv2.createTrackbar('R', 'img', 0, 255, onChange)\n",
    "cv2.createTrackbar('G', 'img', 0, 255, onChange)\n",
    "cv2.createTrackbar('B', 'img', 0, 255, onChange)"
   ]
  },
  {
   "cell_type": "markdown",
   "metadata": {},
   "source": [
    "### <span style='background-color:#fff5b1'>cv2.setTrackbarPos(tracknarname, window, pos)</span>\n",
    "트랙바의 위치를 pos로 변경한다\\\n",
    "비디오에 이미지 출력"
   ]
  },
  {
   "cell_type": "code",
   "execution_count": 5,
   "metadata": {},
   "outputs": [],
   "source": [
    "cv2.setTrackbarPos('B', 'img', 255)\n",
    "\n",
    "cv2.waitKey()\n",
    "cv2.destroyAllWindows()"
   ]
  },
  {
   "cell_type": "markdown",
   "metadata": {},
   "source": [
    "![image](https://user-images.githubusercontent.com/84698896/209757296-6eae2ddb-2384-438b-a2d8-221d3be633d9.png)"
   ]
  }
 ],
 "metadata": {
  "kernelspec": {
   "display_name": "Python 3.10.6 64-bit",
   "language": "python",
   "name": "python3"
  },
  "language_info": {
   "codemirror_mode": {
    "name": "ipython",
    "version": 3
   },
   "file_extension": ".py",
   "mimetype": "text/x-python",
   "name": "python",
   "nbconvert_exporter": "python",
   "pygments_lexer": "ipython3",
   "version": "3.10.6"
  },
  "orig_nbformat": 4,
  "vscode": {
   "interpreter": {
    "hash": "916dbcbb3f70747c44a77c7bcd40155683ae19c65e1c03b4aa3499c5328201f1"
   }
  }
 },
 "nbformat": 4,
 "nbformat_minor": 2
}
