{
 "cells": [
  {
   "cell_type": "markdown",
   "metadata": {},
   "source": [
    "# 예제 3.6 다각형 그리기 2"
   ]
  },
  {
   "cell_type": "code",
   "execution_count": 1,
   "metadata": {},
   "outputs": [],
   "source": [
    "import cv2\n",
    "import numpy as np"
   ]
  },
  {
   "cell_type": "code",
   "execution_count": 2,
   "metadata": {},
   "outputs": [
    {
     "data": {
      "text/plain": [
       "((256, 256), (200, 100))"
      ]
     },
     "execution_count": 2,
     "metadata": {},
     "output_type": "execute_result"
    }
   ],
   "source": [
    "img = np.zeros(shape = (512,512,3), dtype=np.uint8) + 255\n",
    "\n",
    "ptCenter = img.shape[1] // 2, img.shape[0] // 2\n",
    "size = 200, 100\n",
    "ptCenter, size"
   ]
  },
  {
   "cell_type": "markdown",
   "metadata": {},
   "source": [
    "### cv2.ellipse2Poly(center, axes, angle, arcStart, arcEnd, delta)\n",
    "중심점 center, 축의 크기 axes, 각도 angle, 호의 시작과 끝 각도 startAngle과 endAngle인 타원 위의 좌표를 delta 각도 간격으로 계산하여 반환한다\\\n",
    "**0 < delta <= 180**\\\n",
    "**100도 간격으로 나누면?** 360 / 100 = 3.6 -> 점 4개 return\\\n",
    "**delta에 의해 생기는 점의 개수 n** = 360 / delta 반올림\\\n",
    "**ellipse2Poly** 는 항상 마지막점을 포함해서 n+1개 return"
   ]
  },
  {
   "cell_type": "code",
   "execution_count": 3,
   "metadata": {},
   "outputs": [
    {
     "data": {
      "text/plain": [
       "array([[456, 256],\n",
       "       [397, 327],\n",
       "       [256, 356],\n",
       "       [115, 327],\n",
       "       [ 56, 256],\n",
       "       [115, 185],\n",
       "       [256, 156],\n",
       "       [397, 185],\n",
       "       [456, 256]], dtype=int32)"
      ]
     },
     "execution_count": 3,
     "metadata": {},
     "output_type": "execute_result"
    }
   ],
   "source": [
    "cv2.ellipse(img, ptCenter, size, 0, 0, 360, (255,0,0))\n",
    "pts1 = cv2.ellipse2Poly(ptCenter, size, 0, 0, 360, delta=45)\n",
    "pts1"
   ]
  },
  {
   "cell_type": "code",
   "execution_count": 4,
   "metadata": {},
   "outputs": [],
   "source": [
    "cv2.ellipse(img, ptCenter, size, 45, 0, 360, (255,0,0))\n",
    "pts2 = cv2.ellipse2Poly(ptCenter, size, 45, 0, 360, delta=45)"
   ]
  },
  {
   "cell_type": "code",
   "execution_count": 5,
   "metadata": {},
   "outputs": [],
   "source": [
    "cv2.polylines(img, [pts1, pts2], isClosed=True, color=(0,0,255))\n",
    "\n",
    "cv2.imshow('img', img)\n",
    "cv2.waitKey()\n",
    "cv2.destroyAllWindows()"
   ]
  },
  {
   "cell_type": "markdown",
   "metadata": {},
   "source": [
    "![img_screenshot_27 12 2022](https://user-images.githubusercontent.com/84698896/209610297-a1fe5fda-2037-412b-a823-f81f12f21477.png)"
   ]
  }
 ],
 "metadata": {
  "kernelspec": {
   "display_name": "Python 3.10.6 64-bit",
   "language": "python",
   "name": "python3"
  },
  "language_info": {
   "codemirror_mode": {
    "name": "ipython",
    "version": 3
   },
   "file_extension": ".py",
   "mimetype": "text/x-python",
   "name": "python",
   "nbconvert_exporter": "python",
   "pygments_lexer": "ipython3",
   "version": "3.10.6"
  },
  "orig_nbformat": 4,
  "vscode": {
   "interpreter": {
    "hash": "916dbcbb3f70747c44a77c7bcd40155683ae19c65e1c03b4aa3499c5328201f1"
   }
  }
 },
 "nbformat": 4,
 "nbformat_minor": 2
}
