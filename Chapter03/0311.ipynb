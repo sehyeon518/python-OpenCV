{
 "cells": [
  {
   "cell_type": "markdown",
   "metadata": {},
   "source": [
    "# 예제 3.11 마우스 이벤트 처리"
   ]
  },
  {
   "cell_type": "code",
   "execution_count": 1,
   "metadata": {},
   "outputs": [],
   "source": [
    "import cv2\n",
    "import numpy as np"
   ]
  },
  {
   "cell_type": "code",
   "execution_count": 2,
   "metadata": {},
   "outputs": [],
   "source": [
    "def onMouse(event, x, y, flags, param):\n",
    "    # 마우스 왼쪽 버튼 클릭\n",
    "    if event == cv2.EVENT_LBUTTONDOWN:\n",
    "        if flags & cv2.EVENT_FLAG_SHIFTKEY: # Shift 키\n",
    "            cv2.rectangle(param[0], (x-5, y-5), (x+5, y+5), (255,0,0)) # Blue 직사각형\n",
    "        else:\n",
    "            cv2.circle(param[0], (x,y), 5, (255,0,0), 3) # Blue 원\n",
    "    # 마우스 오른쪽 버튼 클릭\n",
    "    elif event == cv2.EVENT_RBUTTONDOWN:\n",
    "        cv2.circle(param[0], (x,y), 5, (0,0,255), 3) # Rec  원\n",
    "    # 마우스 왼쪽 버튼 더블 클릭\n",
    "    elif event == cv2.EVENT_LBUTTONDBLCLK:\n",
    "        param[0] = np.zeros(param[0].shape, np.uint8) + 255\n",
    "    cv2.imshow('img', param[0])"
   ]
  },
  {
   "cell_type": "markdown",
   "metadata": {},
   "source": [
    "### cv2.setMouseCallback(window, onMouse)\n",
    "window에서 발생하는 마우스 이벤트 처리 핸들러 함수를 onMouse() 함수로 전달한다"
   ]
  },
  {
   "cell_type": "code",
   "execution_count": 3,
   "metadata": {},
   "outputs": [],
   "source": [
    "img = np.zeros(shape=(512,512,3), dtype=np.uint8) + 8\n",
    "cv2.imshow('img', img)\n",
    "cv2.setMouseCallback('img', onMouse, [img])\n",
    "cv2.waitKey()\n",
    "cv2.destroyAllWindows()"
   ]
  },
  {
   "cell_type": "markdown",
   "metadata": {},
   "source": [
    "![img_screenshot_28 12 2022](https://user-images.githubusercontent.com/84698896/209756390-a95bc249-2ceb-44da-b120-4623d56fa7b0.png)\n",
    "![image](https://user-images.githubusercontent.com/84698896/209756482-f5f5baa8-1db2-4588-a72a-e53287fbf08b.png)"
   ]
  }
 ],
 "metadata": {
  "kernelspec": {
   "display_name": "Python 3.10.6 64-bit",
   "language": "python",
   "name": "python3"
  },
  "language_info": {
   "codemirror_mode": {
    "name": "ipython",
    "version": 3
   },
   "file_extension": ".py",
   "mimetype": "text/x-python",
   "name": "python",
   "nbconvert_exporter": "python",
   "pygments_lexer": "ipython3",
   "version": "3.10.6"
  },
  "orig_nbformat": 4,
  "vscode": {
   "interpreter": {
    "hash": "916dbcbb3f70747c44a77c7bcd40155683ae19c65e1c03b4aa3499c5328201f1"
   }
  }
 },
 "nbformat": 4,
 "nbformat_minor": 2
}
