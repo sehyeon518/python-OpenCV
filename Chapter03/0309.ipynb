{
 "cells": [
  {
   "cell_type": "markdown",
   "metadata": {},
   "source": [
    "# 예제 3.9 문자열 출력"
   ]
  },
  {
   "cell_type": "code",
   "execution_count": 1,
   "metadata": {},
   "outputs": [],
   "source": [
    "import cv2\n",
    "import numpy as np\n",
    "\n",
    "img = np.zeros(shape=(512,512,3), dtype=np.uint8) + 255"
   ]
  },
  {
   "cell_type": "code",
   "execution_count": 2,
   "metadata": {},
   "outputs": [],
   "source": [
    "text = 'OpenCV Programming'"
   ]
  },
  {
   "cell_type": "markdown",
   "metadata": {},
   "source": [
    "### 문자열 출력 크기 반환\n",
    "cv2.getTextSize(text, fontFace, fontScale, thickness)\\\n",
    "문자열 text의 출력을 위한 크기를 retval에 반환한다\\\n",
    "출력될 영역의 위치 y값을 baseLine에 반환한다"
   ]
  },
  {
   "cell_type": "markdown",
   "metadata": {},
   "source": [
    "### 문자열 출력\n",
    "cv2.putText(img, text, org, fontFace, fontScale, color, thickness)\\\n",
    "text를 사각형 왼쪽 하단 좌표 위치 org에 폰트 fontFace, fontScale, color로 문자열을 출력한다"
   ]
  },
  {
   "cell_type": "code",
   "execution_count": 3,
   "metadata": {},
   "outputs": [],
   "source": [
    "org = (50, 100)\n",
    "font = cv2.FONT_HERSHEY_SIMPLEX\n",
    "cv2.putText(img, text, org, font, 1, (255,0,0), 2) # Blue, 크기 1, 두께 2, 'OpenCV Programming' 출력\n",
    "\n",
    "size, baseLine = cv2.getTextSize(text, font, 1, 2)"
   ]
  },
  {
   "cell_type": "markdown",
   "metadata": {},
   "source": [
    "![스크린샷 2022-12-28 12-22-15](https://user-images.githubusercontent.com/84698896/209752283-40c8131f-140d-4295-9c76-11e088c714d8.png)"
   ]
  },
  {
   "cell_type": "code",
   "execution_count": 4,
   "metadata": {},
   "outputs": [],
   "source": [
    "cv2.rectangle(img, org, (org[0] + size[0] , org[1] - size[1]), (0,0,255))\n",
    "cv2.circle(img, org, 3, (0,255,0), 2)\n",
    "\n",
    "cv2.imshow('img', img)\n",
    "cv2.waitKey()\n",
    "cv2.destroyAllWindows()"
   ]
  },
  {
   "cell_type": "markdown",
   "metadata": {},
   "source": [
    "![스크린샷 2022-12-28 12-25-53](https://user-images.githubusercontent.com/84698896/209752559-e436e939-ac24-468c-8af7-6e2f36a189fc.png)"
   ]
  }
 ],
 "metadata": {
  "kernelspec": {
   "display_name": "Python 3.10.6 64-bit",
   "language": "python",
   "name": "python3"
  },
  "language_info": {
   "codemirror_mode": {
    "name": "ipython",
    "version": 3
   },
   "file_extension": ".py",
   "mimetype": "text/x-python",
   "name": "python",
   "nbconvert_exporter": "python",
   "pygments_lexer": "ipython3",
   "version": "3.10.6"
  },
  "orig_nbformat": 4,
  "vscode": {
   "interpreter": {
    "hash": "916dbcbb3f70747c44a77c7bcd40155683ae19c65e1c03b4aa3499c5328201f1"
   }
  }
 },
 "nbformat": 4,
 "nbformat_minor": 2
}
