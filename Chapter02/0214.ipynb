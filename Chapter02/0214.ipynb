{
 "cells": [
  {
   "cell_type": "markdown",
   "metadata": {},
   "source": [
    "# 예제 2.14 animation.FuncAnimation 3: 클래스 상속"
   ]
  },
  {
   "cell_type": "code",
   "execution_count": 1,
   "metadata": {},
   "outputs": [],
   "source": [
    "import cv2\n",
    "import matplotlib.pyplot as plt\n",
    "import matplotlib.animation as animation"
   ]
  },
  {
   "cell_type": "code",
   "execution_count": 2,
   "metadata": {},
   "outputs": [],
   "source": [
    "class Video(animation.FuncAnimation):\n",
    "    def __init__(self, device=0, fig=None, frames=None, interval=50, repeat_delay=5, blit=False, **kwargs):\n",
    "        if fig is None:\n",
    "            self.fig = plt.figure()\n",
    "            self.fig.canvas.manager.set_window_title('Video Capture')\n",
    "            plt.axis(\"off\")\n",
    "        super(Video, self).__init__(self.fig, self.updateFrame, init_func=self.init, frames=frames, interval=interval, blit=blit, repeat_delay=repeat_delay, **kwargs)\n",
    "        self.cap = cv2.VideoCapture(device)\n",
    "        print(\"start capture ...\")\n",
    "    def init(self):\n",
    "        retval, self.frame = self.cap.read()\n",
    "        if retval:\n",
    "            self.im = plt.imshow(cv2.cvtColor(self.frame, cv2.COLOR_BGR2RGB))\n",
    "    def updateFrame(self, k):\n",
    "        retval, self.frame = self.cap.read()\n",
    "        if retval:\n",
    "            self.im.set_array(cv2.cvtColor(camera.frame, cv2.COLOR_BGR2RGB))\n",
    "    def close(self):\n",
    "        if self.cap.isOpened():\n",
    "            self.cap.release()\n",
    "        print(\"finish capture.\")"
   ]
  },
  {
   "cell_type": "code",
   "execution_count": 3,
   "metadata": {},
   "outputs": [
    {
     "name": "stdout",
     "output_type": "stream",
     "text": [
      "start capture ...\n"
     ]
    },
    {
     "data": {
      "image/png": "[encoded data removed]",
      "text/plain": [
       "<Figure size 640x480 with 1 Axes>"
      ]
     },
     "metadata": {},
     "output_type": "display_data"
    },
    {
     "name": "stdout",
     "output_type": "stream",
     "text": [
      "finish capture.\n"
     ]
    }
   ],
   "source": [
    "camera = Video()\n",
    "plt.show()\n",
    "camera.close()"
   ]
  }
 ],
 "metadata": {
  "kernelspec": {
   "display_name": "Python 3.10.6 64-bit",
   "language": "python",
   "name": "python3"
  },
  "language_info": {
   "codemirror_mode": {
    "name": "ipython",
    "version": 3
   },
   "file_extension": ".py",
   "mimetype": "text/x-python",
   "name": "python",
   "nbconvert_exporter": "python",
   "pygments_lexer": "ipython3",
   "version": "3.10.6"
  },
  "orig_nbformat": 4,
  "vscode": {
   "interpreter": {
    "hash": "916dbcbb3f70747c44a77c7bcd40155683ae19c65e1c03b4aa3499c5328201f1"
   }
  }
 },
 "nbformat": 4,
 "nbformat_minor": 2
}
