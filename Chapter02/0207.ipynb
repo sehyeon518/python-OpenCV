{
 "cells": [
  {
   "cell_type": "markdown",
   "metadata": {},
   "source": [
    "# 예제 2.7 비디오 캡처와 화면표시 1"
   ]
  },
  {
   "cell_type": "code",
   "execution_count": 1,
   "metadata": {},
   "outputs": [],
   "source": [
    "import cv2"
   ]
  },
  {
   "cell_type": "markdown",
   "metadata": {},
   "source": [
    "### <span style='background-color:#fff5b1'>cv2.VideoCapture()</span> 비디오에서 획득한 객체\n",
    "**cv2.VideoCapture(filename)** 비디오 파일로부터 VideoCapture 객체를 생성하여 반환\\\n",
    "**cv2.VideoCapture(device)** 카메라 번호로부터 VideoCapture 객체를 생성하여 반환"
   ]
  },
  {
   "cell_type": "code",
   "execution_count": 2,
   "metadata": {},
   "outputs": [],
   "source": [
    "cap = cv2.VideoCapture(0)"
   ]
  },
  {
   "cell_type": "markdown",
   "metadata": {},
   "source": [
    "### <span style='background-color:#fff5b1'>주요 상수</span>\n",
    "**cv2.CAP_PROP_FRAME_WIDTH** 비디오 프레임의 가로 크기\\\n",
    "**cv2.CAP_PROP_FRAME_WIDTH** 비디오 프레임의 세로 크기"
   ]
  },
  {
   "cell_type": "code",
   "execution_count": 3,
   "metadata": {},
   "outputs": [
    {
     "data": {
      "text/plain": [
       "('frame_size =', (640, 480))"
      ]
     },
     "execution_count": 3,
     "metadata": {},
     "output_type": "execute_result"
    }
   ],
   "source": [
    "frame_size = (int(cap.get(cv2.CAP_PROP_FRAME_WIDTH)),\n",
    "              int(cap.get(cv2.CAP_PROP_FRAME_HEIGHT)))\n",
    "'frame_size =', frame_size"
   ]
  },
  {
   "cell_type": "markdown",
   "metadata": {},
   "source": [
    "### <span style='background-color:#fff5b1'>cv2.VideoCapture.read()</span>\n",
    "프레임 획득\n",
    "VideoCapture.grab()과 VideoCapture.retrieve()를 모두 수행한 결과\n",
    "\n",
    "**cv2.VideoCapture.grab()** 개방된 VideoCapture 객체로부터 다음 비디오 프레임을 잡기 위해 사용\\\n",
    "**cv2.VideoCapture.retrieve()** VideoCapture.grab()에 의해 잡힌 영상을 디코딩하여 image로 반환\\\n",
    "프레임 캡처에 성공하면 retval는 True이고 실패하면 False이다\n",
    "\n",
    "### <span style='background-color:#fff5b1'>cv2.VideoCapture.release()</span>\n",
    "개방된 VideoCapture 객체를 해제하여 닫는다"
   ]
  },
  {
   "cell_type": "code",
   "execution_count": 4,
   "metadata": {},
   "outputs": [
    {
     "name": "stderr",
     "output_type": "stream",
     "text": [
      "inotify_add_watch(/home/sehyeon/문서/GitHub/python-OpenCV/Chapter03) failed: (No space left on device)\n",
      "inotify_add_watch(/home/sehyeon/문서/GitHub/python-OpenCV/Chapter02) failed: (No space left on device)\n"
     ]
    }
   ],
   "source": [
    "while True:\n",
    "    retval, frame = cap.read()\n",
    "\n",
    "    if not retval:\n",
    "        break\n",
    "\n",
    "    cv2.imshow('frame', frame)\n",
    "\n",
    "    key = cv2.waitKey(25)\n",
    "\n",
    "    if key == 27:\n",
    "        break\n",
    "    \n",
    "if cap.isOpened():\n",
    "    cap.release()\n",
    "cv2.destroyAllWindows()"
   ]
  },
  {
   "cell_type": "markdown",
   "metadata": {},
   "source": [
    "![스크린샷 2023-01-02 13-37-35](https://user-images.githubusercontent.com/84698896/210195524-04210c05-6930-44a9-934a-10181d47c92a.png)"
   ]
  }
 ],
 "metadata": {
  "kernelspec": {
   "display_name": "Python 3.10.6 64-bit",
   "language": "python",
   "name": "python3"
  },
  "language_info": {
   "codemirror_mode": {
    "name": "ipython",
    "version": 3
   },
   "file_extension": ".py",
   "mimetype": "text/x-python",
   "name": "python",
   "nbconvert_exporter": "python",
   "pygments_lexer": "ipython3",
   "version": "3.10.6"
  },
  "orig_nbformat": 4,
  "vscode": {
   "interpreter": {
    "hash": "916dbcbb3f70747c44a77c7bcd40155683ae19c65e1c03b4aa3499c5328201f1"
   }
  }
 },
 "nbformat": 4,
 "nbformat_minor": 2
}
