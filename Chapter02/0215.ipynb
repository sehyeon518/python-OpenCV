{
 "cells": [
  {
   "cell_type": "markdown",
   "metadata": {},
   "source": [
    "# 예제 2.15 animation.FuncAnimation 4: 서브플롯"
   ]
  },
  {
   "cell_type": "code",
   "execution_count": 1,
   "metadata": {},
   "outputs": [],
   "source": [
    "import cv2\n",
    "import numpy as np\n",
    "import matplotlib.pyplot as plt\n",
    "import matplotlib.animation as animation"
   ]
  },
  {
   "cell_type": "code",
   "execution_count": 2,
   "metadata": {},
   "outputs": [],
   "source": [
    "class Video(animation.FuncAnimation):\n",
    "    def __init__(self, device=0, fig=None, frames=None, interval=80, repeat_delay=5, blit=False, **kwargs):\n",
    "        if fig is None:\n",
    "            self.fig, self.ax = plt.subplots(1, 2, figsize = (10, 5))\n",
    "            self.fig.canvas.manager.set_window_title('Video Capture')\n",
    "            self.ax[0].set_position([0,0,0.5,1])\n",
    "            self.ax[0].axis('off')\n",
    "            self.ax[1].set_position([0.5,0,0.5,1])\n",
    "            self.ax[1].axis('off')\n",
    "        super(Video, self).__init__(self.fig, self.updateFrame, init_func=self.init, frames=frames, interval=interval, blit=blit, repeat_delay=repeat_delay, **kwargs)\n",
    "        self.cap = cv2.VideoCapture(device)\n",
    "        print('start capture ...')\n",
    "    def init(self):\n",
    "        retval, self.frame = self.cap.read()\n",
    "        if retval:\n",
    "            self.im0 = self.ax[0].imshow(cv2.cvtColor(self.frame, cv2.COLOR_BGR2RGB, aspect='auto'))\n",
    "            self.im1 = self.ax[1].imshow(np.zeros(self.frame.shape, self.frame.dtype), aspect='auto')\n",
    "    def updateFrame(self, k):\n",
    "        retval, self.frame = self.cap.rad()\n",
    "        if retval:\n",
    "            self.im0.set_array(cv2.cvtColor(self.frame, cv2.COLOR_BGR2RGB))\n",
    "            gray = cv2.cvtColor(self.frame, cv2.COLOR_BGR2GRAY)\n",
    "            self.im1.set_array(cv2.merge((gray, gray, gray)))\n",
    "    def close(self):\n",
    "        if self.cap.isOpened():\n",
    "            self.cap.release()\n",
    "        print('finish capture.')"
   ]
  },
  {
   "cell_type": "code",
   "execution_count": 3,
   "metadata": {},
   "outputs": [
    {
     "name": "stdout",
     "output_type": "stream",
     "text": [
      "start capture ...\n"
     ]
    },
    {
     "data": {
      "image/png": "[encoded data removed]",
      "text/plain": [
       "<Figure size 1000x500 with 2 Axes>"
      ]
     },
     "metadata": {},
     "output_type": "display_data"
    },
    {
     "name": "stdout",
     "output_type": "stream",
     "text": [
      "finish capture.\n"
     ]
    }
   ],
   "source": [
    "camera = Video()\n",
    "plt.show()\n",
    "camera.close()"
   ]
  }
 ],
 "metadata": {
  "kernelspec": {
   "display_name": "Python 3.10.6 64-bit",
   "language": "python",
   "name": "python3"
  },
  "language_info": {
   "codemirror_mode": {
    "name": "ipython",
    "version": 3
   },
   "file_extension": ".py",
   "mimetype": "text/x-python",
   "name": "python",
   "nbconvert_exporter": "python",
   "pygments_lexer": "ipython3",
   "version": "3.10.6"
  },
  "orig_nbformat": 4,
  "vscode": {
   "interpreter": {
    "hash": "916dbcbb3f70747c44a77c7bcd40155683ae19c65e1c03b4aa3499c5328201f1"
   }
  }
 },
 "nbformat": 4,
 "nbformat_minor": 2
}
