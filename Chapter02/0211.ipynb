{
 "cells": [
  {
   "cell_type": "markdown",
   "metadata": {},
   "source": [
    "# 예제 2.11 matplotlib 비디오 디스플레이"
   ]
  },
  {
   "cell_type": "code",
   "execution_count": 1,
   "metadata": {},
   "outputs": [],
   "source": [
    "import cv2\n",
    "import matplotlib.pyplot as plt"
   ]
  },
  {
   "cell_type": "markdown",
   "metadata": {},
   "source": [
    "### <span style='background-color:#fff5b1'>키보드 이벤트 처리</span>\n",
    "**handle_key_press** Esc 키를 누르면 비디오 객체를 해제한다\n",
    "**habdle_close** 윈도우를 닫을 때 VideoCapture 객체를 해제한다"
   ]
  },
  {
   "cell_type": "code",
   "execution_count": 2,
   "metadata": {},
   "outputs": [],
   "source": [
    "def handle_key_press(event):\n",
    "    if event.key == 'escape':\n",
    "        cap.release()\n",
    "        plt.close()\n",
    "def handle_close(evt):\n",
    "    print('Close figure!')\n",
    "    cap.release()"
   ]
  },
  {
   "cell_type": "code",
   "execution_count": 3,
   "metadata": {},
   "outputs": [],
   "source": [
    "cap = cv2.VideoCapture(0)"
   ]
  },
  {
   "cell_type": "markdown",
   "metadata": {},
   "source": [
    "### <span style='background-color:#fff5b1'>plt.ion()</span> interactive on\n",
    "**plt.ioff()** 그림에 관련된 모든 명령을 여기서 다 실행한 후 plt.show() 하면 최종적으로 그림을 한번만 그리게 된다\n",
    "\n",
    "그때 그때 그림을 갱신하고 싶으면 plt.ion() -> default"
   ]
  },
  {
   "cell_type": "code",
   "execution_count": 4,
   "metadata": {},
   "outputs": [],
   "source": [
    "plt.ion() # 대화 모드 설정\n",
    "fig = plt.figure(figsize=(10, 6)) # fig.set_size_inches(10, 6)\n",
    "plt.axis('off')\n",
    "\n",
    "fig.canvas.manager.set_window_title('Video Capture')\n",
    "fig.canvas.mpl_connect('key_press_event', handle_key_press)\n",
    "fig.canvas.mpl_connect('close_event', handle_close)\n",
    "\n",
    "retval, frame = cap.read()\n",
    "im = plt.imshow(cv2.cvtColor(frame, cv2.COLOR_BGR2RGB))\n",
    "\n",
    "while True:\n",
    "    retval, frame = cap.read()\n",
    "    if not retval:\n",
    "        break\n",
    "    im.set_array(cv2.cvtColor(frame, cv2.COLOR_BGR2RGB))\n",
    "    fig.canvas.draw()\n",
    "    fig.canvas.flush_events()\n",
    "\n",
    "if cap.isOpened():\n",
    "    cap.release()"
   ]
  }
 ],
 "metadata": {
  "kernelspec": {
   "display_name": "Python 3.10.6 64-bit",
   "language": "python",
   "name": "python3"
  },
  "language_info": {
   "codemirror_mode": {
    "name": "ipython",
    "version": 3
   },
   "file_extension": ".py",
   "mimetype": "text/x-python",
   "name": "python",
   "nbconvert_exporter": "python",
   "pygments_lexer": "ipython3",
   "version": "3.10.6"
  },
  "orig_nbformat": 4,
  "vscode": {
   "interpreter": {
    "hash": "916dbcbb3f70747c44a77c7bcd40155683ae19c65e1c03b4aa3499c5328201f1"
   }
  }
 },
 "nbformat": 4,
 "nbformat_minor": 2
}
