{
 "cells": [
  {
   "cell_type": "markdown",
   "metadata": {},
   "source": [
    "# 예제 2.9 비디오 입력과 화면표시 3: 유튜브 동영상"
   ]
  },
  {
   "cell_type": "code",
   "execution_count": 2,
   "metadata": {},
   "outputs": [
    {
     "name": "stdout",
     "output_type": "stream",
     "text": [
      "Defaulting to user installation because normal site-packages is not writeable\n",
      "Collecting youtube_dl==2020.12.2\n",
      "  Downloading youtube_dl-2020.12.2-py2.py3-none-any.whl (1.8 MB)\n",
      "\u001b[2K     \u001b[90m━━━━━━━━━━━━━━━━━━━━━━━━━━━━━━━━━━━━━━━━\u001b[0m \u001b[32m1.8/1.8 MB\u001b[0m \u001b[31m6.4 MB/s\u001b[0m eta \u001b[36m0:00:00\u001b[0ma \u001b[36m0:00:01\u001b[0m\n",
      "\u001b[?25hInstalling collected packages: youtube_dl\n",
      "Successfully installed youtube_dl-2020.12.2\n",
      "Note: you may need to restart the kernel to use updated packages.\n",
      "Defaulting to user installation because normal site-packages is not writeable\n",
      "Requirement already satisfied: pafy in /home/sehyeon/.local/lib/python3.10/site-packages (0.5.5)\n",
      "Note: you may need to restart the kernel to use updated packages.\n"
     ]
    }
   ],
   "source": [
    "%pip install youtube_dl==2020.12.2\n",
    "%pip install pafy"
   ]
  },
  {
   "cell_type": "markdown",
   "metadata": {},
   "source": [
    "### <span style='background-color:#fff5b1'>cv2.Canny(img, threshold1, threshold2)</span> edge 추출하기\n",
    "**threshold** 엣지 여부의 판단하는 임계값\\\n",
    "클수록 엣지가 검출되기 어렵고, 작을 수록 엣지가 검출되기 쉽다"
   ]
  },
  {
   "cell_type": "code",
   "execution_count": 1,
   "metadata": {},
   "outputs": [
    {
     "name": "stdout",
     "output_type": "stream",
     "text": [
      "title =  [소프트웨어융합대학 학생회 패치] 인트로\n",
      "video.rating =  None\n",
      "video.duration =  00:00:12\n",
      "best.resolution 1280x720\n"
     ]
    }
   ],
   "source": [
    "import cv2, pafy\n",
    "\n",
    "url = 'https://youtu.be/qQ4a54Z4-oA'\n",
    "video = pafy.new(url)\n",
    "\n",
    "print('title = ', video.title) # 영상 제목\n",
    "print('video.rating = ', video.rating) # 별점\n",
    "print('video.duration = ', video.duration) # 전체 길이\n",
    "\n",
    "best = video.getbest() # 최적의 비디오 파일양식 정보\n",
    "print('best.resolution', best.resolution)\n",
    "\n",
    "cap = cv2.VideoCapture(best.url)\n",
    "\n",
    "while True:\n",
    "    retval, frame = cap.read()\n",
    "    if not retval:\n",
    "        break\n",
    "    cv2.imshow('frame', frame)\n",
    "\n",
    "    gray = cv2.cvtColor(frame, cv2.COLOR_BGR2GRAY)\n",
    "    edges = cv2.Canny(gray, 100, 200)\n",
    "    cv2.imshow('edges', edges)\n",
    "    key = cv2.waitKey(25)\n",
    "    if key == 27:\n",
    "        break\n",
    "\n",
    "cv2.destroyAllWindows()"
   ]
  },
  {
   "cell_type": "markdown",
   "metadata": {},
   "source": [
    "![image](https://user-images.githubusercontent.com/84698896/210195951-3af2ab62-16ef-40a3-bec2-f510c0514b51.png)"
   ]
  }
 ],
 "metadata": {
  "kernelspec": {
   "display_name": "Python 3.10.6 64-bit",
   "language": "python",
   "name": "python3"
  },
  "language_info": {
   "codemirror_mode": {
    "name": "ipython",
    "version": 3
   },
   "file_extension": ".py",
   "mimetype": "text/x-python",
   "name": "python",
   "nbconvert_exporter": "python",
   "pygments_lexer": "ipython3",
   "version": "3.10.6"
  },
  "orig_nbformat": 4,
  "vscode": {
   "interpreter": {
    "hash": "916dbcbb3f70747c44a77c7bcd40155683ae19c65e1c03b4aa3499c5328201f1"
   }
  }
 },
 "nbformat": 4,
 "nbformat_minor": 2
}
