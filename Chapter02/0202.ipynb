{
 "cells": [
  {
   "cell_type": "markdown",
   "metadata": {},
   "source": [
    "# 예제 2.2 영상 파일 저장"
   ]
  },
  {
   "cell_type": "code",
   "execution_count": 1,
   "metadata": {},
   "outputs": [],
   "source": [
    "import cv2"
   ]
  },
  {
   "cell_type": "code",
   "execution_count": 2,
   "metadata": {},
   "outputs": [],
   "source": [
    "imageFile = '../sample/why.jpeg'\n",
    "img = cv2.imread(imageFile)"
   ]
  },
  {
   "cell_type": "markdown",
   "metadata": {},
   "source": [
    "### <span style='background-color:#fff5b1'>cv2.imwrite()</span> img 영상을 지정한 폴더에 파일로 저장\n",
    "**cv2.IMWRITE_PNG_COMPRESSION** 압축률 9로 저장 (default는 3)\n",
    "**cv2.IMWRITE_JPEG_QUALITY** 90% 품질로 저장 (default는 90)"
   ]
  },
  {
   "cell_type": "code",
   "execution_count": 3,
   "metadata": {},
   "outputs": [
    {
     "data": {
      "text/plain": [
       "True"
      ]
     },
     "execution_count": 3,
     "metadata": {},
     "output_type": "execute_result"
    }
   ],
   "source": [
    "cv2.imwrite('../sample/0202/sample.bmp', img)\n",
    "cv2.imwrite('../sample/0202/sample.png', img)\n",
    "cv2.imwrite('../sample/0202/sample9.png', img, [cv2.IMWRITE_PNG_COMPRESSION, 9])\n",
    "cv2.imwrite('../sample/0202/sample90.jpg', img, [cv2.IMWRITE_JPEG_QUALITY, 90])"
   ]
  },
  {
   "cell_type": "markdown",
   "metadata": {},
   "source": [
    "![스크린샷 2023-01-02 12-27-02](https://user-images.githubusercontent.com/84698896/210193205-b7af79a3-4893-4fea-a463-b6544652b188.png)"
   ]
  }
 ],
 "metadata": {
  "kernelspec": {
   "display_name": "Python 3.10.6 64-bit",
   "language": "python",
   "name": "python3"
  },
  "language_info": {
   "codemirror_mode": {
    "name": "ipython",
    "version": 3
   },
   "file_extension": ".py",
   "mimetype": "text/x-python",
   "name": "python",
   "nbconvert_exporter": "python",
   "pygments_lexer": "ipython3",
   "version": "3.10.6"
  },
  "orig_nbformat": 4,
  "vscode": {
   "interpreter": {
    "hash": "916dbcbb3f70747c44a77c7bcd40155683ae19c65e1c03b4aa3499c5328201f1"
   }
  }
 },
 "nbformat": 4,
 "nbformat_minor": 2
}
