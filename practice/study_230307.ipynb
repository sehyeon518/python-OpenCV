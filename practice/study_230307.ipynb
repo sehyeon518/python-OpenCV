{
 "cells": [
  {
   "cell_type": "code",
   "execution_count": 1,
   "metadata": {},
   "outputs": [],
   "source": [
    "import cv2\n",
    "import numpy as np"
   ]
  },
  {
   "attachments": {},
   "cell_type": "markdown",
   "metadata": {},
   "source": [
    "### mp4"
   ]
  },
  {
   "cell_type": "code",
   "execution_count": 2,
   "metadata": {},
   "outputs": [],
   "source": [
    "# cap = cv2.VideoCapture('../sample/차선검출_1.mp4')\n",
    "# cap = cv2.VideoCapture('../sample/차선검출_2.mp4')\n",
    "cap = cv2.VideoCapture('../sample/track1.mp4')"
   ]
  },
  {
   "cell_type": "code",
   "execution_count": 3,
   "metadata": {},
   "outputs": [],
   "source": [
    "while True:\n",
    "    retval, src = cap.read() # (480,640,3)\n",
    "    if not retval:\n",
    "        break\n",
    "\n",
    "    gray = cv2.cvtColor(src, cv2.COLOR_BGR2GRAY)\n",
    "    blur = cv2.GaussianBlur(gray, (9,9), 0)\n",
    "    edges = cv2.Canny(gray, 100, 200)\n",
    "\n",
    "    mask = np.zeros_like(edges)\n",
    "\n",
    "    ROI = np.array([[(0,src.shape[0]),\n",
    "                 (200,src.shape[0]//2),\n",
    "                 (src.shape[1]-200,src.shape[0]//2),\n",
    "                 (src.shape[1], src.shape[0])]], dtype=np.int32)\n",
    "    \n",
    "    cv2.fillPoly(mask, ROI, 255)\n",
    "\n",
    "    masked_image = cv2.bitwise_and(edges, mask)\n",
    "\n",
    "    lines = cv2.HoughLinesP(masked_image, 2, np.pi/180, threshold=90)\n",
    "    # line_img = np.zeros((src.shape[0], src.shape[1], 3), dtype=np.uint8)\n",
    "    for line in lines:\n",
    "        for x1,y1,x2,y2 in line:\n",
    "            cv2.line(src, (x1,y1), (x2,y2), (0,0,255), 3)\n",
    "\n",
    "\n",
    "    cv2.imshow('src', src)\n",
    "    cv2.imshow('masked image', masked_image)\n",
    "    # cv2.imshow('line', line_img)\n",
    "\n",
    "\n",
    "    key = cv2.waitKey(25)\n",
    "    if key == 27:\n",
    "        break\n",
    "\n",
    "cv2.destroyAllWindows()"
   ]
  },
  {
   "attachments": {},
   "cell_type": "markdown",
   "metadata": {},
   "source": [
    "### jpg"
   ]
  },
  {
   "cell_type": "code",
   "execution_count": 36,
   "metadata": {},
   "outputs": [
    {
     "name": "stdout",
     "output_type": "stream",
     "text": [
      "(801, 1200, 3)\n"
     ]
    }
   ],
   "source": [
    "import numpy as np\n",
    "\n",
    "src = cv2.imread('../sample/road.jpg')\n",
    "\n",
    "print(src.shape)"
   ]
  },
  {
   "cell_type": "code",
   "execution_count": 37,
   "metadata": {},
   "outputs": [],
   "source": [
    "gray = cv2.cvtColor(src, cv2.COLOR_BGR2GRAY)\n",
    "blur = cv2.GaussianBlur(gray, (9,9), 0)\n",
    "edges = cv2.Canny(gray, 50, 200)"
   ]
  },
  {
   "cell_type": "code",
   "execution_count": 49,
   "metadata": {},
   "outputs": [],
   "source": [
    "import numpy as np\n",
    "\n",
    "mask = np.zeros_like(edges)\n",
    "\n",
    "ROI = np.array([[(0,src.shape[0]),\n",
    "                 (0,src.shape[0]//2),\n",
    "                 (src.shape[1],src.shape[0]//2),\n",
    "                 (src.shape[1], src.shape[0])]], dtype=np.int32)\n",
    "cv2.fillPoly(mask, ROI, 255)\n",
    "cv2.imshow('mask', mask)\n",
    "cv2.imshow('canny', edges)\n",
    "cv2.waitKey()\n",
    "cv2.destroyAllWindows()"
   ]
  },
  {
   "cell_type": "code",
   "execution_count": 47,
   "metadata": {},
   "outputs": [],
   "source": [
    "masked_image = cv2.bitwise_and(edges, mask)"
   ]
  },
  {
   "cell_type": "code",
   "execution_count": 48,
   "metadata": {},
   "outputs": [],
   "source": [
    "cv2.imshow('src', src)\n",
    "cv2.imshow('masked image', masked_image)\n",
    "\n",
    "cv2.waitKey()\n",
    "cv2.destroyAllWindows()"
   ]
  }
 ],
 "metadata": {
  "kernelspec": {
   "display_name": "Python 3 (ipykernel)",
   "language": "python",
   "name": "python3"
  },
  "language_info": {
   "codemirror_mode": {
    "name": "ipython",
    "version": 3
   },
   "file_extension": ".py",
   "mimetype": "text/x-python",
   "name": "python",
   "nbconvert_exporter": "python",
   "pygments_lexer": "ipython3",
   "version": "3.8.10"
  },
  "orig_nbformat": 4
 },
 "nbformat": 4,
 "nbformat_minor": 2
}
