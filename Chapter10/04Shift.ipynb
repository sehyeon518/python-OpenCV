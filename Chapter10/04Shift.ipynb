{
 "cells": [
  {
   "cell_type": "markdown",
   "metadata": {},
   "source": [
    "# 예제 10.7 cv2.meanShift(), cv2.CamShift() 추적"
   ]
  },
  {
   "cell_type": "code",
   "execution_count": 37,
   "metadata": {},
   "outputs": [],
   "source": [
    "import cv2\n",
    "import numpy as np"
   ]
  },
  {
   "cell_type": "code",
   "execution_count": 38,
   "metadata": {},
   "outputs": [],
   "source": [
    "roi = None\n",
    "drag_start = None\n",
    "mouse_status = 0\n",
    "tracking_start = False"
   ]
  },
  {
   "cell_type": "code",
   "execution_count": 39,
   "metadata": {},
   "outputs": [],
   "source": [
    "def onMouse(event, x, y, flags, param = None):\n",
    "    global roi\n",
    "    global drag_start\n",
    "    global mouse_status\n",
    "    global tracking_start\n",
    "    if event == cv2.EVENT_LBUTTONDOWN:\n",
    "        drag_start = (x,y)\n",
    "        mouse_status = 1\n",
    "        tracking_start = False\n",
    "    elif event == cv2.EVENT_MOUSEMOVE:\n",
    "        if flags == cv2.EVENT_FLAG_LBUTTON:\n",
    "            xmin = min(x, drag_start[0])\n",
    "            ymin = min(y, drag_start[1])\n",
    "            xmax = max(x, drag_start[0])\n",
    "            ymax = max(y, drag_start[1])\n",
    "            roi = (xmin, ymin, xmax, ymax)\n",
    "            mouse_status = 2\n",
    "    elif event == cv2.EVENT_LBUTTONUP:\n",
    "        mouse_status = 3"
   ]
  },
  {
   "cell_type": "code",
   "execution_count": 40,
   "metadata": {},
   "outputs": [],
   "source": [
    "cv2.namedWindow('tracking')\n",
    "cv2.setMouseCallback('tracking', onMouse)\n",
    "\n",
    "cap = cv2.VideoCapture(0)\n",
    "if not cap.isOpened():\n",
    "    print('Error opening video')\n",
    "height, width = (int(cap.get(cv2.CAP_PROP_FRAME_HEIGHT)), int(cap.get(cv2.CAP_PROP_FRAME_WIDTH)))\n",
    "roi_mask = np.zeros((height, width), dtype=np.uint8)\n",
    "term_crit = (cv2.TERM_CRITERIA_MAX_ITER + cv2.TERM_CRITERIA_EPS, 10, 1)"
   ]
  },
  {
   "cell_type": "markdown",
   "metadata": {},
   "source": [
    "### <span style='background-color:#fff5b1'>cv2.meanShift()</span>"
   ]
  },
  {
   "cell_type": "code",
   "execution_count": 41,
   "metadata": {},
   "outputs": [
    {
     "name": "stdout",
     "output_type": "stream",
     "text": [
      "t = 1\n",
      "t = 2\n",
      "t = 3\n",
      "t = 4\n",
      "t = 5\n",
      "t = 6\n",
      "t = 7\n",
      "t = 8\n",
      "t = 9\n",
      "t = 10\n",
      "t = 11\n",
      "t = 12\n",
      "t = 13\n",
      "t = 14\n",
      "initialize....\n",
      "t = 15\n",
      "t = 16\n",
      "t = 17\n",
      "t = 18\n",
      "t = 19\n",
      "t = 20\n"
     ]
    }
   ],
   "source": [
    "t = 0\n",
    "while True:\n",
    "    ret, frame = cap.read()\n",
    "    if not ret: break\n",
    "    t += 1\n",
    "    print('t =', t)\n",
    "\n",
    "    frame2 = frame.copy()\n",
    "    hsv = cv2.cvtColor(frame, cv2.COLOR_BGR2HSV)\n",
    "    mask = cv2.inRange(hsv, (0., 60., 32.), (180., 255., 255.))\n",
    "\n",
    "    if mouse_status == 2:\n",
    "        x1, y1, x2, y2 = roi\n",
    "        cv2.rectangle(frame, (x1, y1), (x2, y2), (255,0,0), 2)\n",
    "\n",
    "    if mouse_status == 3:\n",
    "        print('initialize....')\n",
    "        mouse_status = 0\n",
    "        x1, y1, x2, y2 = roi\n",
    "        mask_roi = mask[y1:y2, x1:x2]\n",
    "        hsv_roi = hsv[y1:y2, x1:x2]\n",
    "        hist_roi = cv2.calcHist([hsv_roi], [0], mask_roi, [16], [0,180])\n",
    "        cv2.normalize(hist_roi, hist_roi, 0, 255, cv2.NORM_MINMAX)\n",
    "        track_window1 = (x1,y1,x2-x1,y2-y1) # mean\n",
    "        track_window2 = (x1,y1,x2-x1,y2-y1) # cam\n",
    "\n",
    "    if tracking_start:\n",
    "        backP = cv2.calcBackProject([hsv], [0], hist_roi, [0,180], 1)\n",
    "        backP &= mask\n",
    "        cv2.imshow('backP', backP)\n",
    "        ret, track_window1 = cv2.meanShift(backP, track_window1, term_crit)\n",
    "        x,y,w,h = track_window1\n",
    "        cv2.rectangle(frame, (x,y), (x+w, y+h), (0,0,255), 2)\n",
    "        track_box, track_window2 = cv2.CamShift(backP, track_window2, term_crit)\n",
    "        x,y,w,h = track_window2\n",
    "        cv2.rectangle(frame2, (x,y), (x+w, y+h), (0,255,0), 2)\n",
    "        cv2.ellipse(frame2, track_box, (0,25,255), 2)\n",
    "        pts = cv2.boxPoints(track_box)\n",
    "        pts = np.int0(pts)\n",
    "        dst = cv2.polylines(frame2), [pts], True, (0,0,255), 2\n",
    "\n",
    "    cv2.imshow('tracking', frame) # mean\n",
    "    cv2.imshow('CamShift tracking', frame2) # cam\n",
    "    key = cv2.waitKey(100)\n",
    "    if key == 27:\n",
    "        break"
   ]
  },
  {
   "cell_type": "code",
   "execution_count": 42,
   "metadata": {},
   "outputs": [],
   "source": [
    "if cap.isOpened(): cap.release()\n",
    "cv2.destroyAllWindows()"
   ]
  }
 ],
 "metadata": {
  "kernelspec": {
   "display_name": "Python 3.10.6 64-bit",
   "language": "python",
   "name": "python3"
  },
  "language_info": {
   "codemirror_mode": {
    "name": "ipython",
    "version": 3
   },
   "file_extension": ".py",
   "mimetype": "text/x-python",
   "name": "python",
   "nbconvert_exporter": "python",
   "pygments_lexer": "ipython3",
   "version": "3.10.6"
  },
  "orig_nbformat": 4,
  "vscode": {
   "interpreter": {
    "hash": "916dbcbb3f70747c44a77c7bcd40155683ae19c65e1c03b4aa3499c5328201f1"
   }
  }
 },
 "nbformat": 4,
 "nbformat_minor": 2
}
