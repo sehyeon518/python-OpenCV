{
 "cells": [
  {
   "cell_type": "markdown",
   "metadata": {},
   "source": [
    "# 예제 5.14 CLAHE 히스토그램 평활화\n",
    "### <span style='background-color:#fff5b1'>cv2.createCLAHE(clipLimit, tileGridSize) -> retval</span>\n",
    "대비제한 임계 clipLimit과 타일 그리드 크기 tileGridSize를 이용하여 CLAHE 객체 생성"
   ]
  },
  {
   "cell_type": "code",
   "execution_count": 1,
   "metadata": {},
   "outputs": [],
   "source": [
    "import cv2\n",
    "import numpy as np\n",
    "\n",
    "src = np.array([[  2,  2,  2,  2,  0,  0,  0,  0],\n",
    "                [  2,  1,  1,  2,  0,  0,  0,  0],\n",
    "                [  2,  1,  1,  2,  0,  0,  0,  0],\n",
    "                [  2,  2,  2,  2,  0,  0,  0,  0],\n",
    "                [  0,  0,  0,  0,255,255,255,255],\n",
    "                [  0,  0,  0,  0,255,  1,  1,255],\n",
    "                [  0,  0,  0,  0,255,  1,  1,255],\n",
    "                [  0,  0,  0,  0,255,255,255,255]], dtype=np.uint8)"
   ]
  },
  {
   "cell_type": "code",
   "execution_count": 3,
   "metadata": {},
   "outputs": [
    {
     "data": {
      "text/plain": [
       "array([[116, 116, 116, 116,  44,  44,  44,  44],\n",
       "       [116,  76,  76, 116,  44,  44,  44,  44],\n",
       "       [116,  76,  76, 116,  44,  44,  44,  44],\n",
       "       [116, 116, 116, 116,  44,  44,  44,  44],\n",
       "       [ 44,  44,  44,  44, 255, 255, 255, 255],\n",
       "       [ 44,  44,  44,  44, 255,  76,  76, 255],\n",
       "       [ 44,  44,  44,  44, 255,  76,  76, 255],\n",
       "       [ 44,  44,  44,  44, 255, 255, 255, 255]], dtype=uint8)"
      ]
     },
     "execution_count": 3,
     "metadata": {},
     "output_type": "execute_result"
    }
   ],
   "source": [
    "clahe = cv2.createCLAHE(clipLimit=40, tileGridSize=(1,1))\n",
    "dst = clahe.apply(src)\n",
    "dst"
   ]
  },
  {
   "cell_type": "code",
   "execution_count": 4,
   "metadata": {},
   "outputs": [
    {
     "data": {
      "text/plain": [
       "array([[ 80,  80,  80,  72,  32,  40,  48,  48],\n",
       "       [ 80,  48,  48,  72,  32,  40,  48,  48],\n",
       "       [ 80,  48,  48,  72,  32,  40,  48,  48],\n",
       "       [ 72,  72,  72,  66,  32,  36,  40,  40],\n",
       "       [ 32,  32,  32,  32, 255, 255, 255, 255],\n",
       "       [ 40,  40,  40,  36, 255,  48,  48, 255],\n",
       "       [ 48,  48,  48,  40, 255,  48,  48, 255],\n",
       "       [ 48,  48,  48,  40, 255, 255, 255, 255]], dtype=uint8)"
      ]
     },
     "execution_count": 4,
     "metadata": {},
     "output_type": "execute_result"
    }
   ],
   "source": [
    "clahe2 = cv2.createCLAHE(clipLimit=40, tileGridSize=(2,2))\n",
    "dst2 = clahe2.apply(src)\n",
    "dst2"
   ]
  }
 ],
 "metadata": {
  "kernelspec": {
   "display_name": "Python 3.10.6 64-bit",
   "language": "python",
   "name": "python3"
  },
  "language_info": {
   "codemirror_mode": {
    "name": "ipython",
    "version": 3
   },
   "file_extension": ".py",
   "mimetype": "text/x-python",
   "name": "python",
   "nbconvert_exporter": "python",
   "pygments_lexer": "ipython3",
   "version": "3.10.6"
  },
  "orig_nbformat": 4,
  "vscode": {
   "interpreter": {
    "hash": "916dbcbb3f70747c44a77c7bcd40155683ae19c65e1c03b4aa3499c5328201f1"
   }
  }
 },
 "nbformat": 4,
 "nbformat_minor": 2
}
