{
 "cells": [
  {
   "cell_type": "markdown",
   "metadata": {},
   "source": [
    "# 예제 5.1 임곗값 영상"
   ]
  },
  {
   "cell_type": "code",
   "execution_count": 18,
   "metadata": {},
   "outputs": [],
   "source": [
    "import cv2\n",
    "import numpy as np\n",
    "\n",
    "src = cv2.imread('../sample/why.jpeg', cv2.IMREAD_GRAYSCALE)"
   ]
  },
  {
   "cell_type": "markdown",
   "metadata": {},
   "source": [
    "### <span style='background-color:#fff5b1'>cv2.threshold(src, thresh, max_val, type) -> ret, dst</span>\n",
    "**src** 입력 영상 \\\n",
    "**thresh** 임곗값 \\\n",
    "**type** 임곗값의 종류 - cv2.THRESH_OTSU, cv2.THRESH_BINARY \\\n",
    "**ret** 최적 임곗값"
   ]
  },
  {
   "cell_type": "code",
   "execution_count": 19,
   "metadata": {},
   "outputs": [
    {
     "data": {
      "text/plain": [
       "120.0"
      ]
     },
     "execution_count": 19,
     "metadata": {},
     "output_type": "execute_result"
    }
   ],
   "source": [
    "ret1, dst1 = cv2.threshold(src, 120, 255, cv2.THRESH_BINARY)\n",
    "ret1"
   ]
  },
  {
   "cell_type": "markdown",
   "metadata": {},
   "source": [
    "### <span style='background-color:#fff5b1'>Otsu 알고리즘</span>\n",
    "특정 threshold T를 기준으로 이진 분류된 픽셀의 비율의 차가 가장 작은 optimal T를 구하기 \\\n",
    "모든 threshold에 대해 계산해야 하기 때문에 속도가 느리다\n",
    "\n",
    "노이즈가 많은 영상에는 오츠 알고리즘을 적용해도 좋은 결과를 얻지 못하는 경우가 있다"
   ]
  },
  {
   "cell_type": "code",
   "execution_count": 20,
   "metadata": {},
   "outputs": [
    {
     "data": {
      "text/plain": [
       "144.0"
      ]
     },
     "execution_count": 20,
     "metadata": {},
     "output_type": "execute_result"
    }
   ],
   "source": [
    "ret2, dst2 = cv2.threshold(src, 200, 255, cv2.THRESH_BINARY + cv2.THRESH_OTSU)\n",
    "ret2"
   ]
  },
  {
   "cell_type": "code",
   "execution_count": 21,
   "metadata": {},
   "outputs": [],
   "source": [
    "cv2.imshow('src', src)\n",
    "cv2.imshow('dst1', dst1)\n",
    "cv2.imshow('dst2', dst2)\n",
    "\n",
    "cv2.waitKey()\n",
    "cv2.destroyAllWindows()"
   ]
  }
 ],
 "metadata": {
  "kernelspec": {
   "display_name": "Python 3.10.6 64-bit",
   "language": "python",
   "name": "python3"
  },
  "language_info": {
   "codemirror_mode": {
    "name": "ipython",
    "version": 3
   },
   "file_extension": ".py",
   "mimetype": "text/x-python",
   "name": "python",
   "nbconvert_exporter": "python",
   "pygments_lexer": "ipython3",
   "version": "3.10.6"
  },
  "orig_nbformat": 4,
  "vscode": {
   "interpreter": {
    "hash": "916dbcbb3f70747c44a77c7bcd40155683ae19c65e1c03b4aa3499c5328201f1"
   }
  }
 },
 "nbformat": 4,
 "nbformat_minor": 2
}
