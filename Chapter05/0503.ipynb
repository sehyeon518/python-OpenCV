{
 "cells": [
  {
   "cell_type": "markdown",
   "metadata": {},
   "source": [
    "# 예제 5.2 히스토그램 계산 1\n",
    "### <span style='background-color:#fff5b1'>cv2.chlcHist(images, channels, mask, histSize, range) -> hist</span>\n",
    "**images** 히스토그램을 계산할 영상 배열 \\\n",
    "**challens** 히스토그램을 계산할 채널 번호를 갖는 정수형 배열 \\\n",
    "**mask** images[i]와 같은 크기의 8비트 영상 \\\n",
    "**histSize** hist의 각 bin 크기에 대한 정수 배열 \\\n",
    "**range** 각 bin의 경계값 배열의 배열"
   ]
  },
  {
   "cell_type": "code",
   "execution_count": 1,
   "metadata": {},
   "outputs": [
    {
     "data": {
      "text/plain": [
       "array([[0, 0, 0, 0],\n",
       "       [1, 1, 3, 5],\n",
       "       [6, 1, 1, 3],\n",
       "       [4, 3, 1, 7]], dtype=uint8)"
      ]
     },
     "execution_count": 1,
     "metadata": {},
     "output_type": "execute_result"
    }
   ],
   "source": [
    "import cv2\n",
    "import numpy as np\n",
    "\n",
    "src = np.array([[0,0,0,0],\n",
    "                [1,1,3,5],\n",
    "                [6,1,1,3],\n",
    "                [4,3,1,7]\n",
    "                ], dtype=np.uint8)\n",
    "src"
   ]
  },
  {
   "cell_type": "markdown",
   "metadata": {},
   "source": [
    "0과 1: 9개 \\\n",
    "2와 3: 3개 \\\n",
    "4와 5: 2개 \\\n",
    "6과 7: 2개"
   ]
  },
  {
   "cell_type": "markdown",
   "metadata": {},
   "source": [
    "**images** 히스토그램을 계산할 영상 배열 [src] \\\n",
    "**challens** 히스토그램을 계산할 채널 번호를 갖는 정수형 배열 [0] \\\n",
    "**mask** images[i]와 같은 크기의 8비트 영상 None \\\n",
    "**histSize** hist의 각 bin 크기에 대한 정수 배열 -> 출력될 배열의 개수, 구간의 개수 len(hist1) \\\n",
    "**range** 각 bin의 경계값 배열의 배열 -> 0 이상 8 미만 -> 0부터 7까지의 개수만 센다"
   ]
  },
  {
   "cell_type": "code",
   "execution_count": 2,
   "metadata": {},
   "outputs": [
    {
     "data": {
      "text/plain": [
       "array([[9.],\n",
       "       [3.],\n",
       "       [2.],\n",
       "       [2.]], dtype=float32)"
      ]
     },
     "execution_count": 2,
     "metadata": {},
     "output_type": "execute_result"
    }
   ],
   "source": [
    "hist1 = cv2.calcHist(images=[src], channels=[0], mask=None, histSize=[4], ranges=[0,8])\n",
    "hist1"
   ]
  },
  {
   "cell_type": "code",
   "execution_count": 3,
   "metadata": {},
   "outputs": [
    {
     "data": {
      "text/plain": [
       "array([[4.],\n",
       "       [5.],\n",
       "       [0.],\n",
       "       [3.]], dtype=float32)"
      ]
     },
     "execution_count": 3,
     "metadata": {},
     "output_type": "execute_result"
    }
   ],
   "source": [
    "hist2 = cv2.calcHist(images=[src], channels=[0], mask=None, histSize=[4], ranges=[0,4])\n",
    "hist2"
   ]
  }
 ],
 "metadata": {
  "kernelspec": {
   "display_name": "Python 3.10.6 64-bit",
   "language": "python",
   "name": "python3"
  },
  "language_info": {
   "codemirror_mode": {
    "name": "ipython",
    "version": 3
   },
   "file_extension": ".py",
   "mimetype": "text/x-python",
   "name": "python",
   "nbconvert_exporter": "python",
   "pygments_lexer": "ipython3",
   "version": "3.10.6"
  },
  "orig_nbformat": 4,
  "vscode": {
   "interpreter": {
    "hash": "916dbcbb3f70747c44a77c7bcd40155683ae19c65e1c03b4aa3499c5328201f1"
   }
  }
 },
 "nbformat": 4,
 "nbformat_minor": 2
}
