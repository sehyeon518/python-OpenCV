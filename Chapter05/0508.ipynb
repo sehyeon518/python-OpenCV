{
 "cells": [
  {
   "cell_type": "markdown",
   "metadata": {},
   "source": [
    "# 예제 5.8 Hue-채널의 히스토그램 역투영"
   ]
  },
  {
   "cell_type": "code",
   "execution_count": 19,
   "metadata": {},
   "outputs": [],
   "source": [
    "import cv2\n",
    "import numpy as np"
   ]
  },
  {
   "cell_type": "code",
   "execution_count": 20,
   "metadata": {},
   "outputs": [
    {
     "name": "stdout",
     "output_type": "stream",
     "text": [
      "[[[  4 114 226]\n",
      "  [  4 114 226]\n",
      "  [  1 103 223]\n",
      "  ...\n",
      "  [  7 120 230]\n",
      "  [  5 128 221]\n",
      "  [  2 140 200]]\n",
      "\n",
      " [[  4 114 226]\n",
      "  [  4 114 226]\n",
      "  [  1 103 223]\n",
      "  ...\n",
      "  [  7 120 230]\n",
      "  [  5 128 221]\n",
      "  [  2 140 200]]\n",
      "\n",
      " [[  4 114 226]\n",
      "  [  4 114 226]\n",
      "  [  1 103 223]\n",
      "  ...\n",
      "  [  7 120 230]\n",
      "  [  5 128 221]\n",
      "  [  2 140 200]]\n",
      "\n",
      " ...\n",
      "\n",
      " [[161 200  84]\n",
      "  [161 200  84]\n",
      "  [166 180  92]\n",
      "  ...\n",
      "  [177 147 173]\n",
      "  [178 154 172]\n",
      "  [176 166 177]]\n",
      "\n",
      " [[163 187  82]\n",
      "  [163 187  82]\n",
      "  [166 170  96]\n",
      "  ...\n",
      "  [178 155 179]\n",
      "  [177 155 181]\n",
      "  [178 153 185]]\n",
      "\n",
      " [[163 187  82]\n",
      "  [163 187  82]\n",
      "  [166 170  96]\n",
      "  ...\n",
      "  [178 155 179]\n",
      "  [177 155 181]\n",
      "  [178 153 185]]]\n"
     ]
    },
    {
     "data": {
      "text/plain": [
       "(array([[  4,   4,   1, ...,   7,   5,   2],\n",
       "        [  4,   4,   1, ...,   7,   5,   2],\n",
       "        [  4,   4,   1, ...,   7,   5,   2],\n",
       "        ...,\n",
       "        [161, 161, 166, ..., 177, 178, 176],\n",
       "        [163, 163, 166, ..., 178, 177, 178],\n",
       "        [163, 163, 166, ..., 178, 177, 178]], dtype=uint8),\n",
       " array([[114, 114, 103, ..., 120, 128, 140],\n",
       "        [114, 114, 103, ..., 120, 128, 140],\n",
       "        [114, 114, 103, ..., 120, 128, 140],\n",
       "        ...,\n",
       "        [200, 200, 180, ..., 147, 154, 166],\n",
       "        [187, 187, 170, ..., 155, 155, 153],\n",
       "        [187, 187, 170, ..., 155, 155, 153]], dtype=uint8),\n",
       " array([[226, 226, 223, ..., 230, 221, 200],\n",
       "        [226, 226, 223, ..., 230, 221, 200],\n",
       "        [226, 226, 223, ..., 230, 221, 200],\n",
       "        ...,\n",
       "        [ 84,  84,  92, ..., 173, 172, 177],\n",
       "        [ 82,  82,  96, ..., 179, 181, 185],\n",
       "        [ 82,  82,  96, ..., 179, 181, 185]], dtype=uint8))"
      ]
     },
     "execution_count": 20,
     "metadata": {},
     "output_type": "execute_result"
    }
   ],
   "source": [
    "src = cv2.imread('../sample/lena.png')\n",
    "hsv = cv2.cvtColor(src, cv2.COLOR_BGR2HSV)\n",
    "print(hsv)\n",
    "h, s, v = cv2.split(hsv)\n",
    "h, s, v"
   ]
  },
  {
   "cell_type": "code",
   "execution_count": 21,
   "metadata": {},
   "outputs": [
    {
     "name": "stdout",
     "output_type": "stream",
     "text": [
      "Select a ROI and then press SPACE or ENTER button!\n",
      "Cancel the selection process by pressing c button!\n",
      "(234, 221, 103, 165)\n"
     ]
    }
   ],
   "source": [
    "roi = cv2.selectROI(src)\n",
    "print(roi)\n",
    "roi_h = h[roi[1]:roi[1] + roi[3], roi[0]:roi[0] + roi[2]]"
   ]
  },
  {
   "cell_type": "code",
   "execution_count": 22,
   "metadata": {},
   "outputs": [],
   "source": [
    "hist = cv2.calcHist([roi_h], [0], None, [64], [0,256])\n",
    "backP = cv2.calcBackProject([h.astype(np.float32)], [0], hist, [0,256], scale=1.0)"
   ]
  },
  {
   "cell_type": "code",
   "execution_count": 23,
   "metadata": {},
   "outputs": [
    {
     "data": {
      "text/plain": [
       "5561.0"
      ]
     },
     "execution_count": 23,
     "metadata": {},
     "output_type": "execute_result"
    }
   ],
   "source": [
    "hist = cv2.sort(hist, cv2.SORT_EVERY_COLUMN+cv2.SORT_DESCENDING)\n",
    "k = 1\n",
    "T = hist[k][0] -1\n",
    "T"
   ]
  },
  {
   "cell_type": "code",
   "execution_count": 24,
   "metadata": {},
   "outputs": [],
   "source": [
    "ret, dst = cv2.threshold(backP, T, 255, cv2.THRESH_BINARY)\n",
    "\n",
    "cv2.imshow('dst', dst)\n",
    "cv2.waitKey()\n",
    "cv2.destroyAllWindows()"
   ]
  }
 ],
 "metadata": {
  "kernelspec": {
   "display_name": "Python 3.10.6 64-bit",
   "language": "python",
   "name": "python3"
  },
  "language_info": {
   "codemirror_mode": {
    "name": "ipython",
    "version": 3
   },
   "file_extension": ".py",
   "mimetype": "text/x-python",
   "name": "python",
   "nbconvert_exporter": "python",
   "pygments_lexer": "ipython3",
   "version": "3.10.6"
  },
  "orig_nbformat": 4,
  "vscode": {
   "interpreter": {
    "hash": "916dbcbb3f70747c44a77c7bcd40155683ae19c65e1c03b4aa3499c5328201f1"
   }
  }
 },
 "nbformat": 4,
 "nbformat_minor": 2
}
