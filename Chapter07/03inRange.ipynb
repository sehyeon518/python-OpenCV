{
 "cells": [
  {
   "cell_type": "markdown",
   "metadata": {},
   "source": [
    "# 예제 7.5 컬러 영역 검출: cv2.inRange()"
   ]
  },
  {
   "cell_type": "code",
   "execution_count": 1,
   "metadata": {},
   "outputs": [],
   "source": [
    "import cv2\n",
    "import numpy as np"
   ]
  },
  {
   "cell_type": "markdown",
   "metadata": {},
   "source": [
    "### <span style='background-color:#fff5b1'>cv2.inRange(src, lowerb, pperb</span>\n",
    "src의 각 화소가 lowerb와 upperb 사이에 있으면 dst는 200 그렇지 않으면 0으로 컬러 영역 분할 \\\n",
    "**lowerb와 upperb** scalar 값도 가능 \\\n",
    "**dst** src와 같은 크기의 8비트 uint \\\n",
    "3-채널 컬러 영상에서 HSV 색상으로 변환한 후에 색상 범위를 지정하여 피부 검출 할 때 유용함"
   ]
  },
  {
   "cell_type": "code",
   "execution_count": 2,
   "metadata": {},
   "outputs": [],
   "source": [
    "src1 = cv2.imread('../sample/hand.jpg')\n",
    "hsv1 = cv2.cvtColor(src1, cv2.COLOR_BGR2HSV)\n",
    "lowerb1 = (0,40,0)\n",
    "upperb1 = (20,180,255)\n",
    "dst1 = cv2.inRange(hsv1, lowerb1, upperb1)"
   ]
  },
  {
   "cell_type": "code",
   "execution_count": 3,
   "metadata": {},
   "outputs": [],
   "source": [
    "src2 = cv2.imread('../sample/flower.jpg')\n",
    "hsv2 = cv2.cvtColor(src2, cv2.COLOR_BGR2HSV)\n",
    "lowerb2 = (100,100,100)\n",
    "upperb2 = (180,255,255)\n",
    "dst2 = cv2.inRange(hsv2, lowerb2, upperb2)"
   ]
  },
  {
   "cell_type": "code",
   "execution_count": 4,
   "metadata": {},
   "outputs": [],
   "source": [
    "cv2.imshow('src1', src1)\n",
    "cv2.imshow('dst1', dst1)\n",
    "cv2.imshow('src2', src2)\n",
    "cv2.imshow('dst2', dst2)\n",
    "cv2.waitKey()\n",
    "cv2.destroyAllWindows()"
   ]
  }
 ],
 "metadata": {
  "kernelspec": {
   "display_name": "Python 3.10.6 64-bit",
   "language": "python",
   "name": "python3"
  },
  "language_info": {
   "codemirror_mode": {
    "name": "ipython",
    "version": 3
   },
   "file_extension": ".py",
   "mimetype": "text/x-python",
   "name": "python",
   "nbconvert_exporter": "python",
   "pygments_lexer": "ipython3",
   "version": "3.10.6"
  },
  "orig_nbformat": 4,
  "vscode": {
   "interpreter": {
    "hash": "916dbcbb3f70747c44a77c7bcd40155683ae19c65e1c03b4aa3499c5328201f1"
   }
  }
 },
 "nbformat": 4,
 "nbformat_minor": 2
}
