{
 "cells": [
  {
   "cell_type": "code",
   "execution_count": 1,
   "metadata": {},
   "outputs": [],
   "source": [
    "import cv2\n",
    "import numpy as np"
   ]
  },
  {
   "cell_type": "markdown",
   "metadata": {},
   "source": [
    "# 예제 7.6 윤곽선 검출 및 그리기 1: mode = cv2.RETR_EXTERNAL\n",
    "### <span style='background-color:#fff5b1'>cv2.findContours(image, mode, method)\n",
    "1-채널 8비트 영상 image에서 윤곽선을 검출하여 리스트 형태로 반환, 윤곽선 계층 구조에 관한 배열 hierarchy 반환 \\\n",
    "**mode** 윤곽선의 검색 모드(가장 외곽 RETR_EXTERNAL, 모든 윤곽선 RETR_LIST, 계층 구조의 모든 윤곽선 RETR_CCOMP, 계층적 트리 형태의 모든 윤곽선 RETR_TREE) \\\n",
    "**method** 윤곽선의 근사 방법"
   ]
  },
  {
   "cell_type": "code",
   "execution_count": 2,
   "metadata": {},
   "outputs": [],
   "source": [
    "src = np.zeros(shape = (512,512,3), dtype = np.uint8)\n",
    "cv2.rectangle(src, (50,100), (450,400), (255,255,255), -1)\n",
    "cv2.rectangle(src, (100,150), (400,350), (0,0,0), -1)\n",
    "cv2.rectangle(src, (200,200), (300,300), (255,255,255), -1)\n",
    "gray = cv2.cvtColor(src, cv2.COLOR_BGR2GRAY)"
   ]
  },
  {
   "cell_type": "code",
   "execution_count": 3,
   "metadata": {},
   "outputs": [
    {
     "name": "stdout",
     "output_type": "stream",
     "text": [
      "<class 'tuple'> <class 'numpy.ndarray'> 1 (4, 1, 2)\n",
      "[[[ 50 100]]\n",
      "\n",
      " [[ 50 400]]\n",
      "\n",
      " [[450 400]]\n",
      "\n",
      " [[450 100]]]\n"
     ]
    }
   ],
   "source": [
    "mode = cv2.RETR_EXTERNAL\n",
    "method = cv2.CHAIN_APPROX_SIMPLE\n",
    "contours, hierarchy = cv2.findContours(gray, mode, method)\n",
    "print(type(contours), type(contours[0]), len(contours), contours[0].shape)\n",
    "print(contours[0])"
   ]
  },
  {
   "cell_type": "code",
   "execution_count": 4,
   "metadata": {},
   "outputs": [],
   "source": [
    "cv2.drawContours(src, contours, -1, (255,0,0), 3)\n",
    "\n",
    "for pt in contours[0][:]:\n",
    "    cv2.circle(src, (pt[0][0], pt[0][1]), 5, (0,0,255), -1)\n",
    "\n",
    "cv2.imshow('src', src)\n",
    "cv2.waitKey()\n",
    "cv2.destroyAllWindows()"
   ]
  },
  {
   "cell_type": "markdown",
   "metadata": {},
   "source": [
    "# 예제 7.8 윤곽선 검출 및 그리기 2: mode = cv2.RETR_LIST\n",
    "모든 윤곽선 검출"
   ]
  },
  {
   "cell_type": "code",
   "execution_count": 5,
   "metadata": {},
   "outputs": [],
   "source": [
    "src = np.zeros(shape = (512,512,3), dtype = np.uint8)\n",
    "cv2.rectangle(src, (50, 100), (450,400), (255,255,255), -1)\n",
    "cv2.rectangle(src, (100,150), (400,350), (0,0,0), -1)\n",
    "cv2.rectangle(src, (200,200), (300,300), (255,255,255), -1)\n",
    "gray = cv2.cvtColor(src, cv2.COLOR_BGR2GRAY)"
   ]
  },
  {
   "cell_type": "code",
   "execution_count": 6,
   "metadata": {},
   "outputs": [
    {
     "name": "stdout",
     "output_type": "stream",
     "text": [
      "3 (4, 1, 2)\n",
      "(array([[[200, 200]],\n",
      "\n",
      "       [[200, 300]],\n",
      "\n",
      "       [[300, 300]],\n",
      "\n",
      "       [[300, 200]]], dtype=int32), array([[[ 99, 150]],\n",
      "\n",
      "       [[100, 149]],\n",
      "\n",
      "       [[400, 149]],\n",
      "\n",
      "       [[401, 150]],\n",
      "\n",
      "       [[401, 350]],\n",
      "\n",
      "       [[400, 351]],\n",
      "\n",
      "       [[100, 351]],\n",
      "\n",
      "       [[ 99, 350]]], dtype=int32), array([[[ 50, 100]],\n",
      "\n",
      "       [[ 50, 400]],\n",
      "\n",
      "       [[450, 400]],\n",
      "\n",
      "       [[450, 100]]], dtype=int32))\n"
     ]
    }
   ],
   "source": [
    "mode = cv2.RETR_LIST\n",
    "method = cv2.CHAIN_APPROX_SIMPLE\n",
    "contours, hierarchy = cv2.findContours(gray, mode, method)\n",
    "print(len(contours), contours[0].shape)\n",
    "print(contours)"
   ]
  },
  {
   "cell_type": "code",
   "execution_count": 7,
   "metadata": {},
   "outputs": [],
   "source": [
    "for cnt in contours:\n",
    "    cv2.drawContours(src, [cnt], 0, (255,0,0), 3)\n",
    "    for pt in cnt:\n",
    "        cv2.circle(src, (pt[0][0], pt[0][1]), 5, (0,0,255), -1)\n",
    "\n",
    "cv2.imshow('src', src)\n",
    "cv2.waitKey()\n",
    "cv2.destroyAllWindows()"
   ]
  }
 ],
 "metadata": {
  "kernelspec": {
   "display_name": "Python 3.10.6 64-bit",
   "language": "python",
   "name": "python3"
  },
  "language_info": {
   "codemirror_mode": {
    "name": "ipython",
    "version": 3
   },
   "file_extension": ".py",
   "mimetype": "text/x-python",
   "name": "python",
   "nbconvert_exporter": "python",
   "pygments_lexer": "ipython3",
   "version": "3.10.6"
  },
  "orig_nbformat": 4,
  "vscode": {
   "interpreter": {
    "hash": "916dbcbb3f70747c44a77c7bcd40155683ae19c65e1c03b4aa3499c5328201f1"
   }
  }
 },
 "nbformat": 4,
 "nbformat_minor": 2
}
