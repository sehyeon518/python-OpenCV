{
 "cells": [
  {
   "cell_type": "code",
   "execution_count": 1,
   "metadata": {},
   "outputs": [],
   "source": [
    "import cv2\n",
    "import numpy as np"
   ]
  },
  {
   "cell_type": "markdown",
   "metadata": {},
   "source": [
    "# 예제 7.8 cv2.floodFill() 영역 채우기\n",
    "### <span style='background-color:#fff5b1'>cv2.floodFill(image, mask, seedPoint, newVal)</span>\n",
    "image에서 seedPoint 점에서 시작하여 물체 내부를 특정 값으로 채움 \\\n",
    "채워진 영역의 바운딩 사각형 rect 반환 \\\n",
    "**mask** 8비트 단일 채널, 크기는 image보다 가로 세로 각각 2씩 큼"
   ]
  },
  {
   "cell_type": "code",
   "execution_count": 2,
   "metadata": {},
   "outputs": [
    {
     "name": "stdout",
     "output_type": "stream",
     "text": [
      "(202, 202, 197, 197)\n"
     ]
    }
   ],
   "source": [
    "src = np.full((512,512,3), (255,255,255), dtype=np.uint8)\n",
    "cv2.rectangle(src, (50,50), (200,200), (0,0,255), 2)\n",
    "cv2.circle(src, (300,300), 100, (0,0,255), 2)\n",
    "\n",
    "dst = src.copy()\n",
    "cv2.floodFill(dst, mask = None, seedPoint = (100,100), newVal = (255,0,0))\n",
    "\n",
    "retval, dst2, mask, rect = cv2.floodFill(dst, mask = None, seedPoint = (300,300), newVal = (0,255,0))\n",
    "print(rect)\n",
    "x, y, width, height = rect\n",
    "cv2.rectangle(dst2, (x,y), (x+width, y+height), (255,0,0), 2)\n",
    "\n",
    "cv2.imshow('src', src)\n",
    "cv2.imshow('dst', dst)\n",
    "cv2.waitKey()\n",
    "cv2.destroyAllWindows()"
   ]
  },
  {
   "cell_type": "markdown",
   "metadata": {},
   "source": [
    "# 예제 7.9 cv2.distanceTransform() 거리 계산\n",
    "### <span style='background-color:#fff5b1'>cv2.distanceTransform(image, distanceType, maskSize)</span>\n",
    "영상 영역의 내부의 0이 아닌 화소에서 가장 가까운 0인 화소까지의 거리 계산하여 실수형 배열 dst에 반환 \\\n",
    "**src** 1-채널 8비트 이진 영상 \\\n",
    "**distanceType** 거리 계산 종류(DIST_L1, DIST_L2, DIST_C) \\\n",
    "**maskSize** 마스크 크기(3, 5, DIST_MASK_PRECISE)"
   ]
  },
  {
   "cell_type": "code",
   "execution_count": 3,
   "metadata": {},
   "outputs": [
    {
     "name": "stdout",
     "output_type": "stream",
     "text": [
      "0.0 51.0 (0, 0) (100, 250)\n",
      "0.0 8.0 (0, 0) (52, 200)\n"
     ]
    }
   ],
   "source": [
    "src = np.zeros(shape = (512,512), dtype = np.uint8)\n",
    "cv2.rectangle(src, (50,200), (450,300), (255,255,255), -1)\n",
    "\n",
    "dist = cv2.distanceTransform(src, distanceType = cv2.DIST_L1, maskSize = 3)\n",
    "minVal, maxVal, minLoc, maxLoc = cv2.minMaxLoc(dist)\n",
    "print(minVal, maxVal, minLoc, maxLoc)\n",
    "dst = cv2.normalize(dist, None, 0, 255, cv2.NORM_MINMAX, dtype=cv2.CV_8U)\n",
    "ret, dst2 = cv2.threshold(dist, maxVal-1, 255, cv2.THRESH_BINARY)\n",
    "\n",
    "gx = cv2.Sobel(dist, cv2.CV_32F, 1, 0, ksize = 3)\n",
    "gy = cv2.Sobel(dist, cv2.CV_32F, 0, 1, ksize = 3)\n",
    "mag = cv2.magnitude(gx, gy)\n",
    "minVal, maxVal, minLoc, maxLoc = cv2.minMaxLoc(mag)\n",
    "print(minVal, maxVal, minLoc, maxLoc)\n",
    "ret, dst3 = cv2.threshold(mag, maxVal-2, 255, cv2.THRESH_BINARY_INV)\n",
    "\n",
    "cv2.imshow('src', src)\n",
    "cv2.imshow('dst', dst)\n",
    "cv2.imshow('dst2', dst2)\n",
    "cv2.imshow('dst3', dst3)\n",
    "cv2.waitKey()\n",
    "cv2.destroyAllWindows()"
   ]
  },
  {
   "cell_type": "markdown",
   "metadata": {},
   "source": [
    "# 예제 7.10 cv2.watershed() 영상 분할\n",
    "### <span style='background-color:#fff5b1'>cv2.watershed(image, markers)</span>\n",
    "마커 기반 영상 분할 \\\n",
    "3-채널 8비트 컬러 image에 사용자가 대략적으로 markers에 부분영역을 설정하면 영상을 분할하여 markers 배열 반환 \\\n",
    "**markers** 1-채널 32비트 정수 \\\n",
    "초기에 markers에 주어진 영역의 값을 seed로 하여 나머지 영역을 분할함"
   ]
  },
  {
   "cell_type": "code",
   "execution_count": 6,
   "metadata": {},
   "outputs": [
    {
     "name": "stdout",
     "output_type": "stream",
     "text": [
      "1\n",
      "2\n",
      "3\n"
     ]
    }
   ],
   "source": [
    "src = cv2.imread('../sample/hand.jpg')\n",
    "mask = np.zeros(shape = src.shape[:2], dtype = np.uint8)\n",
    "markers = np.zeros(shape = src.shape[:2], dtype = np.int32)\n",
    "dst = src.copy()\n",
    "cv2.imshow('dst', dst)\n",
    "\n",
    "def onMouse(event, x, y, flags, param):\n",
    "    if event == cv2.EVENT_MOUSEMOVE:\n",
    "        if flags & cv2.EVENT_FLAG_LBUTTON:\n",
    "            cv2.circle(param[0], (x,y), 10, (255,255,255), -1)\n",
    "            cv2.circle(param[1], (x,y), 10, (255,255,255), -1)\n",
    "    cv2.imshow('dst', param[1])\n",
    "    \n",
    "mode = cv2.RETR_EXTERNAL\n",
    "method = cv2.CHAIN_APPROX_SIMPLE\n",
    "while True:\n",
    "    cv2.setMouseCallback('dst', onMouse, [mask, dst])\n",
    "    key = cv2.waitKey(300)\n",
    "    if key == 0x1b:\n",
    "        break\n",
    "    elif key == ord('r'):\n",
    "        mask[:,:] = 0\n",
    "        dst = src.copy()\n",
    "        cv2.imshow('dst', dst)\n",
    "    elif key == ord(' '):\n",
    "        contours, hierarchy = cv2.findContours(mask, mode, method)\n",
    "        print(len(contours))\n",
    "        markers[:,:] = 0\n",
    "        for i, cnt in enumerate(contours):\n",
    "            cv2.drawContours(markers, [cnt], 0, i + 1, -1)\n",
    "        cv2.watershed(src, markers)\n",
    "        dst = src.copy()\n",
    "        dst[markers == -1] = [0,0,255]\n",
    "        for i in range(len(contours)):\n",
    "            r = np.random.randint(256)\n",
    "            g = np.random.randint(256)\n",
    "            b = np.random.randint(256)\n",
    "            dst[markers == i+1] = [b,g,r]\n",
    "\n",
    "            dst = cv2.addWeighted(src, 0.4, dst, 0.6, 0)\n",
    "            cv2.imshow('dst', dst)\n",
    "\n",
    "cv2.destroyAllWindows()"
   ]
  },
  {
   "cell_type": "markdown",
   "metadata": {},
   "source": [
    "# 예제 7.11 cv2.distanceTransform(), cv2.watershed() 영상 분할"
   ]
  }
 ],
 "metadata": {
  "kernelspec": {
   "display_name": "Python 3.10.6 64-bit",
   "language": "python",
   "name": "python3"
  },
  "language_info": {
   "codemirror_mode": {
    "name": "ipython",
    "version": 3
   },
   "file_extension": ".py",
   "mimetype": "text/x-python",
   "name": "python",
   "nbconvert_exporter": "python",
   "pygments_lexer": "ipython3",
   "version": "3.10.6"
  },
  "orig_nbformat": 4,
  "vscode": {
   "interpreter": {
    "hash": "916dbcbb3f70747c44a77c7bcd40155683ae19c65e1c03b4aa3499c5328201f1"
   }
  }
 },
 "nbformat": 4,
 "nbformat_minor": 2
}
