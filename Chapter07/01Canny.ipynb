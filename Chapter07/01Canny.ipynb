{
 "cells": [
  {
   "cell_type": "markdown",
   "metadata": {},
   "source": [
    "# 예제 7.1 에지 검출: cv2.Canny()\n",
    "thin edges 검출\n",
    "### <span style='background-color:#fff5b1'>cv2.Canny(image, threshold1, threshold2)</span>\n",
    "1-채널 8비트 image에서 edge를 검출하여 반환 \\\n",
    "**threshold2** 보다 큰 gradient -> strong edge \\\n",
    "**threshold1** 보다 작은 gradient -> edge 아님 \\\n",
    "**threshold1** < **gradient** < **threshold2** -> weak edge "
   ]
  },
  {
   "cell_type": "code",
   "execution_count": 1,
   "metadata": {},
   "outputs": [
    {
     "data": {
      "text/plain": [
       "array([[169, 169, 168, ..., 173, 159, 150],\n",
       "       [169, 169, 168, ..., 173, 159, 150],\n",
       "       [169, 169, 168, ..., 173, 159, 150],\n",
       "       ...,\n",
       "       [ 54,  55,  58, ..., 114, 114, 114],\n",
       "       [ 53,  55,  60, ..., 116, 117, 118],\n",
       "       [ 53,  56,  61, ..., 117, 119, 120]], dtype=uint8)"
      ]
     },
     "execution_count": 1,
     "metadata": {},
     "output_type": "execute_result"
    }
   ],
   "source": [
    "import cv2\n",
    "import numpy as np\n",
    "\n",
    "src = cv2.imread('../sample/lena.png', cv2.IMREAD_GRAYSCALE)\n",
    "cv2.GaussianBlur(src, (3,3), sigmaX = 0.0)"
   ]
  },
  {
   "cell_type": "code",
   "execution_count": 2,
   "metadata": {},
   "outputs": [],
   "source": [
    "edges1 = cv2.Canny(src, 50, 100)\n",
    "edges2 = cv2.Canny(src, 50, 200) # strong edge 선별 기준(threshold2)이 높아져서 검출된 edge가 적다\n",
    "\n",
    "cv2.imshow('edges1', edges1)\n",
    "cv2.imshow('edges2', edges2)\n",
    "cv2.waitKey()\n",
    "cv2.destroyAllWindows()"
   ]
  }
 ],
 "metadata": {
  "kernelspec": {
   "display_name": "Python 3.10.6 64-bit",
   "language": "python",
   "name": "python3"
  },
  "language_info": {
   "codemirror_mode": {
    "name": "ipython",
    "version": 3
   },
   "file_extension": ".py",
   "mimetype": "text/x-python",
   "name": "python",
   "nbconvert_exporter": "python",
   "pygments_lexer": "ipython3",
   "version": "3.10.6"
  },
  "orig_nbformat": 4,
  "vscode": {
   "interpreter": {
    "hash": "916dbcbb3f70747c44a77c7bcd40155683ae19c65e1c03b4aa3499c5328201f1"
   }
  }
 },
 "nbformat": 4,
 "nbformat_minor": 2
}
