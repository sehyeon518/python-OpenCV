{
 "cells": [
  {
   "cell_type": "code",
   "execution_count": 1,
   "metadata": {},
   "outputs": [],
   "source": [
    "import cv2\n",
    "import numpy as np"
   ]
  },
  {
   "cell_type": "markdown",
   "metadata": {},
   "source": [
    "# 예제 7.12 cv2.pyrDown(), cv2.pyrUp() 피라미드 영상\n",
    "### <span style='background-color:#fff5b1'>cv2.pyrDown(src, dstsize), cv2.pyrUp(src, dstsize)</span>\n",
    "src에 가우시안 필터링을 하고 dstsize로 축소 또는 확대하여 dst 반환"
   ]
  },
  {
   "cell_type": "code",
   "execution_count": 2,
   "metadata": {},
   "outputs": [
    {
     "data": {
      "text/plain": [
       "((256, 256, 3), (128, 128, 3))"
      ]
     },
     "execution_count": 2,
     "metadata": {},
     "output_type": "execute_result"
    }
   ],
   "source": [
    "src = cv2.imread('../sample/lena.png')\n",
    "down2 = cv2.pyrDown(src)\n",
    "down4 = cv2.pyrDown(down2)\n",
    "down2.shape, down4.shape"
   ]
  },
  {
   "cell_type": "code",
   "execution_count": 3,
   "metadata": {},
   "outputs": [
    {
     "data": {
      "text/plain": [
       "((1024, 1024, 3), (2048, 2048, 3))"
      ]
     },
     "execution_count": 3,
     "metadata": {},
     "output_type": "execute_result"
    }
   ],
   "source": [
    "up2 = cv2.pyrUp(src)\n",
    "up4 = cv2.pyrUp(up2)\n",
    "up2.shape, up4.shape"
   ]
  },
  {
   "cell_type": "code",
   "execution_count": 4,
   "metadata": {},
   "outputs": [],
   "source": [
    "cv2.imshow('down2', down2)\n",
    "cv2.imshow('down4', down4)\n",
    "cv2.imshow('up2', up2)\n",
    "cv2.imshow('up4', up4)\n",
    "cv2.waitKey()\n",
    "cv2.destroyAllWindows()"
   ]
  },
  {
   "cell_type": "markdown",
   "metadata": {},
   "source": [
    "# 예제 7.13 cv2.pyrMeanShiftFiltering() 영역 검출\n",
    "### <span style='background-color:#fff5b1'>cv2.pyrMeanShiftFiltering(src, sp, sr, maxLever)</span>\n",
    "src에서 피라미드 기반 meanshift 필터링 수행 \\\n",
    "**src** 3-채널 8비트 컬러 영상 \\\n",
    "**dst** src와 자료형과 크기가 같은 결과 영상 \\\n",
    "-> 평균이동 알고리즘에 의해 유사한 컬러 값을 갖는 화소가 같은 값을 갖는다 \\\n",
    "**sp** 공간 윈도우의 반지름 \\\n",
    "**sr** 컬러 윈도우의 반지름 \\\n",
    "**maxLevel** 피라미드의 최대 레벨"
   ]
  },
  {
   "cell_type": "code",
   "execution_count": 5,
   "metadata": {},
   "outputs": [],
   "source": [
    "def floodFillPostProcess(src, diff = (2,2,2)):\n",
    "    img = src.copy()\n",
    "    rows, cols = img.shape[:2]\n",
    "    mask = np.zeros(shape = (rows + 2, cols + 2), dtype = np.uint8)\n",
    "    for y in range(rows):\n",
    "        for x in range(cols):\n",
    "            if mask[y+1, x+1] == 0:\n",
    "                r = np.random.randint(256)\n",
    "                g = np.random.randint(256)\n",
    "                b = np.random.randint(256)\n",
    "                cv2.floodFill(img, mask, (x,y), (b,g,r), diff, diff)\n",
    "    return img"
   ]
  },
  {
   "cell_type": "code",
   "execution_count": 6,
   "metadata": {},
   "outputs": [],
   "source": [
    "src = cv2.imread('../sample/flower.jpg')\n",
    "hsv = cv2.cvtColor(src, cv2.COLOR_BGR2HSV)\n",
    "dst = floodFillPostProcess(src)\n",
    "dst2 = floodFillPostProcess(hsv)"
   ]
  },
  {
   "cell_type": "code",
   "execution_count": 7,
   "metadata": {},
   "outputs": [],
   "source": [
    "res = cv2.pyrMeanShiftFiltering(src, sp=5, sr=20, maxLevel=4)\n",
    "dst3 = floodFillPostProcess(res)"
   ]
  },
  {
   "cell_type": "code",
   "execution_count": 8,
   "metadata": {},
   "outputs": [],
   "source": [
    "term_crit = (cv2.TermCriteria_EPS + cv2.TermCriteria_MAX_ITER, 10, 2)\n",
    "res2 = cv2.pyrMeanShiftFiltering(hsv, sp=5, sr=20, maxLevel=4, termcrit=term_crit)\n",
    "dst4 = floodFillPostProcess(res2)"
   ]
  },
  {
   "cell_type": "code",
   "execution_count": 9,
   "metadata": {},
   "outputs": [],
   "source": [
    "cv2.imshow('src', src)\n",
    "cv2.imshow('hsv', src)\n",
    "cv2.imshow('dst', dst)\n",
    "cv2.imshow('dst2', dst2)\n",
    "cv2.imshow('res', res)\n",
    "cv2.imshow('dst3', dst3)\n",
    "cv2.imshow('dst4', dst4)\n",
    "cv2.waitKey()\n",
    "cv2.destroyAllWindows()"
   ]
  }
 ],
 "metadata": {
  "kernelspec": {
   "display_name": "Python 3.10.6 64-bit",
   "language": "python",
   "name": "python3"
  },
  "language_info": {
   "codemirror_mode": {
    "name": "ipython",
    "version": 3
   },
   "file_extension": ".py",
   "mimetype": "text/x-python",
   "name": "python",
   "nbconvert_exporter": "python",
   "pygments_lexer": "ipython3",
   "version": "3.10.6"
  },
  "orig_nbformat": 4,
  "vscode": {
   "interpreter": {
    "hash": "916dbcbb3f70747c44a77c7bcd40155683ae19c65e1c03b4aa3499c5328201f1"
   }
  }
 },
 "nbformat": 4,
 "nbformat_minor": 2
}
