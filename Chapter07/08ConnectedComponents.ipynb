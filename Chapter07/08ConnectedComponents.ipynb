{
 "cells": [
  {
   "cell_type": "code",
   "execution_count": 1,
   "metadata": {},
   "outputs": [],
   "source": [
    "import cv2\n",
    "import numpy as np"
   ]
  },
  {
   "cell_type": "markdown",
   "metadata": {},
   "source": [
    "# 예제 7.15 레이블링 1(임계값 이진 영상): cv2.connectedComponents()\n",
    "### <span style='background-color:#fff5b1'>cv2.connectedComponents(image, labels, connectivity)</span>\n",
    "**image** 1-채널 8비트 입력 영상 \\\n",
    "**labels** 연결 요소 정보를 갖는 입력 영상과 같은 크기의 출력 레이블 \\\n",
    "**connectivity** 화소의 이웃 연결성(4 또는 8)"
   ]
  },
  {
   "cell_type": "code",
   "execution_count": 2,
   "metadata": {},
   "outputs": [],
   "source": [
    "# src = np.zeros(shape=(512,512,3), dtype=np.uint8) + 255\n",
    "# cv2.circle(src, (200,200), 80, 0, -1)\n",
    "# cv2.circle(src, (80,80), 60, 0, -1)\n",
    "# cv2.circle(src, (350,350), 80, 0, -1)\n",
    "# cv2.circle(src, (170, 480), 20, 0, -1)\n",
    "# cv2.circle(src, (460, 100), 10, 0, -1)\n",
    "src = cv2.imread('../sample/lena.png')\n",
    "gray = cv2.cvtColor(src, cv2.COLOR_BGR2GRAY)\n",
    "ret, res = cv2.threshold(gray, 128, 255, cv2.THRESH_BINARY_INV)"
   ]
  },
  {
   "cell_type": "code",
   "execution_count": 3,
   "metadata": {},
   "outputs": [
    {
     "data": {
      "text/plain": [
       "385"
      ]
     },
     "execution_count": 3,
     "metadata": {},
     "output_type": "execute_result"
    }
   ],
   "source": [
    "ret, labels = cv2.connectedComponents(res)\n",
    "ret"
   ]
  },
  {
   "cell_type": "code",
   "execution_count": 4,
   "metadata": {},
   "outputs": [],
   "source": [
    "dst = np.zeros(src.shape, dtype=src.dtype)\n",
    "for i in range(1, ret):\n",
    "    r = np.random.randint(256)\n",
    "    g = np.random.randint(256)\n",
    "    b = np.random.randint(256)\n",
    "    dst[labels == i] = [b,g,r]"
   ]
  },
  {
   "cell_type": "code",
   "execution_count": 5,
   "metadata": {},
   "outputs": [],
   "source": [
    "cv2.imshow('res', res)\n",
    "cv2.imshow('dst', dst)\n",
    "cv2.waitKey()\n",
    "cv2.destroyAllWindows()"
   ]
  },
  {
   "cell_type": "markdown",
   "metadata": {},
   "source": [
    "# 예제 7.16 cv2.connectedComponentsWithStats() 레이블링\n",
    "### <span style='background-color:#fff5b1'>connectedComponentsWithStats(image, labels, stats, centroids, connectivity)</span>\n",
    "**image** 1-채널 8비트 입력 영상 \\\n",
    "**stats** 각 레이블에 대해 5열에 바운딩 사각형의 통계정보를 갖는다(left, top, width, height, area) \\\n",
    "**centroids** 각 레이블의 중심 좌표 \\\n",
    "**connectivity** 화소의 이웃 연결성(4 또는 8)"
   ]
  },
  {
   "cell_type": "code",
   "execution_count": 6,
   "metadata": {},
   "outputs": [],
   "source": [
    "src = np.zeros(shape=(512,512,3), dtype=np.uint8) + 255\n",
    "cv2.circle(src, (200,200), 80, 0, -1)\n",
    "cv2.circle(src, (80,80), 60, 0, -1)\n",
    "cv2.circle(src, (350,350), 80, 0, -1)\n",
    "cv2.circle(src, (170, 480), 20, 0, -1)\n",
    "cv2.circle(src, (460, 100), 10, 0, -1)\n",
    "# src = cv2.imread('../sample/lena.png')\n",
    "gray = cv2.cvtColor(src, cv2.COLOR_BGR2GRAY)\n",
    "ret, res = cv2.threshold(gray, 128, 255, cv2.THRESH_BINARY_INV)"
   ]
  },
  {
   "cell_type": "code",
   "execution_count": 7,
   "metadata": {},
   "outputs": [
    {
     "data": {
      "text/plain": [
       "(6,\n",
       " array([[     0,      0,    512,    512, 209119],\n",
       "        [    20,     20,    121,    121,  11289],\n",
       "        [   450,     90,     21,     21,    317],\n",
       "        [   120,    120,    161,    161,  20081],\n",
       "        [   270,    270,    161,    161,  20081],\n",
       "        [   150,    460,     41,     41,   1257]], dtype=int32),\n",
       " array([[261.43302139, 260.11535059],\n",
       "        [ 80.        ,  80.        ],\n",
       "        [460.        , 100.        ],\n",
       "        [200.        , 200.        ],\n",
       "        [350.        , 350.        ],\n",
       "        [170.        , 480.        ]]))"
      ]
     },
     "execution_count": 7,
     "metadata": {},
     "output_type": "execute_result"
    }
   ],
   "source": [
    "ret, labels, stats, centroids = cv2.connectedComponentsWithStats(res)\n",
    "ret, stats, centroids"
   ]
  },
  {
   "cell_type": "code",
   "execution_count": 8,
   "metadata": {},
   "outputs": [],
   "source": [
    "dst = np.zeros(src.shape, dtype=src.dtype)\n",
    "for i in range(1, int(ret)):\n",
    "    r = np.random.randint(256)\n",
    "    g = np.random.randint(256)\n",
    "    b = np.random.randint(256)\n",
    "    dst[labels == i] = [b,g,r]"
   ]
  },
  {
   "cell_type": "code",
   "execution_count": 9,
   "metadata": {},
   "outputs": [],
   "source": [
    "for i in range(1, int(ret)):\n",
    "    x, y, width, height, ares = stats[i]\n",
    "    cv2.rectangle(dst, (x,y), (x+width, y+height), (0,0,255), 2)\n",
    "    cx, cy = centroids[i]\n",
    "    cv2.circle(dst, (int(cx), int(cy)), 5, (255,0,0), -1)"
   ]
  },
  {
   "cell_type": "code",
   "execution_count": 10,
   "metadata": {},
   "outputs": [],
   "source": [
    "cv2.imshow('src', src)\n",
    "cv2.imshow('dst', dst)\n",
    "cv2.waitKey()\n",
    "cv2.destroyAllWindows()"
   ]
  }
 ],
 "metadata": {
  "kernelspec": {
   "display_name": "Python 3.10.6 64-bit",
   "language": "python",
   "name": "python3"
  },
  "language_info": {
   "codemirror_mode": {
    "name": "ipython",
    "version": 3
   },
   "file_extension": ".py",
   "mimetype": "text/x-python",
   "name": "python",
   "nbconvert_exporter": "python",
   "pygments_lexer": "ipython3",
   "version": "3.10.6"
  },
  "orig_nbformat": 4,
  "vscode": {
   "interpreter": {
    "hash": "916dbcbb3f70747c44a77c7bcd40155683ae19c65e1c03b4aa3499c5328201f1"
   }
  }
 },
 "nbformat": 4,
 "nbformat_minor": 2
}
