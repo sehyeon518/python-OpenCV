{
 "cells": [
  {
   "cell_type": "markdown",
   "metadata": {},
   "source": [
    "# 예제 7.14 cv2.kmeans() 컬러 클러스터링 영역 검출\n",
    "### <span style='background-color:#fff5b1'>cv2.kmeans(data, K, bestLabels, criteria, attempts, flags)</span>\n",
    "**data** 클러스터링을 위한 데이터 \\\n",
    "**K** 클러스터 개수 \\\n",
    "**bestLabels** 각 샘플의 클러스터 번호를 labels에 저장 \\\n",
    "**criteria** 종료 조건(반복 회수와 오차 범위) \\\n",
    "**attempts** 알고리즘을 시도하는 횟수 -> 최적의 레이블링 결과를 bestLabels에 저장하여 반환 \\\n",
    "클러스터의 중심 centers 반환 \\\n",
    "**flag** K개의 클러스터 중심을 초기화하는 방법"
   ]
  },
  {
   "cell_type": "code",
   "execution_count": 1,
   "metadata": {},
   "outputs": [],
   "source": [
    "import cv2\n",
    "import numpy as np\n",
    "\n",
    "src = cv2.imread('../sample/hand.jpg')\n",
    "hsv = cv2.cvtColor(src, cv2.COLOR_BGR2HSV)"
   ]
  },
  {
   "cell_type": "code",
   "execution_count": 2,
   "metadata": {},
   "outputs": [
    {
     "data": {
      "text/plain": [
       "array([[255., 255., 255.],\n",
       "       [255., 255., 255.],\n",
       "       [255., 255., 255.],\n",
       "       ...,\n",
       "       [255., 255., 255.],\n",
       "       [255., 255., 255.],\n",
       "       [255., 255., 255.]], dtype=float32)"
      ]
     },
     "execution_count": 2,
     "metadata": {},
     "output_type": "execute_result"
    }
   ],
   "source": [
    "data = src.reshape((-1,3)).astype(np.float32)\n",
    "data"
   ]
  },
  {
   "cell_type": "code",
   "execution_count": 3,
   "metadata": {},
   "outputs": [
    {
     "data": {
      "text/plain": [
       "((2, 3), (220000, 1), 407756994.4463509)"
      ]
     },
     "execution_count": 3,
     "metadata": {},
     "output_type": "execute_result"
    }
   ],
   "source": [
    "K = 2\n",
    "term_crit = (cv2.TERM_CRITERIA_EPS + cv2.TERM_CRITERIA_MAX_ITER, 10, 1.0)\n",
    "ret, labels, centers = cv2.kmeans(data, K, None, term_crit, 5, cv2.KMEANS_RANDOM_CENTERS)\n",
    "centers.shape, labels.shape, ret"
   ]
  },
  {
   "cell_type": "code",
   "execution_count": 4,
   "metadata": {},
   "outputs": [
    {
     "name": "stdout",
     "output_type": "stream",
     "text": [
      "[[1]\n",
      " [1]\n",
      " [1]\n",
      " ...\n",
      " [1]\n",
      " [1]\n",
      " [1]]\n",
      "[1 1 1 ... 1 1 1]\n"
     ]
    }
   ],
   "source": [
    "print(labels)\n",
    "print(labels.flatten())"
   ]
  },
  {
   "cell_type": "code",
   "execution_count": 5,
   "metadata": {},
   "outputs": [],
   "source": [
    "centers = np.uint8(centers)\n",
    "res = centers[labels.flatten()]\n",
    "dst = res.reshape(src.shape)\n",
    "\n",
    "cv2.imshow('dst', dst)\n",
    "cv2.waitKey()\n",
    "cv2.destroyAllWindows()"
   ]
  }
 ],
 "metadata": {
  "kernelspec": {
   "display_name": "Python 3.10.6 64-bit",
   "language": "python",
   "name": "python3"
  },
  "language_info": {
   "codemirror_mode": {
    "name": "ipython",
    "version": 3
   },
   "file_extension": ".py",
   "mimetype": "text/x-python",
   "name": "python",
   "nbconvert_exporter": "python",
   "pygments_lexer": "ipython3",
   "version": "3.10.6"
  },
  "orig_nbformat": 4,
  "vscode": {
   "interpreter": {
    "hash": "916dbcbb3f70747c44a77c7bcd40155683ae19c65e1c03b4aa3499c5328201f1"
   }
  }
 },
 "nbformat": 4,
 "nbformat_minor": 2
}
