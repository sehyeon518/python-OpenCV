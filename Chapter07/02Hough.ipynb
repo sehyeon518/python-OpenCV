{
 "cells": [
  {
   "cell_type": "markdown",
   "metadata": {},
   "source": [
    "# 예제 7.2 직선 검출: cv2.HoughLines()"
   ]
  },
  {
   "cell_type": "code",
   "execution_count": 1,
   "metadata": {},
   "outputs": [],
   "source": [
    "import cv2\n",
    "import numpy as np"
   ]
  },
  {
   "cell_type": "markdown",
   "metadata": {},
   "source": [
    "### <span style='background-color:#fff5b1'>cv2.HoughLines(edges, rho, theta, threshold)</span>\n",
    "1-채널 8비트 image에서 lines 검출하여 반환 \\\n",
    "**lines** 검출된 직선의 parameter가 저장된 배열 \\\n",
    "**rho** 원점으로부터의 거리 간격 \\\n",
    "**theta** x축과의 각도(라디안) \\\n",
    "**threshold** 직선을 검출하기 위한 어큐뮬레이터의 임계값"
   ]
  },
  {
   "cell_type": "code",
   "execution_count": 2,
   "metadata": {},
   "outputs": [
    {
     "name": "stdout",
     "output_type": "stream",
     "text": [
      "(4, 1, 2)\n",
      "[[[400.          0.       ]]\n",
      "\n",
      " [[400.          1.5707964]]\n",
      "\n",
      " [[ 99.          0.       ]]\n",
      "\n",
      " [[ 99.          1.5707964]]]\n"
     ]
    }
   ],
   "source": [
    "src = np.zeros(shape=(512,512), dtype = np.uint8) + 255\n",
    "cv2.rectangle(src, (100,100), (400,400), 0, -1)\n",
    "edges = cv2.Canny(src, 50, 100)\n",
    "lines = cv2.HoughLines(edges, rho = 1, theta = np.pi / 180.0, threshold = 100)\n",
    "print(lines.shape)\n",
    "print(lines)"
   ]
  },
  {
   "cell_type": "code",
   "execution_count": 3,
   "metadata": {},
   "outputs": [],
   "source": [
    "for line in lines:\n",
    "    rho, theta = line[0]\n",
    "    c = np.cos(theta)\n",
    "    s = np.sin(theta)\n",
    "    x0 = c * rho\n",
    "    y0 = s * rho\n",
    "    x1 = int(x0 + 1000 * (-s))\n",
    "    y1 = int(y0 + 1000 * (c))\n",
    "    x2 = int(x0 - 1000 * (-s))\n",
    "    y2 = int(y0 - 1000 * (c))\n",
    "    cv2.line(src, (x1, y1), (x2, y2), (0,0,255), 2)"
   ]
  },
  {
   "cell_type": "code",
   "execution_count": 4,
   "metadata": {},
   "outputs": [],
   "source": [
    "cv2.imshow('edges', edges)\n",
    "cv2.imshow('src', src)\n",
    "cv2.waitKey()\n",
    "cv2.destroyAllWindows()"
   ]
  },
  {
   "cell_type": "markdown",
   "metadata": {},
   "source": [
    "# 예제 7.3 선분 검출: cv2.HoughLinesP()\n",
    "### <span style='background-color:#fff5b1'>cv2.HoughLinesP(edges, rho, theta, threshold)</span>\n",
    "probabilistic Hough 변환을 이용하여 양 긑점이 있는 선분을 lines에 검출하여 반환 \\\n",
    "**lines** 선분의 양 끝점 (x1, y1, x2, y2)을 저장하는 배열 \\\n",
    "**rho** 원점으로부터의 거리 간격 \\\n",
    "**theta**  x축과의 각도(라디안) \\\n",
    "**threshold** 직선을 검출하기 위한 어큐뮬레이터의 임계값 \\\n",
    "**minLineLength** 검출할 최소 직선의 길이 \\\n",
    "**maxLineGap** 직선 위의 edge들의 최대 허용 간격"
   ]
  },
  {
   "cell_type": "code",
   "execution_count": 5,
   "metadata": {},
   "outputs": [
    {
     "name": "stdout",
     "output_type": "stream",
     "text": [
      "(4, 1, 4)\n",
      "[[[100 400 400 400]]\n",
      "\n",
      " [[101  99 399  99]]\n",
      "\n",
      " [[ 99 399  99 101]]\n",
      "\n",
      " [[400 399 400 100]]]\n"
     ]
    }
   ],
   "source": [
    "src = np.zeros(shape=(512,512,3), dtype=np.uint8) + 255\n",
    "cv2.rectangle(src, (100,100), (400,400), 0, -1)\n",
    "\n",
    "edges = cv2.Canny(src, 50, 100)\n",
    "lines = cv2.HoughLinesP(edges, rho = 1, theta = np.pi / 180.0, threshold = 100)\n",
    "print(lines.shape)\n",
    "print(lines)"
   ]
  },
  {
   "cell_type": "code",
   "execution_count": 6,
   "metadata": {},
   "outputs": [],
   "source": [
    "for line in lines:\n",
    "    x1, y1, x2, y2 = line[0]\n",
    "    cv2.line(src, (x1, y1), (x2, y2), (0, 0, 255), 2)"
   ]
  },
  {
   "cell_type": "code",
   "execution_count": 7,
   "metadata": {},
   "outputs": [],
   "source": [
    "cv2.imshow('edges', edges)\n",
    "cv2.imshow('src', src)\n",
    "cv2.waitKey()\n",
    "cv2.destroyAllWindows()"
   ]
  },
  {
   "cell_type": "markdown",
   "metadata": {},
   "source": [
    "# 예제 7.4 원 검출: cv2.HoughCircles()\n",
    "### <span style='background-color:#fff5b1'>cv2.HoughCircles(image, method, dp, minDist, param2)</span>\n",
    "1-채널 8비트 grayscale 영상 image에서 원을 찾아 원의 매개변수 (cx, cy, r)를 저장한 배열 circles를 반환 \\\n",
    "**method** cv2.HOUGH_GRADIENT 방법만 구현되어 있음 \\\n",
    "**dp** 어큐뮬레이터 간격에서 영상 간격으로의 역 비율 \\\n",
    "**minDist** 검출된 원의 중심 사이의 최소 거리 -> 너무 작으면 많은 원이 검출되고 너무 크면 검출하지 못하는 원이 있을 수 있음 \\\n",
    "**param1** Canny edge 검출의 높은 임계값 threshold2(threshold1은 param1/2) \\\n",
    "**param2** 어큐뮬레이터의 임계값 \\\n",
    "**minRadius** 원의 최소 반지름 \\\n",
    "**maxRadius** 원의 최대 반지름"
   ]
  },
  {
   "cell_type": "code",
   "execution_count": 8,
   "metadata": {},
   "outputs": [
    {
     "name": "stdout",
     "output_type": "stream",
     "text": [
      "(1, 5, 3)\n",
      "[[[348 349  79]\n",
      "  [198 200  80]\n",
      "  [ 78  80  60]\n",
      "  [171 480  21]\n",
      "  [460 100   9]]]\n"
     ]
    }
   ],
   "source": [
    "src1 = np.zeros(shape=(512,512,3), dtype=np.uint8) + 255\n",
    "cv2.circle(src1, (200,200), 80, 0, -1)\n",
    "cv2.circle(src1, (80,80), 60, 0, -1)\n",
    "cv2.circle(src1, (350,350), 80, 0, -1)\n",
    "cv2.circle(src1, (170, 480), 20, 0, -1)\n",
    "cv2.circle(src1, (460, 100), 10, 0, -1)\n",
    "gray1 = cv2.cvtColor(src1, cv2.COLOR_BGR2GRAY)\n",
    "\n",
    "circles1 = cv2.HoughCircles(gray1, method = cv2.HOUGH_GRADIENT, dp=1, minDist=50, param2=15)\n",
    "circles1 = np.int32(circles1)\n",
    "print(circles1.shape)\n",
    "print(circles1)"
   ]
  },
  {
   "cell_type": "code",
   "execution_count": 9,
   "metadata": {},
   "outputs": [],
   "source": [
    "for circle in circles1[0,:]:\n",
    "    cx, cy, r = circle\n",
    "    cv2.circle(src1, (cx, cy), r, (0,0,255), 2)"
   ]
  },
  {
   "cell_type": "code",
   "execution_count": 10,
   "metadata": {},
   "outputs": [],
   "source": [
    "cv2.imshow('circles1', src1)\n",
    "cv2.waitKey()\n",
    "cv2.destroyAllWindows()"
   ]
  },
  {
   "cell_type": "code",
   "execution_count": 11,
   "metadata": {},
   "outputs": [
    {
     "name": "stdout",
     "output_type": "stream",
     "text": [
      "(1, 3, 3)\n",
      "[[[198 200  80]\n",
      "  [348 350  80]\n",
      "  [ 78  80  60]]]\n"
     ]
    }
   ],
   "source": [
    "src2 = np.zeros(shape=(512,512,3), dtype=np.uint8) + 255\n",
    "cv2.circle(src2, (200,200), 80, 0, -1)\n",
    "cv2.circle(src2, (80,80), 60, 0, -1)\n",
    "cv2.circle(src2, (350,350), 80, 0, -1)\n",
    "cv2.circle(src2, (170, 480), 20, 0, -1)\n",
    "cv2.circle(src2, (460, 100), 10, 0, -1)\n",
    "gray2 = cv2.cvtColor(src2, cv2.COLOR_BGR2GRAY)\n",
    "\n",
    "circles2 = cv2.HoughCircles(gray2, method = cv2.HOUGH_GRADIENT, dp=1, minDist=50, param2=15, minRadius=30, maxRadius=100)\n",
    "circles2 = np.int32(circles2)\n",
    "print(circles2.shape)\n",
    "print(circles2)"
   ]
  },
  {
   "cell_type": "code",
   "execution_count": 12,
   "metadata": {},
   "outputs": [],
   "source": [
    "for circle in circles2[0,:]:\n",
    "    cx, cy, r = circle\n",
    "    cv2.circle(src2, (cx, cy), r, (0,0,255), 2)"
   ]
  },
  {
   "cell_type": "code",
   "execution_count": 13,
   "metadata": {},
   "outputs": [],
   "source": [
    "cv2.imshow('src2', src2)\n",
    "cv2.waitKey()\n",
    "cv2.destroyAllWindows()"
   ]
  }
 ],
 "metadata": {
  "kernelspec": {
   "display_name": "Python 3.10.6 64-bit",
   "language": "python",
   "name": "python3"
  },
  "language_info": {
   "codemirror_mode": {
    "name": "ipython",
    "version": 3
   },
   "file_extension": ".py",
   "mimetype": "text/x-python",
   "name": "python",
   "nbconvert_exporter": "python",
   "pygments_lexer": "ipython3",
   "version": "3.10.6"
  },
  "orig_nbformat": 4,
  "vscode": {
   "interpreter": {
    "hash": "916dbcbb3f70747c44a77c7bcd40155683ae19c65e1c03b4aa3499c5328201f1"
   }
  }
 },
 "nbformat": 4,
 "nbformat_minor": 2
}
