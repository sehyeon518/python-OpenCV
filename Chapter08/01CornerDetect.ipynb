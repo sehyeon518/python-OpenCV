{
 "cells": [
  {
   "cell_type": "code",
   "execution_count": 1,
   "metadata": {},
   "outputs": [],
   "source": [
    "import cv2\n",
    "import numpy as np"
   ]
  },
  {
   "cell_type": "markdown",
   "metadata": {},
   "source": [
    "# 예제 8.1 cv2.preCornerDetect() 코너점 검출"
   ]
  },
  {
   "cell_type": "code",
   "execution_count": 2,
   "metadata": {},
   "outputs": [],
   "source": [
    "def findLocalMaxima(src):\n",
    "    kernel = cv2.getStructuringElement(shape = cv2.MORPH_RECT, ksize = (11,11)) # 1로 채워진 11*11 크기의 배열\n",
    "    dilate = cv2.dilate(src, kernel) # 팽창: 전경이 되는 이미지의 경계 부분을 팽창 -> 전경 이미지가 굵어지는 효과\n",
    "    localMax = (src == dilate) # 픽셀값의 변화가 없는 곳(배경이나 전경 이미지)은 1, 변화가 생긴 곳(전경 이미지 굻어지는 부분)은 0\n",
    "    # print(localMax)\n",
    "    erode = cv2.erode(src, kernel) # 침식: 전경이 되는 이미지의 경계 부분을 침식시켜 배경 이미지로 전환 -> 전경 이미지가 가늘어지는 효과\n",
    "    localMax2 = src > erode\n",
    "    # print(localMax2)\n",
    "    localMax &= localMax2\n",
    "    points = np.argwhere(localMax == True)\n",
    "    points[:,[0,1]] = points[:,[1,0]]\n",
    "    return points"
   ]
  },
  {
   "cell_type": "markdown",
   "metadata": {},
   "source": [
    "<details>\n",
    "<summary>erosion 이미지</summary>\n",
    "<div markdown=\"1\">\n",
    "<img src=\"https://user-images.githubusercontent.com/84698896/213682801-d5c866e2-2241-4387-be50-8f6f843cd443.png\"  width=\"20%\" height=\"20%\"/>\n",
    "</div>\n",
    "</details>"
   ]
  },
  {
   "cell_type": "markdown",
   "metadata": {},
   "source": [
    "### <span style='background-color:#fff5b1'>cv2.preCornerDetect(src, ksize)</span>\n",
    "src에서 코너점 검출을 위한 특징맵 dst를 sobel 미분 연산자를 이용하여 계산"
   ]
  },
  {
   "cell_type": "code",
   "execution_count": 3,
   "metadata": {},
   "outputs": [
    {
     "data": {
      "text/plain": [
       "(8, 2)"
      ]
     },
     "execution_count": 3,
     "metadata": {},
     "output_type": "execute_result"
    }
   ],
   "source": [
    "src = np.zeros(shape = (512,512,3), dtype = np.uint8) + 255\n",
    "cv2.rectangle(src, (100,100), (300,300), (0,0,0), -1)\n",
    "cv2.rectangle(src, (200,200), (400,400), (0,0,0), -1)\n",
    "\n",
    "gray = cv2.cvtColor(src, cv2.COLOR_BGR2GRAY)\n",
    "res = cv2.preCornerDetect(gray, ksize=3)\n",
    "ret, res2 = cv2.threshold(np.abs(res), 0.1, 0, cv2.THRESH_TOZERO)\n",
    "corners = findLocalMaxima(res2)\n",
    "corners.shape"
   ]
  },
  {
   "cell_type": "code",
   "execution_count": 4,
   "metadata": {},
   "outputs": [],
   "source": [
    "dst = src.copy()\n",
    "for x, y in corners:\n",
    "    cv2.circle(dst, (x,y), 5, (0,0,255), 2)\n",
    "\n",
    "cv2.imshow('dst', dst)\n",
    "cv2.waitKey()\n",
    "cv2.destroyAllWindows()"
   ]
  },
  {
   "cell_type": "markdown",
   "metadata": {},
   "source": [
    "# 8.2 코너점 검출: cornerEigenValsAndVecs()\n",
    "### <span style='background-color:#fff5b1'>cv2.cornerDigenValsAndVecs(src, blockSize, ksize)</span>\n",
    "src에서 각 화소의 고유값과 고유 벡터를 6-채널 dst에 계산 \\\n",
    "이웃: blockSize * blockSize"
   ]
  },
  {
   "cell_type": "code",
   "execution_count": 5,
   "metadata": {},
   "outputs": [
    {
     "data": {
      "text/plain": [
       "(512, 512, 6)"
      ]
     },
     "execution_count": 5,
     "metadata": {},
     "output_type": "execute_result"
    }
   ],
   "source": [
    "gray = cv2.cvtColor(src, cv2.COLOR_BGR2GRAY)\n",
    "res = cv2.cornerEigenValsAndVecs(gray, blockSize = 5, ksize = 3)\n",
    "eigen = cv2.split(res)\n",
    "res.shape"
   ]
  },
  {
   "cell_type": "code",
   "execution_count": 6,
   "metadata": {},
   "outputs": [],
   "source": [
    "T = 0.2\n",
    "ret, edge = cv2.threshold(eigen[0], T, 255, cv2.THRESH_BINARY)\n",
    "edge = edge.astype(np.uint8)"
   ]
  },
  {
   "cell_type": "code",
   "execution_count": 7,
   "metadata": {},
   "outputs": [
    {
     "data": {
      "text/plain": [
       "8"
      ]
     },
     "execution_count": 7,
     "metadata": {},
     "output_type": "execute_result"
    }
   ],
   "source": [
    "corners = np.argwhere(eigen[1] > T)\n",
    "corners[:,[0,1]] = corners[:,[1,0]]\n",
    "len(corners)"
   ]
  },
  {
   "cell_type": "code",
   "execution_count": 8,
   "metadata": {},
   "outputs": [],
   "source": [
    "dst = src.copy()\n",
    "for x, y in corners:\n",
    "    cv2.circle(dst, (x,y), 5, (0,0,255), 2)\n",
    "\n",
    "cv2.imshow('edge', edge)\n",
    "cv2.imshow('dst', dst)\n",
    "cv2.waitKey()\n",
    "cv2.destroyAllWindows()"
   ]
  },
  {
   "cell_type": "markdown",
   "metadata": {},
   "source": [
    "# 예제 8.3 코너점 검출 1: cv2.cornerMinEigenVal()\n",
    "### <span style='background-color:#fff5b1'>cv2.cornerMinEigenVal(src, blockSize = 5)</span>\n",
    "src에서 각 화소의 최소 고유값을 dst로 반환"
   ]
  },
  {
   "cell_type": "code",
   "execution_count": 9,
   "metadata": {},
   "outputs": [
    {
     "data": {
      "text/plain": [
       "(512, 512)"
      ]
     },
     "execution_count": 9,
     "metadata": {},
     "output_type": "execute_result"
    }
   ],
   "source": [
    "gray = cv2.cvtColor(src, cv2.COLOR_BGR2GRAY)\n",
    "eigen = cv2.cornerMinEigenVal(gray, blockSize=5)\n",
    "eigen.shape"
   ]
  },
  {
   "cell_type": "code",
   "execution_count": 10,
   "metadata": {},
   "outputs": [
    {
     "data": {
      "text/plain": [
       "8"
      ]
     },
     "execution_count": 10,
     "metadata": {},
     "output_type": "execute_result"
    }
   ],
   "source": [
    "T = 0.2\n",
    "corners = np.argwhere(eigen > T)\n",
    "corners[:,[0,1]] = corners[:,[1,0]]\n",
    "len(corners)"
   ]
  },
  {
   "cell_type": "code",
   "execution_count": 11,
   "metadata": {},
   "outputs": [],
   "source": [
    "dst = src.copy()\n",
    "for x, y in corners:\n",
    "    cv2.circle(dst, (x,y), 3, (0,0,255), 2)\n",
    "\n",
    "cv2.imshow('dst', dst)\n",
    "cv2.waitKey()\n",
    "cv2.destroyAllWindows()"
   ]
  },
  {
   "cell_type": "markdown",
   "metadata": {},
   "source": [
    "# 예제 8.4 코너점 검출 2: cv2.cornerHarris(), cv2.cornerSubPix()\n",
    "### <span style='background-color:#fff5b1'>cv2.cornerSubPix(src, blockSize, ksize, k)</span>\n",
    "src에서 각 화소의 Harris 반응값을 계산하여 dst에 반환"
   ]
  },
  {
   "cell_type": "code",
   "execution_count": 12,
   "metadata": {},
   "outputs": [
    {
     "data": {
      "text/plain": [
       "array([[101, 101],\n",
       "       [299, 101],\n",
       "       [302, 198],\n",
       "       [399, 201],\n",
       "       [101, 299],\n",
       "       [198, 302],\n",
       "       [201, 399],\n",
       "       [399, 399]])"
      ]
     },
     "execution_count": 12,
     "metadata": {},
     "output_type": "execute_result"
    }
   ],
   "source": [
    "gray = cv2.cvtColor(src, cv2.COLOR_BGR2GRAY)\n",
    "res = cv2.cornerHarris(gray, blockSize = 5, ksize = 3, k = 0.01)\n",
    "ret, res = cv2.threshold(np.abs(res), 0.02, 0, cv2.THRESH_TOZERO)\n",
    "res8 = cv2.normalize(res, None, 0, 255,  cv2.NORM_MINMAX, dtype = cv2.CV_8U)\n",
    "\n",
    "corners = findLocalMaxima(res)\n",
    "corners"
   ]
  },
  {
   "cell_type": "markdown",
   "metadata": {},
   "source": [
    "### <span style='background-color:#fff5b1'>cv2.cornerSubPix(src, corners, winSize, zeroZone, criteria)</span>\n",
    "src에서 검출된 코너점 corners를 입력하여 코너점의 위치를 부화소 수준으로 다시 계산하여 반환 \\\n",
    "**winSize** 탐색 영역의 크기 \\\n",
    "**zeroZone** winSize 내에서 zeroZone 영역을 마스크 처리하여 탐색 영역에서 계산하지 않음"
   ]
  },
  {
   "cell_type": "code",
   "execution_count": 13,
   "metadata": {},
   "outputs": [
    {
     "data": {
      "text/plain": [
       "array([[ 99.55921,  99.55921],\n",
       "       [300.4408 ,  99.55921],\n",
       "       [300.5592 , 199.44078],\n",
       "       [400.4408 , 199.55922],\n",
       "       [ 99.55921, 300.4408 ],\n",
       "       [199.44078, 300.5592 ],\n",
       "       [199.55922, 400.4408 ],\n",
       "       [400.4408 , 400.4408 ]], dtype=float32)"
      ]
     },
     "execution_count": 13,
     "metadata": {},
     "output_type": "execute_result"
    }
   ],
   "source": [
    "corners = corners.astype(np.float32, order = 'C')\n",
    "term_crit = (cv2.TERM_CRITERIA_MAX_ITER + cv2.TERM_CRITERIA_EPS, 10, 0.01)\n",
    "\n",
    "corners2 = cv2.cornerSubPix(gray, corners, (5,5), (-1,-1), term_crit)\n",
    "corners2"
   ]
  },
  {
   "cell_type": "code",
   "execution_count": 14,
   "metadata": {},
   "outputs": [],
   "source": [
    "dst = src.copy()\n",
    "for x, y in np.int32(corners2):\n",
    "    cv2.circle(dst, (x,y), 3, (0,0,255), 2)\n",
    "cv2.imshow('res8', res8)\n",
    "cv2.imshow('dst', dst)\n",
    "cv2.waitKey()\n",
    "cv2.destroyAllWindows()"
   ]
  },
  {
   "cell_type": "markdown",
   "metadata": {},
   "source": [
    "# 예제 8.5 코너점 검출 2: cv2.cornerHarris(). cv2.cornerSubPix()</span>"
   ]
  },
  {
   "cell_type": "code",
   "execution_count": 15,
   "metadata": {},
   "outputs": [],
   "source": [
    "res = cv2.cornerHarris(gray, blockSize = 5, ksize = 3, k = 0.01)"
   ]
  },
  {
   "cell_type": "code",
   "execution_count": 16,
   "metadata": {},
   "outputs": [],
   "source": [
    "res = cv2.dilate(res, None)\n",
    "ret, res = cv2.threshold(res, 0.01 * res.max(), 255, cv2.THRESH_BINARY)\n",
    "res8 = np.uint8(res)"
   ]
  },
  {
   "cell_type": "code",
   "execution_count": 17,
   "metadata": {},
   "outputs": [
    {
     "data": {
      "text/plain": [
       "(9, 2)"
      ]
     },
     "execution_count": 17,
     "metadata": {},
     "output_type": "execute_result"
    }
   ],
   "source": [
    "ret, labels, stats, centroids = cv2.connectedComponentsWithStats(res8)\n",
    "centroids = np.float32(centroids)\n",
    "centroids.shape"
   ]
  },
  {
   "cell_type": "code",
   "execution_count": 18,
   "metadata": {},
   "outputs": [
    {
     "data": {
      "text/plain": [
       "array([[255.50824 , 255.50824 ],\n",
       "       [ 99.557724,  99.557724],\n",
       "       [300.44226 ,  99.557724],\n",
       "       [300.55774 , 199.44228 ],\n",
       "       [400.44226 , 199.55772 ],\n",
       "       [ 99.557724, 300.44226 ],\n",
       "       [199.44228 , 300.55774 ],\n",
       "       [199.55772 , 400.44226 ],\n",
       "       [400.44226 , 400.44226 ]], dtype=float32)"
      ]
     },
     "execution_count": 18,
     "metadata": {},
     "output_type": "execute_result"
    }
   ],
   "source": [
    "tern_crit = (cv2.TermCriteria_MAX_ITER + cv2.TermCriteria_EPS, 10, 0.001)\n",
    "corners = cv2.cornerSubPix(gray, centroids, (5,5), (-1,-1), term_crit)\n",
    "corners"
   ]
  },
  {
   "cell_type": "code",
   "execution_count": 19,
   "metadata": {},
   "outputs": [],
   "source": [
    "corners = np.round(corners)\n",
    "dst = src.copy()\n",
    "for x, y in corners[1:]:\n",
    "    cv2.circle(dst, (int(x), int(y)), 5, (0,0,255), 2)\n",
    "\n",
    "cv2.imshow('res8', res)\n",
    "cv2.imshow('dst', dst)\n",
    "cv2.waitKey()\n",
    "cv2.destroyAllWindows()"
   ]
  },
  {
   "cell_type": "markdown",
   "metadata": {},
   "source": [
    "# 예제 8.6 cv2.goodFeaturesToTrack() 코너점 검출\n",
    "### <span style='background-color:#fff5b1'>cv2.goodFeaturesToTrack(src, maxCorners, qulityLevel, minDistance, corners, mask, blockSize, useHarrisDetector, k)</span>\n",
    "src에서 추적하기 좋은 강한 코너점을 검출하여 반환 \\\n",
    "**maxCorners** 최대 코너점 개수 \\\n",
    "**qualityLevel** 최소 코너점읠 quality를 결정하는 값 \\\n",
    "**minDistance** 코너점들 사이의 최소 거리 \\\n",
    "**mask** 코너점이 검출될 영역 \\\n",
    "**useHarrisDetector** cv2.cornerHarris : cv2.cornerMinEigenVal() \\\n",
    "**k** Harris 검출에 사용되는 상수"
   ]
  },
  {
   "cell_type": "code",
   "execution_count": 20,
   "metadata": {},
   "outputs": [
    {
     "data": {
      "text/plain": [
       "array([[[400., 400.]],\n",
       "\n",
       "       [[200., 400.]],\n",
       "\n",
       "       [[199., 301.]],\n",
       "\n",
       "       [[100., 300.]],\n",
       "\n",
       "       [[400., 200.]]], dtype=float32)"
      ]
     },
     "execution_count": 20,
     "metadata": {},
     "output_type": "execute_result"
    }
   ],
   "source": [
    "K = 5\n",
    "corners = cv2.goodFeaturesToTrack(gray, maxCorners=K, qualityLevel=0.05, minDistance=10)\n",
    "corners"
   ]
  },
  {
   "cell_type": "code",
   "execution_count": 21,
   "metadata": {},
   "outputs": [
    {
     "data": {
      "text/plain": [
       "array([[[400., 400.]],\n",
       "\n",
       "       [[200., 400.]],\n",
       "\n",
       "       [[100., 300.]],\n",
       "\n",
       "       [[400., 200.]],\n",
       "\n",
       "       [[300., 100.]]], dtype=float32)"
      ]
     },
     "execution_count": 21,
     "metadata": {},
     "output_type": "execute_result"
    }
   ],
   "source": [
    "corners2 = cv2.goodFeaturesToTrack(gray, maxCorners=K, qualityLevel=0.05, minDistance=120, useHarrisDetector=True, k=0.04)\n",
    "corners2"
   ]
  },
  {
   "cell_type": "code",
   "execution_count": 22,
   "metadata": {},
   "outputs": [],
   "source": [
    "dst = src.copy()\n",
    "\n",
    "corners = corners.reshape(-1,2)\n",
    "for x, y in corners:\n",
    "    cv2.circle(dst, (int(x), int(y)), 5, (0,0,255), -1)\n",
    "\n",
    "corners2 = corners2.reshape(-1,2)\n",
    "for x, y in corners2:\n",
    "    cv2.circle(dst, (int(x), int(y)), 5, (255,0,0), 2)"
   ]
  },
  {
   "cell_type": "code",
   "execution_count": 23,
   "metadata": {},
   "outputs": [],
   "source": [
    "cv2.imshow('dst', dst)\n",
    "cv2.waitKey()\n",
    "cv2.destroyAllWindows()"
   ]
  }
 ],
 "metadata": {
  "kernelspec": {
   "display_name": "Python 3.10.6 64-bit",
   "language": "python",
   "name": "python3"
  },
  "language_info": {
   "codemirror_mode": {
    "name": "ipython",
    "version": 3
   },
   "file_extension": ".py",
   "mimetype": "text/x-python",
   "name": "python",
   "nbconvert_exporter": "python",
   "pygments_lexer": "ipython3",
   "version": "3.10.6"
  },
  "orig_nbformat": 4,
  "vscode": {
   "interpreter": {
    "hash": "916dbcbb3f70747c44a77c7bcd40155683ae19c65e1c03b4aa3499c5328201f1"
   }
  }
 },
 "nbformat": 4,
 "nbformat_minor": 2
}
