{
 "cells": [
  {
   "cell_type": "code",
   "execution_count": 31,
   "metadata": {},
   "outputs": [],
   "source": [
    "import cv2\n",
    "import numpy as np"
   ]
  },
  {
   "cell_type": "markdown",
   "metadata": {},
   "source": [
    "# 예제 8.1 cv2.preCornerDetect() 코너점 검출"
   ]
  },
  {
   "cell_type": "code",
   "execution_count": 32,
   "metadata": {},
   "outputs": [],
   "source": [
    "def findLocalMaxima(src):\n",
    "    kernel = cv2.getStructuringElement(shape = cv2.MORPH_RECT, ksize = (11,11)) # 1로 채워진 11*11 크기의 배열\n",
    "    dilate = cv2.dilate(src, kernel) # 팽창: 전경이 되는 이미지의 경계 부분을 팽창 -> 전경 이미지가 굵어지는 효과\n",
    "    localMax = (src == dilate) # 픽셀값의 변화가 없는 곳(배경이나 전경 이미지)은 1, 변화가 생긴 곳(전경 이미지 굻어지는 부분)은 0\n",
    "    print(localMax)\n",
    "    erode = cv2.erode(src, kernel) # 침식: 전경이 되는 이미지의 경계 부분을 침식시켜 배경 이미지로 전환 -> 전경 이미지가 가늘어지는 효과\n",
    "    localMax2 = src > erode\n",
    "    print(localMax2)\n",
    "    localMax &= localMax2\n",
    "    points = np.argwhere(localMax == True)\n",
    "    points[:,[0,1]] = points[:,[1,0]]\n",
    "    return points"
   ]
  },
  {
   "cell_type": "markdown",
   "metadata": {},
   "source": [
    "<details>\n",
    "<summary>erosion 이미지</summary>\n",
    "<div markdown=\"1\">\n",
    "<img src=\"https://user-images.githubusercontent.com/84698896/213682801-d5c866e2-2241-4387-be50-8f6f843cd443.png\"  width=\"20%\" height=\"20%\"/>\n",
    "</div>\n",
    "</details>"
   ]
  },
  {
   "cell_type": "markdown",
   "metadata": {},
   "source": [
    "### <span style='background-color:#fff5b1'>cv2.preCornerDetect(src, ksize)</span>\n",
    "src에서 코너점 검출을 위한 특징맵 dst를 sobel 미분 연산자를 이용하여 계산"
   ]
  },
  {
   "cell_type": "code",
   "execution_count": 33,
   "metadata": {},
   "outputs": [
    {
     "name": "stdout",
     "output_type": "stream",
     "text": [
      "[[1 1 1 1 1 1 1 1 1 1 1]\n",
      " [1 1 1 1 1 1 1 1 1 1 1]\n",
      " [1 1 1 1 1 1 1 1 1 1 1]\n",
      " [1 1 1 1 1 1 1 1 1 1 1]\n",
      " [1 1 1 1 1 1 1 1 1 1 1]\n",
      " [1 1 1 1 1 1 1 1 1 1 1]\n",
      " [1 1 1 1 1 1 1 1 1 1 1]\n",
      " [1 1 1 1 1 1 1 1 1 1 1]\n",
      " [1 1 1 1 1 1 1 1 1 1 1]\n",
      " [1 1 1 1 1 1 1 1 1 1 1]\n",
      " [1 1 1 1 1 1 1 1 1 1 1]]\n",
      "dilate\n",
      "[[0.    0.    0.    ... 1.125 1.125 1.125]\n",
      " [0.    0.    0.    ... 1.125 1.125 1.125]\n",
      " [0.    0.    0.    ... 1.125 1.125 1.125]\n",
      " ...\n",
      " [1.125 1.125 1.125 ... 1.125 1.125 1.125]\n",
      " [1.125 1.125 1.125 ... 1.125 1.125 1.125]\n",
      " [1.125 1.125 1.125 ... 1.125 1.125 1.125]]\n",
      "[[ True  True  True ...  True  True  True]\n",
      " [ True  True  True ...  True  True  True]\n",
      " [ True  True  True ...  True  True  True]\n",
      " ...\n",
      " [ True  True  True ...  True  True  True]\n",
      " [ True  True  True ...  True  True  True]\n",
      " [ True  True  True ...  True  True  True]]\n",
      "[[False False False ... False False False]\n",
      " [False False False ... False False False]\n",
      " [False False False ... False False False]\n",
      " ...\n",
      " [False False False ... False False False]\n",
      " [False False False ... False False False]\n",
      " [False False False ... False False False]]\n"
     ]
    }
   ],
   "source": [
    "src = np.zeros(shape = (512,512,3), dtype = np.uint8) + 255\n",
    "cv2.rectangle(src, (100,100), (300,300), (0,0,0), -1)\n",
    "cv2.rectangle(src, (200,200), (400,400), (0,0,0), -1)\n",
    "\n",
    "gray = cv2.cvtColor(src, cv2.COLOR_BGR2GRAY)\n",
    "res = cv2.preCornerDetect(gray, ksize=3)\n",
    "ret, res2 = cv2.threshold(np.abs(res), 0.1, 0, cv2.THRESH_TOZERO)\n",
    "corners = findLocalMaxima(res2)"
   ]
  },
  {
   "cell_type": "code",
   "execution_count": null,
   "metadata": {},
   "outputs": [],
   "source": []
  }
 ],
 "metadata": {
  "kernelspec": {
   "display_name": "Python 3.10.6 64-bit",
   "language": "python",
   "name": "python3"
  },
  "language_info": {
   "codemirror_mode": {
    "name": "ipython",
    "version": 3
   },
   "file_extension": ".py",
   "mimetype": "text/x-python",
   "name": "python",
   "nbconvert_exporter": "python",
   "pygments_lexer": "ipython3",
   "version": "3.10.6"
  },
  "orig_nbformat": 4,
  "vscode": {
   "interpreter": {
    "hash": "916dbcbb3f70747c44a77c7bcd40155683ae19c65e1c03b4aa3499c5328201f1"
   }
  }
 },
 "nbformat": 4,
 "nbformat_minor": 2
}
